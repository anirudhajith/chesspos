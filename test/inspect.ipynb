{
 "nbformat": 4,
 "nbformat_minor": 2,
 "metadata": {
  "language_info": {
   "name": "python",
   "codemirror_mode": {
    "name": "ipython",
    "version": 3
   },
   "version": "3.7.6-final"
  },
  "orig_nbformat": 2,
  "file_extension": ".py",
  "mimetype": "text/x-python",
  "name": "python",
  "npconvert_exporter": "python",
  "pygments_lexer": "ipython3",
  "version": 3,
  "kernelspec": {
   "name": "python37664bitposembcondafe902e4f67854e6d98f2a8ceedfcf887",
   "display_name": "Python 3.7.6 64-bit ('pos-emb': conda)"
  }
 },
 "cells": [
  {
   "cell_type": "code",
   "execution_count": 2,
   "metadata": {},
   "outputs": [],
   "source": [
    "import numpy as np\n",
    "import h5py"
   ]
  },
  {
   "cell_type": "code",
   "execution_count": 7,
   "metadata": {},
   "outputs": [
    {
     "name": "stdout",
     "output_type": "stream",
     "text": "<KeysViewHDF5 ['game_id', 'position']>\n"
    }
   ],
   "source": [
    "with h5py.File('../data/test3_bb.h5py', 'r') as hf: #or _fen\n",
    "    print(hf.keys())\n",
    "    gid = hf['game_id'][:100]\n",
    "    pos = hf['position'][:100]"
   ]
  },
  {
   "cell_type": "code",
   "execution_count": 9,
   "metadata": {},
   "outputs": [
    {
     "name": "stdout",
     "output_type": "stream",
     "text": "(100, 773) [0 0 0 0 0 0 0 0 0 0 0 0 0 0 0 0 0 0 0 0 0 0 0 0 0 1 1 1 1 1 1 1 1 1 1 1 1\n 1 1 1 1 1 1 1 1 1 1 1 1 1 1 1 1 1 1 1 1 1 1 1 2 2 2 2 2 2 2 2 2 2 2 2 2 2\n 2 2 2 2 2 2 2 3 3 3 3 3 3 3 3 3 3 3 3 3 3 3 3 3 3 3] [[False False False ...  True  True  True]\n [False False False ...  True  True  True]\n [False False False ...  True  True  True]]\n"
    }
   ],
   "source": [
    "print(pos.shape, gid, pos[:3])"
   ]
  },
  {
   "cell_type": "code",
   "execution_count": 3,
   "metadata": {},
   "outputs": [
    {
     "name": "stdout",
     "output_type": "stream",
     "text": "(176, 15, 773) bool [[False False False ...  True  True  True]\n [False False False ...  True  True  True]\n [False False False ...  True  True  True]\n ...\n [False False False ... False False False]\n [False False False ...  True  True  True]\n [False False False ... False False False]]\n"
    }
   ],
   "source": [
    "with h5py.File('../data/test3_tuples.h5py', 'r') as hf:\n",
    "    tup = hf['tuples']\n",
    "    print(tup.shape, tup.dtype, tup[0])"
   ]
  },
  {
   "cell_type": "code",
   "execution_count": null,
   "metadata": {},
   "outputs": [],
   "source": []
  }
 ]
}