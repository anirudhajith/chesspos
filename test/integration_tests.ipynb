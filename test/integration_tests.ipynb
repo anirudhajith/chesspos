{
 "nbformat": 4,
 "nbformat_minor": 2,
 "metadata": {
  "language_info": {
   "name": "python",
   "codemirror_mode": {
    "name": "ipython",
    "version": 3
   },
   "version": "3.7.6-final"
  },
  "orig_nbformat": 2,
  "file_extension": ".py",
  "mimetype": "text/x-python",
  "name": "python",
  "npconvert_exporter": "python",
  "pygments_lexer": "ipython3",
  "version": 3,
  "kernelspec": {
   "name": "python37664bitposembcondafe902e4f67854e6d98f2a8ceedfcf887",
   "display_name": "Python 3.7.6 64-bit ('pos-emb': conda)"
  }
 },
 "cells": [
  {
   "cell_type": "code",
   "execution_count": 1,
   "metadata": {},
   "outputs": [
    {
     "output_type": "stream",
     "name": "stdout",
     "text": "/home/pafrank/Documents/coding/chess-position-embedding/test\n"
    }
   ],
   "source": [
    "!pwd"
   ]
  },
  {
   "cell_type": "markdown",
   "metadata": {},
   "source": [
    "### Test pgn_extract.py tool"
   ]
  },
  {
   "cell_type": "code",
   "execution_count": 2,
   "metadata": {},
   "outputs": [
    {
     "output_type": "stream",
     "name": "stdout",
     "text": "Input file at: ../data/raw/test\nFilter options: {}\nPositions saved at: ../data/bitboards/test-bb1\nTuples generated: False\nTuples saved at: None\nChunksize: 10000\n\n\n\nGame positions saved.\nChunk 0 processed.\n3.68user 0.07system 0:03.78elapsed 99%CPU (0avgtext+0avgdata 67816maxresident)k\n2616inputs+224outputs (259major+15037minor)pagefaults 0swaps\n"
    }
   ],
   "source": [
    "# convert all games in that file\n",
    "# .pgn file ending does not need to be provided, it is automatically added, same for output(.h5 file)\n",
    "# do not generate tuples for training\n",
    "!time /home/pafrank/anaconda3/envs/pos-emb/bin/python ../tools/pgn_extract.py ../data/raw/test --save_position ../data/bitboards/test-bb1 --chunksize 10000"
   ]
  },
  {
   "cell_type": "code",
   "execution_count": 4,
   "metadata": {},
   "outputs": [
    {
     "output_type": "stream",
     "name": "stdout",
     "text": "Input file at: ../data/raw/test\nFilter options: {'elo_min': '1800', 'time_min': '61'}\nPositions saved at: ../data/bitboards/test-bb2\nTuples generated: True\nTuples saved at: ../data/train_small/test2-tuples-strong\nChunksize: 10000\n\n\n\nGame positions saved.\nTuples generated.\nTuples saved.\nChunk 0 processed.\n1.14user 0.05system 0:01.23elapsed 97%CPU (0avgtext+0avgdata 47536maxresident)k\n192inputs+80outputs (20major+11616minor)pagefaults 0swaps\n"
    }
   ],
   "source": [
    "# convert all games in that file\n",
    "# .pgn file ending does not need to be provided, it is automatically added, same for output(.h5 file)\n",
    "# also generate tuples for training\n",
    "# this time filter games based on elo and time control\n",
    "!time /home/pafrank/anaconda3/envs/pos-emb/bin/python ../tools/pgn_extract.py ../data/raw/test --save_position ../data/bitboards/test-bb2 --chunksize 10000 --tuples True --save_tuples ../data/train_small/test2-tuples-strong --filter elo_min=1800 --filter time_min=61"
   ]
  },
  {
   "cell_type": "code",
   "execution_count": null,
   "metadata": {},
   "outputs": [],
   "source": []
  }
 ]
}