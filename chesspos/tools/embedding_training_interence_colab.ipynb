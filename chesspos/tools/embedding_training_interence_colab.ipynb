{
  "nbformat": 4,
  "nbformat_minor": 0,
  "metadata": {
    "colab": {
      "name": "training.ipynb",
      "provenance": [],
      "collapsed_sections": [],
      "toc_visible": true
    },
    "kernelspec": {
      "name": "python3",
      "display_name": "Python 3"
    },
    "accelerator": "GPU"
  },
  "cells": [
    {
      "source": [
        "## Setup"
      ],
      "cell_type": "markdown",
      "metadata": {}
    },
    {
      "cell_type": "code",
      "metadata": {
        "id": "vjoXVSwBUX36"
      },
      "source": [
        "%tensorflow_version 2.x"
      ],
      "execution_count": null,
      "outputs": []
    },
    {
      "cell_type": "code",
      "execution_count": null,
      "metadata": {},
      "outputs": [],
      "source": [
        "!pip install tensorflow==2.1"
      ]
    },
    {
      "cell_type": "code",
      "metadata": {
        "id": "tWCT3lorNx0Y",
        "colab": {
          "base_uri": "https://localhost:8080/",
          "height": 237
        },
        "outputId": "2ad849c4-92ed-4d22-b24c-7c89dca90b82"
      },
      "source": [
        "!pip install python-chess\n",
        "!git clone https://github.com/patrickfrank1/chesspos.git\n",
        "!cd chesspos && pip install -e ."
      ],
      "execution_count": null,
      "outputs": []
    },
    {
      "source": [
        "## Training"
      ],
      "cell_type": "markdown",
      "metadata": {}
    },
    {
      "cell_type": "code",
      "metadata": {
        "id": "E-QT7rsGM2h6"
      },
      "source": [
        "# pull train and validation data to local machine from AWS\n",
        "!wget https://chess-position-files.s3.amazonaws.com/tuples/train.tar.bz2\n",
        "!tar -xjf train.tar.bz2\n",
        "!rm train.tar.bz2\n",
        "!wget https://chess-position-files.s3.amazonaws.com/tuples/validation.tar.bz2\n",
        "!tar -xjf validation.tar.bz2\n",
        "!rm validation.tar.bz2"
      ],
      "execution_count": null,
      "outputs": []
    },
    {
      "cell_type": "code",
      "metadata": {
        "id": "hQi_GkSiRwMP",
        "colab": {
          "base_uri": "https://localhost:8080/",
          "height": 1000
        },
        "outputId": "9cba75f8-3271-4a28-d26c-6430de345f27"
      },
      "source": [
        "#run a model with provided example configuration\n",
        "!python /content/chesspos/tools/train_model.py /content/chesspos/data/model_config_example.json"
      ],
      "execution_count": null,
      "outputs": []
    },
    {
      "cell_type": "code",
      "metadata": {
        "id": "vno9_XcS-mP4"
      },
      "source": [
        "!tar -cjf ae_shallow_32.tar.bz2 ae_shallow_32"
      ],
      "execution_count": null,
      "outputs": []
    },
    {
      "cell_type": "markdown",
      "metadata": {
        "id": "GczqfpB1vw18"
      },
      "source": [
        "## Model inference"
      ]
    },
    {
      "cell_type": "code",
      "metadata": {
        "id": "Yqoji3hB9w4N"
      },
      "source": [
        "# get chess positions to be embedded by the model we just trained\n",
        "!wget https://chess-position-files.s3.amazonaws.com/bitboards/2013_bitboards.tar.bz2\n",
        "!tar -xjf 2013_bitboards.tar.bz2"
      ],
      "execution_count": null,
      "outputs": []
    },
    {
      "cell_type": "code",
      "metadata": {
        "id": "JjL3GJU0-fxZ"
      },
      "source": [
        "!python /content/chesspos/tools/model_inference.py /content/ae_shallow_32/model_encoder /content/content/2013_bitboards --batch_size 16384 --float16 True"
      ],
      "execution_count": null,
      "outputs": []
    }
  ]
}