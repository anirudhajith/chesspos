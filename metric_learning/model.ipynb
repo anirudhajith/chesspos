{
 "nbformat": 4,
 "nbformat_minor": 2,
 "metadata": {
  "language_info": {
   "name": "python",
   "codemirror_mode": {
    "name": "ipython",
    "version": 3
   },
   "version": "3.7.6-final"
  },
  "orig_nbformat": 2,
  "file_extension": ".py",
  "mimetype": "text/x-python",
  "name": "python",
  "npconvert_exporter": "python",
  "pygments_lexer": "ipython3",
  "version": 3,
  "kernelspec": {
   "name": "python37664bitposembcondafe902e4f67854e6d98f2a8ceedfcf887",
   "display_name": "Python 3.7.6 64-bit ('pos-emb': conda)"
  }
 },
 "cells": [
  {
   "cell_type": "code",
   "execution_count": 4,
   "metadata": {},
   "outputs": [
    {
     "output_type": "execute_result",
     "data": {
      "text/plain": "('2.1.0', '2.2.4-tf')"
     },
     "metadata": {},
     "execution_count": 4
    }
   ],
   "source": [
    "import tensorflow as tf\n",
    "from tensorflow import keras\n",
    "from tensorflow.keras import layers\n",
    "\n",
    "\n",
    "tf.__version__, tf.keras.__version__"
   ]
  },
  {
   "cell_type": "code",
   "execution_count": 6,
   "metadata": {},
   "outputs": [
    {
     "output_type": "stream",
     "name": "stdout",
     "text": "Downloading data from https://storage.googleapis.com/tensorflow/tf-keras-datasets/mnist.npz\n11493376/11490434 [==============================] - 6s 1us/step\n"
    }
   ],
   "source": [
    "'''Example Dataset'''\n",
    "\n",
    "(train_images, train_labels), (test_images, test_labels) = tf.keras.datasets.mnist.load_data()\n",
    "\n",
    "train_labels = train_labels[:1000]\n",
    "test_labels = test_labels[:1000]\n",
    "\n",
    "train_images = train_images[:1000].reshape(-1, 28 * 28) / 255.0\n",
    "test_images = test_images[:1000].reshape(-1, 28 * 28) / 255.0"
   ]
  },
  {
   "cell_type": "code",
   "execution_count": 8,
   "metadata": {},
   "outputs": [
    {
     "output_type": "stream",
     "name": "stdout",
     "text": "Model: \"sequential_3\"\n_________________________________________________________________\nLayer (type)                 Output Shape              Param #   \n=================================================================\ndense_5 (Dense)              (None, 512)               401920    \n_________________________________________________________________\ndropout_1 (Dropout)          (None, 512)               0         \n_________________________________________________________________\ndense_6 (Dense)              (None, 10)                5130      \n=================================================================\nTotal params: 407,050\nTrainable params: 407,050\nNon-trainable params: 0\n_________________________________________________________________\n"
    }
   ],
   "source": [
    "'''Define Model'''\n",
    "\n",
    "def create_model():\n",
    "  model = tf.keras.models.Sequential([\n",
    "    keras.layers.Dense(512, activation='relu', input_shape=(784,)),\n",
    "    keras.layers.Dropout(0.2),\n",
    "    keras.layers.Dense(10)\n",
    "  ])\n",
    "\n",
    "  model.compile(optimizer='adam',\n",
    "                loss=tf.losses.SparseCategoricalCrossentropy(from_logits=True),\n",
    "                metrics=['accuracy'])\n",
    "\n",
    "  return model\n",
    "\n",
    "# Create a basic model instance\n",
    "model = create_model()\n",
    "\n",
    "# Display the model's architecture\n",
    "model.summary()"
   ]
  },
  {
   "cell_type": "code",
   "execution_count": 13,
   "metadata": {},
   "outputs": [
    {
     "output_type": "stream",
     "name": "stdout",
     "text": "Train on 1000 samples, validate on 1000 samples\nEpoch 1/10\n 928/1000 [==========================>...] - ETA: 0s - loss: 0.0043 - accuracy: 1.0000\nEpoch 00001: saving model to checkpoints/test_cp_0000.ckpt\n1000/1000 [==============================] - 0s 298us/sample - loss: 0.0046 - accuracy: 1.0000 - val_loss: 0.4441 - val_accuracy: 0.8710\nEpoch 2/10\n 960/1000 [===========================>..] - ETA: 0s - loss: 0.0036 - accuracy: 1.0000\nEpoch 00002: saving model to checkpoints/test_cp_0000.ckpt\n1000/1000 [==============================] - 0s 291us/sample - loss: 0.0036 - accuracy: 1.0000 - val_loss: 0.4509 - val_accuracy: 0.8710\nEpoch 3/10\n 992/1000 [============================>.] - ETA: 0s - loss: 0.0029 - accuracy: 1.0000\nEpoch 00003: saving model to checkpoints/test_cp_0000.ckpt\n1000/1000 [==============================] - 0s 294us/sample - loss: 0.0029 - accuracy: 1.0000 - val_loss: 0.4543 - val_accuracy: 0.8730\nEpoch 4/10\n 896/1000 [=========================>....] - ETA: 0s - loss: 0.0027 - accuracy: 1.0000\nEpoch 00004: saving model to checkpoints/test_cp_0000.ckpt\n1000/1000 [==============================] - 0s 323us/sample - loss: 0.0028 - accuracy: 1.0000 - val_loss: 0.4566 - val_accuracy: 0.8700\nEpoch 5/10\n 928/1000 [==========================>...] - ETA: 0s - loss: 0.0024 - accuracy: 1.0000\nEpoch 00005: saving model to checkpoints/test_cp_0000.ckpt\n1000/1000 [==============================] - 0s 303us/sample - loss: 0.0024 - accuracy: 1.0000 - val_loss: 0.4548 - val_accuracy: 0.8740\nEpoch 6/10\n 928/1000 [==========================>...] - ETA: 0s - loss: 0.0021 - accuracy: 1.0000\nEpoch 00006: saving model to checkpoints/test_cp_0000.ckpt\n1000/1000 [==============================] - 0s 302us/sample - loss: 0.0021 - accuracy: 1.0000 - val_loss: 0.4609 - val_accuracy: 0.8740\nEpoch 7/10\n 864/1000 [========================>.....] - ETA: 0s - loss: 0.0027 - accuracy: 1.0000\nEpoch 00007: saving model to checkpoints/test_cp_0000.ckpt\n1000/1000 [==============================] - 0s 330us/sample - loss: 0.0026 - accuracy: 1.0000 - val_loss: 0.4765 - val_accuracy: 0.8730\nEpoch 8/10\n 928/1000 [==========================>...] - ETA: 0s - loss: 0.0026 - accuracy: 1.0000\nEpoch 00008: saving model to checkpoints/test_cp_0000.ckpt\n1000/1000 [==============================] - 0s 308us/sample - loss: 0.0025 - accuracy: 1.0000 - val_loss: 0.4686 - val_accuracy: 0.8720\nEpoch 9/10\n 928/1000 [==========================>...] - ETA: 0s - loss: 0.0022 - accuracy: 1.0000\nEpoch 00009: saving model to checkpoints/test_cp_0000.ckpt\n1000/1000 [==============================] - 0s 296us/sample - loss: 0.0023 - accuracy: 1.0000 - val_loss: 0.4676 - val_accuracy: 0.8740\nEpoch 10/10\n 992/1000 [============================>.] - ETA: 0s - loss: 0.0018 - accuracy: 1.0000\nEpoch 00010: saving model to checkpoints/test_cp_0000.ckpt\n1000/1000 [==============================] - 0s 294us/sample - loss: 0.0019 - accuracy: 1.0000 - val_loss: 0.4677 - val_accuracy: 0.8700\n"
    },
    {
     "output_type": "execute_result",
     "data": {
      "text/plain": "<tensorflow.python.keras.callbacks.History at 0x7f6cc8c407d0>"
     },
     "metadata": {},
     "execution_count": 13
    }
   ],
   "source": [
    "'''Create Checkpoints during training'''\n",
    "\n",
    "checkpoint_path = \"checkpoints/test_cp_{epoch:04d}.ckpt\"\n",
    "checkpoint_dir = os.path.dirname(checkpoint_path)\n",
    "\n",
    "# Create a callback that saves the model's weights\n",
    "cp_callback = tf.keras.callbacks.ModelCheckpoint(filepath=checkpoint_path.format(epoch=0),\n",
    "                                                 save_weights_only=True,\n",
    "                                                 verbose=1)\n",
    "\n",
    "# Train the model with the new callback\n",
    "history = model.fit(train_images, \n",
    "                    train_labels,  \n",
    "                    epochs=10,\n",
    "                    validation_data=(test_images,test_labels),\n",
    "                    callbacks=[cp_callback])  # Pass callback to training\n"
   ]
  },
  {
   "cell_type": "code",
   "execution_count": 11,
   "metadata": {},
   "outputs": [
    {
     "output_type": "execute_result",
     "data": {
      "text/plain": "<tensorflow.python.training.tracking.util.CheckpointLoadStatus at 0x7f6cb85b0b50>"
     },
     "metadata": {},
     "execution_count": 11
    }
   ],
   "source": [
    "'''Loads the weights from checkpoint path'''\n",
    "model.load_weights(checkpoint_path)"
   ]
  },
  {
   "cell_type": "code",
   "execution_count": 16,
   "metadata": {},
   "outputs": [
    {
     "output_type": "stream",
     "name": "stdout",
     "text": "INFO:tensorflow:Assets written to: model/test_model/assets\n"
    }
   ],
   "source": [
    "'''Save the complete model after training'''\n",
    "model.save('model/test_model', save_format='tf') # or save_format='h5'"
   ]
  },
  {
   "cell_type": "code",
   "execution_count": null,
   "metadata": {},
   "outputs": [],
   "source": []
  }
 ]
}