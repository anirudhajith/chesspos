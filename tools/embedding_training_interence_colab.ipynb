{
  "nbformat": 4,
  "nbformat_minor": 0,
  "metadata": {
    "colab": {
      "name": "training.ipynb",
      "provenance": [],
      "collapsed_sections": [],
      "toc_visible": true
    },
    "kernelspec": {
      "name": "python3",
      "display_name": "Python 3"
    },
    "accelerator": "GPU"
  },
  "cells": [
    {
      "source": [
        "## Setup"
      ],
      "cell_type": "markdown",
      "metadata": {}
    },
    {
      "cell_type": "code",
      "metadata": {
        "id": "vjoXVSwBUX36"
      },
      "source": [
        "%tensorflow_version 2.1"
      ],
      "execution_count": null,
      "outputs": []
    },
    {
      "cell_type": "code",
      "metadata": {
        "id": "tWCT3lorNx0Y",
        "colab": {
          "base_uri": "https://localhost:8080/",
          "height": 237
        },
        "outputId": "2ad849c4-92ed-4d22-b24c-7c89dca90b82"
      },
      "source": [
        "!pip install python-chess\n",
        "!git clone https://github.com/patrickfrank1/chesspos.git\n",
        "!cd chesspos && pip install -e ."
      ],
      "execution_count": null,
      "outputs": [
        {
          "output_type": "stream",
          "text": [
            "Requirement already satisfied: python-chess in /usr/local/lib/python3.6/dist-packages (0.23.11)\n",
            "Cloning into 'chesspos'...\n",
            "remote: Enumerating objects: 125, done.\u001b[K\n",
            "remote: Counting objects: 100% (125/125), done.\u001b[K\n",
            "remote: Compressing objects: 100% (89/89), done.\u001b[K\n",
            "remote: Total 823 (delta 73), reused 63 (delta 35), pack-reused 698\u001b[K\n",
            "Receiving objects: 100% (823/823), 4.50 MiB | 17.66 MiB/s, done.\n",
            "Resolving deltas: 100% (497/497), done.\n",
            "Obtaining file:///content/chesspos\n",
            "Installing collected packages: chesspos\n",
            "  Running setup.py develop for chesspos\n",
            "Successfully installed chesspos\n"
          ],
          "name": "stdout"
        }
      ]
    },
    {
      "source": [
        "## Training"
      ],
      "cell_type": "markdown",
      "metadata": {}
    },
    {
      "cell_type": "code",
      "metadata": {
        "id": "E-QT7rsGM2h6"
      },
      "source": [
        "# pull train and validation data to local machine from AWS\n",
        "!wget https://chess-position-files.s3.amazonaws.com/tuples/train.tar.bz2\n",
        "!tar -xjf train.tar.bz2\n",
        "!wget https://chess-position-files.s3.amazonaws.com/tuples/validation.tar.bz2\n",
        "!tar -xjf validation.tar.bz2"
      ],
      "execution_count": null,
      "outputs": []
    },
    {
      "cell_type": "code",
      "metadata": {
        "id": "hQi_GkSiRwMP",
        "colab": {
          "base_uri": "https://localhost:8080/",
          "height": 1000
        },
        "outputId": "9cba75f8-3271-4a28-d26c-6430de345f27"
      },
      "source": [
        "#run a model with provided example configuration\n",
        "!python /content/chesspos/tools/train_model.py /content/chesspos/data/model_config_example.json"
      ],
      "execution_count": null,
      "outputs": [
        {
          "output_type": "stream",
          "text": [
            "2020-05-22 18:18:07.016036: I tensorflow/stream_executor/platform/default/dso_loader.cc:44] Successfully opened dynamic library libcudart.so.10.1\n",
            "tf.__version__: 2.2.0\n",
            "tf.keras.__version__: 2.3.0-tf\n",
            "JSON config file at: /content/ae_verydeep_32/config.json\n",
            "The following settings are used for training:\n",
            "{'train_dir': '/content/train_strong', 'validation_dir': '/content/validation_strong', 'save_dir': 'ae_verydeep_32', 'model_type': 'autoencoder', 'input_size': 773, 'embedding_size': 32, 'alpha': 0.2, 'triplet_weight_ratio': 10.0, 'hidden_layers': [512, 256, 256, 128, 128, 64], 'hidden_decoder': [64, 128, 128, 256, 256, 512], 'train_batch_size': 128, 'validation_batch_size': 128, 'train_steps_per_epoch': 5000, 'validation_steps_per_epoch': 500, 'train_sampling': [0, 5, 10, 11, 12, 13, 14], 'validation_sampling': [0, 5, 11, 12, 13, 14], 'tf_callbacks': ['early_stopping'], 'save_stats': True, 'hide_tf_warnings': True}\n",
            "You have enough training samples for 324.1421421875 epochs and enought validation samples for 404.12034375 epochs.\n",
            "\n",
            "Training on 207.450971 million training samples.\n",
            "Validating on 20.736 million validation samples.\n",
            "WARNING: your are providing much more validation samples than nessecary. Those could be used for training instead.\n",
            "2020-05-22 18:18:10.223821: I tensorflow/stream_executor/platform/default/dso_loader.cc:44] Successfully opened dynamic library libcuda.so.1\n",
            "2020-05-22 18:18:10.246680: I tensorflow/stream_executor/cuda/cuda_gpu_executor.cc:981] successful NUMA node read from SysFS had negative value (-1), but there must be at least one NUMA node, so returning NUMA node zero\n",
            "2020-05-22 18:18:10.247519: I tensorflow/core/common_runtime/gpu/gpu_device.cc:1561] Found device 0 with properties: \n",
            "pciBusID: 0000:00:04.0 name: Tesla K80 computeCapability: 3.7\n",
            "coreClock: 0.8235GHz coreCount: 13 deviceMemorySize: 11.17GiB deviceMemoryBandwidth: 223.96GiB/s\n",
            "2020-05-22 18:18:10.247576: I tensorflow/stream_executor/platform/default/dso_loader.cc:44] Successfully opened dynamic library libcudart.so.10.1\n",
            "2020-05-22 18:18:10.249804: I tensorflow/stream_executor/platform/default/dso_loader.cc:44] Successfully opened dynamic library libcublas.so.10\n",
            "2020-05-22 18:18:10.251529: I tensorflow/stream_executor/platform/default/dso_loader.cc:44] Successfully opened dynamic library libcufft.so.10\n",
            "2020-05-22 18:18:10.251968: I tensorflow/stream_executor/platform/default/dso_loader.cc:44] Successfully opened dynamic library libcurand.so.10\n",
            "2020-05-22 18:18:10.254237: I tensorflow/stream_executor/platform/default/dso_loader.cc:44] Successfully opened dynamic library libcusolver.so.10\n",
            "2020-05-22 18:18:10.255278: I tensorflow/stream_executor/platform/default/dso_loader.cc:44] Successfully opened dynamic library libcusparse.so.10\n",
            "2020-05-22 18:18:10.259724: I tensorflow/stream_executor/platform/default/dso_loader.cc:44] Successfully opened dynamic library libcudnn.so.7\n",
            "2020-05-22 18:18:10.259921: I tensorflow/stream_executor/cuda/cuda_gpu_executor.cc:981] successful NUMA node read from SysFS had negative value (-1), but there must be at least one NUMA node, so returning NUMA node zero\n",
            "2020-05-22 18:18:10.260874: I tensorflow/stream_executor/cuda/cuda_gpu_executor.cc:981] successful NUMA node read from SysFS had negative value (-1), but there must be at least one NUMA node, so returning NUMA node zero\n",
            "2020-05-22 18:18:10.261600: I tensorflow/core/common_runtime/gpu/gpu_device.cc:1703] Adding visible gpu devices: 0\n",
            "2020-05-22 18:18:10.268036: I tensorflow/core/platform/profile_utils/cpu_utils.cc:102] CPU Frequency: 2300000000 Hz\n",
            "2020-05-22 18:18:10.268315: I tensorflow/compiler/xla/service/service.cc:168] XLA service 0x60e6d80 initialized for platform Host (this does not guarantee that XLA will be used). Devices:\n",
            "2020-05-22 18:18:10.268369: I tensorflow/compiler/xla/service/service.cc:176]   StreamExecutor device (0): Host, Default Version\n",
            "2020-05-22 18:18:10.322585: I tensorflow/stream_executor/cuda/cuda_gpu_executor.cc:981] successful NUMA node read from SysFS had negative value (-1), but there must be at least one NUMA node, so returning NUMA node zero\n",
            "2020-05-22 18:18:10.323480: I tensorflow/compiler/xla/service/service.cc:168] XLA service 0x60e6f40 initialized for platform CUDA (this does not guarantee that XLA will be used). Devices:\n",
            "2020-05-22 18:18:10.323516: I tensorflow/compiler/xla/service/service.cc:176]   StreamExecutor device (0): Tesla K80, Compute Capability 3.7\n",
            "2020-05-22 18:18:10.323772: I tensorflow/stream_executor/cuda/cuda_gpu_executor.cc:981] successful NUMA node read from SysFS had negative value (-1), but there must be at least one NUMA node, so returning NUMA node zero\n",
            "2020-05-22 18:18:10.324494: I tensorflow/core/common_runtime/gpu/gpu_device.cc:1561] Found device 0 with properties: \n",
            "pciBusID: 0000:00:04.0 name: Tesla K80 computeCapability: 3.7\n",
            "coreClock: 0.8235GHz coreCount: 13 deviceMemorySize: 11.17GiB deviceMemoryBandwidth: 223.96GiB/s\n",
            "2020-05-22 18:18:10.324550: I tensorflow/stream_executor/platform/default/dso_loader.cc:44] Successfully opened dynamic library libcudart.so.10.1\n",
            "2020-05-22 18:18:10.324630: I tensorflow/stream_executor/platform/default/dso_loader.cc:44] Successfully opened dynamic library libcublas.so.10\n",
            "2020-05-22 18:18:10.324685: I tensorflow/stream_executor/platform/default/dso_loader.cc:44] Successfully opened dynamic library libcufft.so.10\n",
            "2020-05-22 18:18:10.324757: I tensorflow/stream_executor/platform/default/dso_loader.cc:44] Successfully opened dynamic library libcurand.so.10\n",
            "2020-05-22 18:18:10.324811: I tensorflow/stream_executor/platform/default/dso_loader.cc:44] Successfully opened dynamic library libcusolver.so.10\n",
            "2020-05-22 18:18:10.324863: I tensorflow/stream_executor/platform/default/dso_loader.cc:44] Successfully opened dynamic library libcusparse.so.10\n",
            "2020-05-22 18:18:10.324913: I tensorflow/stream_executor/platform/default/dso_loader.cc:44] Successfully opened dynamic library libcudnn.so.7\n",
            "2020-05-22 18:18:10.325081: I tensorflow/stream_executor/cuda/cuda_gpu_executor.cc:981] successful NUMA node read from SysFS had negative value (-1), but there must be at least one NUMA node, so returning NUMA node zero\n",
            "2020-05-22 18:18:10.325865: I tensorflow/stream_executor/cuda/cuda_gpu_executor.cc:981] successful NUMA node read from SysFS had negative value (-1), but there must be at least one NUMA node, so returning NUMA node zero\n",
            "2020-05-22 18:18:10.326560: I tensorflow/core/common_runtime/gpu/gpu_device.cc:1703] Adding visible gpu devices: 0\n",
            "2020-05-22 18:18:10.326622: I tensorflow/stream_executor/platform/default/dso_loader.cc:44] Successfully opened dynamic library libcudart.so.10.1\n",
            "2020-05-22 18:18:10.754623: I tensorflow/core/common_runtime/gpu/gpu_device.cc:1102] Device interconnect StreamExecutor with strength 1 edge matrix:\n",
            "2020-05-22 18:18:10.754683: I tensorflow/core/common_runtime/gpu/gpu_device.cc:1108]      0 \n",
            "2020-05-22 18:18:10.754722: I tensorflow/core/common_runtime/gpu/gpu_device.cc:1121] 0:   N \n",
            "2020-05-22 18:18:10.755046: I tensorflow/stream_executor/cuda/cuda_gpu_executor.cc:981] successful NUMA node read from SysFS had negative value (-1), but there must be at least one NUMA node, so returning NUMA node zero\n",
            "2020-05-22 18:18:10.755877: I tensorflow/stream_executor/cuda/cuda_gpu_executor.cc:981] successful NUMA node read from SysFS had negative value (-1), but there must be at least one NUMA node, so returning NUMA node zero\n",
            "2020-05-22 18:18:10.756566: W tensorflow/core/common_runtime/gpu/gpu_bfc_allocator.cc:39] Overriding allow_growth setting because the TF_FORCE_GPU_ALLOW_GROWTH environment variable is set. Original config value was 0.\n",
            "2020-05-22 18:18:10.756625: I tensorflow/core/common_runtime/gpu/gpu_device.cc:1247] Created TensorFlow device (/job:localhost/replica:0/task:0/device:GPU:0 with 10634 MB memory) -> physical GPU (device: 0, name: Tesla K80, pci bus id: 0000:00:04.0, compute capability: 3.7)\n",
            "Model: \"encoder_network\"\n",
            "_________________________________________________________________\n",
            "Layer (type)                 Output Shape              Param #   \n",
            "=================================================================\n",
            "dense (Dense)                (None, 512)               396288    \n",
            "_________________________________________________________________\n",
            "dense_1 (Dense)              (None, 256)               131328    \n",
            "_________________________________________________________________\n",
            "dense_2 (Dense)              (None, 256)               65792     \n",
            "_________________________________________________________________\n",
            "dense_3 (Dense)              (None, 128)               32896     \n",
            "_________________________________________________________________\n",
            "dense_4 (Dense)              (None, 128)               16512     \n",
            "_________________________________________________________________\n",
            "dense_5 (Dense)              (None, 64)                8256      \n",
            "_________________________________________________________________\n",
            "dense_6 (Dense)              (None, 32)                2080      \n",
            "=================================================================\n",
            "Total params: 653,152\n",
            "Trainable params: 653,152\n",
            "Non-trainable params: 0\n",
            "_________________________________________________________________\n",
            "Model: \"decoder_network\"\n",
            "_________________________________________________________________\n",
            "Layer (type)                 Output Shape              Param #   \n",
            "=================================================================\n",
            "dense_7 (Dense)              (None, 64)                2112      \n",
            "_________________________________________________________________\n",
            "dense_8 (Dense)              (None, 128)               8320      \n",
            "_________________________________________________________________\n",
            "dense_9 (Dense)              (None, 128)               16512     \n",
            "_________________________________________________________________\n",
            "dense_10 (Dense)             (None, 256)               33024     \n",
            "_________________________________________________________________\n",
            "dense_11 (Dense)             (None, 256)               65792     \n",
            "_________________________________________________________________\n",
            "dense_12 (Dense)             (None, 512)               131584    \n",
            "_________________________________________________________________\n",
            "dense_13 (Dense)             (None, 773)               396549    \n",
            "=================================================================\n",
            "Total params: 653,893\n",
            "Trainable params: 653,893\n",
            "Non-trainable params: 0\n",
            "_________________________________________________________________\n",
            "Model: \"model\"\n",
            "_________________________________________________________________\n",
            "Layer (type)                 Output Shape              Param #   \n",
            "=================================================================\n",
            "input_layer (InputLayer)     [(None, 773)]             0         \n",
            "_________________________________________________________________\n",
            "encoder_network (Sequential) (None, 32)                653152    \n",
            "_________________________________________________________________\n",
            "decoder_network (Sequential) (None, 773)               653893    \n",
            "=================================================================\n",
            "Total params: 1,307,045\n",
            "Trainable params: 1,307,045\n",
            "Non-trainable params: 0\n",
            "_________________________________________________________________\n",
            "Epoch 1/324\n",
            "2020-05-22 18:18:12.317482: I tensorflow/stream_executor/platform/default/dso_loader.cc:44] Successfully opened dynamic library libcublas.so.10\n",
            "5000/5000 [==============================] - 42s 8ms/step - loss: 0.0140 - mse: 0.0140 - binary_crossentropy: 0.1175 - val_loss: 0.0119 - val_mse: 0.0119 - val_binary_crossentropy: 0.1075\n",
            "Epoch 2/324\n",
            "5000/5000 [==============================] - 42s 8ms/step - loss: 0.0107 - mse: 0.0107 - binary_crossentropy: 0.1013 - val_loss: 0.0102 - val_mse: 0.0102 - val_binary_crossentropy: 0.1001\n",
            "Epoch 3/324\n",
            "5000/5000 [==============================] - 41s 8ms/step - loss: 0.0094 - mse: 0.0094 - binary_crossentropy: 0.0949 - val_loss: 0.0090 - val_mse: 0.0090 - val_binary_crossentropy: 0.0939\n",
            "Epoch 4/324\n",
            "5000/5000 [==============================] - 41s 8ms/step - loss: 0.0086 - mse: 0.0086 - binary_crossentropy: 0.0905 - val_loss: 0.0083 - val_mse: 0.0083 - val_binary_crossentropy: 0.0899\n",
            "Epoch 5/324\n",
            "5000/5000 [==============================] - 41s 8ms/step - loss: 0.0080 - mse: 0.0080 - binary_crossentropy: 0.0876 - val_loss: 0.0078 - val_mse: 0.0078 - val_binary_crossentropy: 0.0868\n",
            "Epoch 6/324\n",
            "5000/5000 [==============================] - 41s 8ms/step - loss: 0.0075 - mse: 0.0075 - binary_crossentropy: 0.0850 - val_loss: 0.0073 - val_mse: 0.0073 - val_binary_crossentropy: 0.0837\n",
            "Epoch 7/324\n",
            "5000/5000 [==============================] - 41s 8ms/step - loss: 0.0072 - mse: 0.0072 - binary_crossentropy: 0.0836 - val_loss: 0.0070 - val_mse: 0.0070 - val_binary_crossentropy: 0.0824\n",
            "Epoch 8/324\n",
            "5000/5000 [==============================] - 42s 8ms/step - loss: 0.0070 - mse: 0.0070 - binary_crossentropy: 0.0817 - val_loss: 0.0070 - val_mse: 0.0070 - val_binary_crossentropy: 0.0811\n",
            "Epoch 9/324\n",
            "5000/5000 [==============================] - 42s 8ms/step - loss: 0.0068 - mse: 0.0068 - binary_crossentropy: 0.0805 - val_loss: 0.0066 - val_mse: 0.0066 - val_binary_crossentropy: 0.0784\n",
            "2020-05-22 18:24:27.405246: W tensorflow/python/util/util.cc:329] Sets are not currently considered sequences, but this may change in the future, so consider avoiding using them.\n",
            "WARNING:tensorflow:From /usr/local/lib/python3.6/dist-packages/tensorflow/python/ops/resource_variable_ops.py:1817: calling BaseResourceVariable.__init__ (from tensorflow.python.ops.resource_variable_ops) with constraint is deprecated and will be removed in a future version.\n",
            "Instructions for updating:\n",
            "If using Keras pass *_constraint arguments to layers.\n"
          ],
          "name": "stdout"
        }
      ]
    },
    {
      "cell_type": "code",
      "metadata": {
        "id": "vno9_XcS-mP4"
      },
      "source": [
        "!tar -cjf ae_shallow_32.tar.bz2 ae_shallow_32"
      ],
      "execution_count": null,
      "outputs": []
    },
    {
      "cell_type": "markdown",
      "metadata": {
        "id": "GczqfpB1vw18"
      },
      "source": [
        "## Model inference"
      ]
    },
    {
      "cell_type": "code",
      "metadata": {
        "id": "Yqoji3hB9w4N"
      },
      "source": [
        "# get chess positions to be embedded by the model we just trained\n",
        "!wget https://chess-position-files.s3.amazonaws.com/bitboards/2013_bitboards.tar.bz2\n",
        "!tar -xjf 2013_bitboards.tar.bz2"
      ],
      "execution_count": null,
      "outputs": []
    },
    {
      "cell_type": "code",
      "metadata": {
        "id": "JjL3GJU0-fxZ"
      },
      "source": [
        "!python /contens/chesspos/tools/model_inference.py /content/ae_shallow_32/model_encoder /content/2013_bitboards --batch_size 16384 --float16 True"
      ],
      "execution_count": null,
      "outputs": []
    }
  ]
}