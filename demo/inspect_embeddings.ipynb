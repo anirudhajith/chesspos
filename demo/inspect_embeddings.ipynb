{
 "cells": [
  {
   "cell_type": "markdown",
   "metadata": {},
   "source": [
    "### Setup"
   ]
  },
  {
   "cell_type": "code",
   "execution_count": 1,
   "metadata": {},
   "outputs": [],
   "source": [
    "import json\n",
    "import faiss\n",
    "import numpy as np\n",
    "import chess\n",
    "import chess.svg\n",
    "import tensorflow as tf\n",
    "\n",
    "from chesspos.convert import bitboard_to_board\n",
    "from chesspos.binary_index import board_to_bitboard\n",
    "from chesspos.utils import files_from_directory\n",
    "import chesspos.index_from_embedding as iemb"
   ]
  },
  {
   "cell_type": "code",
   "execution_count": 2,
   "metadata": {},
   "outputs": [],
   "source": [
    "train_path = \"/media/pafrank/Backup/other/Chess/lichess/embeddings/bb_d64_train\"\n",
    "embedding_path = \"/media/pafrank/Backup/other/Chess/lichess/embeddings/bb_d64_add\"\n",
    "encoder_path = \"/home/pafrank/Documents/coding/chess-position-embedding/metric_learning/deep64/model_encoder.h5\"\n",
    "decoder_path =\"/home/pafrank/Documents/coding/chess-position-embedding/metric_learning/deep64/model_decoder.h5\"\n",
    "save_path = \"/media/pafrank/Backup/other/Chess/lichess/embeddings\"\n",
    "table_id = \"test_embedding\"\n",
    "queries = [\n",
    "    \"rnbqkbnr/pppppppp/8/8/8/8/PPPPPPPP/RNBQKBNR w KQkq - 0 1\",\n",
    "    \"8/1R6/4p1k1/1p6/p1b2K2/P1Br4/1P6/8 b - - 8 49\"\n",
    "]\n",
    "num_results = 10\n",
    "embedding_dimension = 64"
   ]
  },
  {
   "cell_type": "markdown",
   "metadata": {},
   "source": [
    "### Create and populate index"
   ]
  },
  {
   "cell_type": "code",
   "execution_count": 3,
   "metadata": {},
   "outputs": [],
   "source": [
    "# create index\n",
    "index = faiss.index_factory(embedding_dimension, \"PCA16,SQ6\")"
   ]
  },
  {
   "cell_type": "code",
   "execution_count": 4,
   "metadata": {},
   "outputs": [
    {
     "name": "stdout",
     "output_type": "stream",
     "text": [
      "File /media/pafrank/Backup/other/Chess/lichess/embeddings/bb_d64_train/lichess_db_standard_rated_2013-01-bb.h5 has keys <KeysViewHDF5 ['game_id_0', 'game_id_1', 'position_0', 'position_1', 'test_embedding_0', 'test_embedding_1']>\n",
      "faiss index trained? True\n",
      "CPU times: user 18.6 ms, sys: 12.6 ms, total: 31.3 ms\n",
      "Wall time: 56.5 ms\n"
     ]
    }
   ],
   "source": [
    "%%time\n",
    "# train faiss index\n",
    "train_file_list = files_from_directory(train_path, file_type=\"h5\")\n",
    "index, _ = iemb.index_load_file_array(train_file_list, table_id, index, chunks=int(1e7), train=True)"
   ]
  },
  {
   "cell_type": "code",
   "execution_count": null,
   "metadata": {},
   "outputs": [],
   "source": [
    "%%time\n",
    "# populate faiss index\n",
    "file_list = files_from_directory(embedding_path, file_type=\"h5\")\n",
    "index, table_dict = iemb.index_load_file_array(file_list, table_id, index, chunks=int(1e5), train=False)"
   ]
  },
  {
   "cell_type": "code",
   "execution_count": null,
   "metadata": {},
   "outputs": [],
   "source": [
    "%%time\n",
    "# save index\n",
    "faiss.write_index(index, f\"{save_path}/bb_d64_pca16_sq6.faiss\")\n",
    "json.dump( table_dict, open( f\"{save_path}/bb_d64_pca16_sq6.json\", 'w' ) )"
   ]
  },
  {
   "cell_type": "markdown",
   "metadata": {},
   "source": [
    "### Search index"
   ]
  },
  {
   "cell_type": "code",
   "execution_count": null,
   "metadata": {},
   "outputs": [],
   "source": [
    "queries = np.array([\n",
    "    \"r1bqk1nr/pp1pbppp/2n1p3/8/3N4/6P1/PPP1PPBP/RNBQK2R w KQkq - 3 6\",\n",
    "    \"8/1R6/4p1k1/1p6/p1b2K2/P1Br4/1P6/8 b - - 8 49\",\n",
    "    \"8/8/5p2/R3pkp1/5n2/5K2/8/8 w - - 0 42\"\n",
    "])\n",
    "num_results = 3\n",
    "table_dict = json.load( open( f\"{save_path}/bb_d64_pca16_sq6.json\" ) ) # so that keys are strings"
   ]
  },
  {
   "cell_type": "code",
   "execution_count": null,
   "metadata": {},
   "outputs": [],
   "source": [
    "%%time\n",
    "# search index\n",
    "D, I, E = iemb.index_query_positions(queries, index, encoder_path, table_dict,\n",
    "\tinput_format='fen', num_results=num_results)"
   ]
  },
  {
   "cell_type": "code",
   "execution_count": null,
   "metadata": {},
   "outputs": [],
   "source": [
    "%%time\n",
    "# retrieve the belonging bitboards\n",
    "file, table, offset = iemb.location_from_index(I, table_dict)\n",
    "bb_table = iemb.manipulate_prefix(table, \"position\")\n",
    "bitboards = iemb.retrieve_elements_from_file(file, bb_table, offset)\n",
    "print(bitboards.shape, bitboards.dtype)"
   ]
  },
  {
   "cell_type": "code",
   "execution_count": null,
   "metadata": {},
   "outputs": [],
   "source": [
    "# retrieve belonging embeddings\n",
    "embeddings = iemb.retrieve_elements_from_file(file, table, offset)\n",
    "e_shape = embeddings.shape\n",
    "print(f\"embedding shape {e_shape}\")\n",
    "embeddings = embeddings.reshape((-1,e_shape[-1]))\n",
    "\n",
    "# reconstruct with decoder\n",
    "decoder = tf.keras.models.load_model(decoder_path)\n",
    "decoded_bitboards = decoder(embeddings)\n",
    "decoded_bitboards = decoded_bitboards.numpy()\n",
    "decoded_bitboards = decoded_bitboards.reshape((*e_shape[:-1],-1))\n",
    "print(f\"reconstructed bitboard shape {decoded_bitboards.shape}\")"
   ]
  },
  {
   "cell_type": "code",
   "execution_count": null,
   "metadata": {},
   "outputs": [],
   "source": [
    "# convert bitboards to fen\n",
    "def fen_converter(bb):\n",
    "    board = bitboard_to_board(bb) \n",
    "    return board.fen()\n",
    "fc = np.vectorize(fen_converter, signature=f'(773)->()')\n",
    "\n",
    "bitboards_fen = fc(bitboards)\n",
    "decoded_bitboards_fen = fc(decoded_bitboards)\n",
    "\n",
    "bb_shape = bitboards.shape"
   ]
  },
  {
   "cell_type": "code",
   "execution_count": null,
   "metadata": {
    "scrolled": false,
    "tags": [
     "outputPrepend"
    ]
   },
   "outputs": [],
   "source": [
    "from IPython.display import HTML\n",
    "html = \"\"\n",
    "for i in range(bb_shape[0]):\n",
    "    for j in range(bb_shape[1]):\n",
    "        html += f\"<h4>Query {i} | Retrieved bitboard {j}: euclidean distance {D[i][j]} to query | Reconstructed bitboard {j}</h4>\"\n",
    "        html += chess.svg.board(chess.Board(queries[i]), size=300)\n",
    "        html += chess.svg.board(chess.Board(bitboards_fen[i][j]), size=300)\n",
    "        html += chess.svg.board(chess.Board(decoded_bitboards_fen[i][j]), size=300)\n",
    "    html += \"<hr>\"\n",
    "HTML(html)"
   ]
  },
  {
   "cell_type": "code",
   "execution_count": null,
   "metadata": {},
   "outputs": [],
   "source": []
  }
 ],
 "metadata": {
  "file_extension": ".py",
  "kernelspec": {
   "display_name": "Python 3.7.6 64-bit ('pos-emb-clone': conda)",
   "language": "python",
   "name": "python37664bitposembcloneconda1cd43f3d27854914843ae01398bed068"
  },
  "language_info": {
   "codemirror_mode": {
    "name": "ipython",
    "version": 3
   },
   "file_extension": ".py",
   "mimetype": "text/x-python",
   "name": "python",
   "nbconvert_exporter": "python",
   "pygments_lexer": "ipython3",
   "version": "3.7.6"
  },
  "mimetype": "text/x-python",
  "name": "python",
  "npconvert_exporter": "python",
  "pygments_lexer": "ipython3",
  "version": 3
 },
 "nbformat": 4,
 "nbformat_minor": 2
}
