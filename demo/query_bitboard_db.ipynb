{
 "cells": [
  {
   "cell_type": "markdown",
   "metadata": {},
   "source": [
    "# Query a pre-built database of chess positions\n",
    "\n",
    "This demo shows you how to search a pre-bulit database of chess positions for positions that are similar to your own query position."
   ]
  },
  {
   "cell_type": "markdown",
   "metadata": {},
   "source": [
    "### Enter your query\n",
    "\n",
    "First you need to specify the position for which you want to find similar positions for. Use the widget in the following cell to set up a board and then press the *Export Position* button."
   ]
  },
  {
   "cell_type": "code",
   "execution_count": 1,
   "metadata": {},
   "outputs": [
    {
     "data": {
      "text/html": [
       "<!-- '''Cell 2: run once to create the widget''' -->\n",
       "<style>\n",
       ".spare-pieces-7492f img {\n",
       "    display: inline-block\n",
       "}\n",
       "</style>\n",
       "\n",
       "<link rel=\"stylesheet\" href=\"https://unpkg.com/@chrisoakman/chessboardjs@1.0.0/dist/chessboard-1.0.0.min.css\" integrity=\"sha384-q94+BZtLrkL1/ohfjR8c6L+A6qzNH9R2hBLwyoAfu3i/WCvQjzL2RQJ3uNHDISdU\" crossorigin=\"anonymous\">\n",
       "\n",
       "<table>\n",
       "  <tr>\n",
       "    <td>\n",
       "      <div id=\"myBoard\" style=\"width: 400px\"></div>\n",
       "      <button id=\"startBtn\">Start Position</button>\n",
       "      <button id=\"clearBtn\">Clear Board</button>\n",
       "      <button id=\"export\">Export Position</button>\n",
       "    </td>\n",
       "    <td>\n",
       "      <span style=\"font-weight:bold\">Side to play</span><br>\n",
       "      <label>White <input type=\"radio\" id=\"sideW\" name=\"side\" value=\"w\" checked></label><br>\n",
       "      <label>Black <input type=\"radio\" id=\"sideB\" name=\"side\" value=\"b\"></label><br>\n",
       "      <span style=\"font-weight:bold\">Castling Rights</span><br>\n",
       "      <label>White Queenside <input type=\"checkbox\" id=\"Q\" value=\"Q\" checked></label><br>\n",
       "      <label>White Kingside <input type=\"checkbox\" id=\"K\" value=\"K\" checked></label><br>\n",
       "      <label>Black Queenside <input type=\"checkbox\" id=\"q\" value=\"q\" checked></label><br>\n",
       "      <label>Black Kingside <input type=\"checkbox\" id=\"k\" value=\"k\" checked></label>\n",
       "    </td>\n",
       "  </tr>\n",
       "\n",
       "</table>\n",
       "\n",
       "\n",
       "<script src=\"https://unpkg.com/@chrisoakman/chessboardjs@1.0.0/dist/chessboard-1.0.0.min.js\" integrity=\"sha384-8Vi8VHwn3vjQ9eUHUxex3JSN/NFqUg3QbPyX8kWyb93+8AC/pPWTzj+nHtbC5bxD\" crossorigin=\"anonymous\"></script>\n",
       "\n",
       "<script>\n",
       "var board = Chessboard('myBoard', {\n",
       "  draggable: true,\n",
       "  dropOffBoard: 'trash',\n",
       "  sparePieces: true\n",
       "});\n",
       "var fen = undefined;\n",
       "document.getElementById('startBtn').onclick = board.start;\n",
       "document.getElementById('clearBtn').onclick = board.clear;\n",
       "document.getElementById('export').onclick = function(){\n",
       "  var fen = board.fen();\n",
       "  var side = \"\";\n",
       "  var castling = \"\";\n",
       "  if(document.getElementById('sideW').checked){\n",
       "    side = document.getElementById('sideW').value;\n",
       "  }\n",
       "  if(document.getElementById('sideB').checked){\n",
       "    side = document.getElementById('sideB').value;\n",
       "  }\n",
       "  if(document.getElementById('K').checked){\n",
       "    castling += 'K';\n",
       "  }\n",
       "  if(document.getElementById('Q').checked){\n",
       "    castling += 'Q';\n",
       "  }\n",
       "  if(document.getElementById('k').checked){\n",
       "    castling += 'k';\n",
       "  }\n",
       "  if(document.getElementById('q').checked){\n",
       "    castling += 'q';\n",
       "  }\n",
       "  if(castling == \"\"){\n",
       "    castling = \"-\";\n",
       "  }\n",
       "  alert(`The fen string for your position is '${fen} ${side} ${castling} - 0 1' please execute the cell below to add it to the query queue.`);\n",
       "  IPython.notebook.kernel.execute(`fen='${fen} ${side} ${castling} - 0 1'`);\n",
       "};\n",
       "</script>\n"
      ],
      "text/plain": [
       "<IPython.core.display.HTML object>"
      ]
     },
     "execution_count": 1,
     "metadata": {},
     "output_type": "execute_result"
    }
   ],
   "source": [
    "'''RUN THIS CELL ONLY ONCE to create the widget and a query queue'''\n",
    "query = []\n",
    "from IPython.display import HTML\n",
    "HTML('input-widget.html')"
   ]
  },
  {
   "cell_type": "markdown",
   "metadata": {},
   "source": [
    "Run the next cell to add your position to the query queue."
   ]
  },
  {
   "cell_type": "code",
   "execution_count": 3,
   "metadata": {},
   "outputs": [
    {
     "name": "stdout",
     "output_type": "stream",
     "text": [
      "The fen string of your position is: 1k6/8/2q5/8/8/6B1/4R3/K7 w KQkq - 0 1.\n",
      "The fen string was added to the query, which now has 2 positions stored.\n"
     ]
    }
   ],
   "source": [
    "'''ALWAYS RUN THIS CELL AFTER YOU ENTER A POSITION IN THE PREVIOUS WIDGET'''\n",
    "print(f\"The fen string of your position is: {fen}.\")\n",
    "query.append(fen)\n",
    "print(f\"The fen string was added to the query, which now has {len(query)} positions stored.\")"
   ]
  },
  {
   "cell_type": "markdown",
   "metadata": {},
   "source": [
    "After executing the last two cells you can **view the current query queue with the command below**. You can also **add more positions to the query queue by using the widget again and then executing the previous cell again**."
   ]
  },
  {
   "cell_type": "code",
   "execution_count": 4,
   "metadata": {},
   "outputs": [
    {
     "name": "stdout",
     "output_type": "stream",
     "text": [
      "['1k6/8/2q5/8/8/8/4R3/K7 w KQkq - 0 1', '1k6/8/2q5/8/8/6B1/4R3/K7 w KQkq - 0 1']\n"
     ]
    }
   ],
   "source": [
    "print(query)"
   ]
  },
  {
   "cell_type": "markdown",
   "metadata": {},
   "source": [
    "**Alternatively** if the widget above does not work you can visit [lichess.org](https://lichess.org/editor) retrieve the fen string of your position there and then paste it in the array below."
   ]
  },
  {
   "cell_type": "code",
   "execution_count": 5,
   "metadata": {},
   "outputs": [],
   "source": [
    "'''\n",
    "Execute this cell if you don't want to use the widget above.\n",
    "Replace the example fen string with your own.\n",
    "'''\n",
    "query = [\n",
    "    \"rnbq1rk1/pp2bppp/2p1pn2/4N1B1/2pP4/2N3P1/PP2PPBP/R2Q1RK1 b Qq - 0 1\", #list of fen strings seperated by comma\n",
    "    \"rnbq1rk1/pp2bppp/2p1pn2/4N1B1/2pP4/2N3P1/PP2PPBP/R2Q1RK1 b Qq - 0 1\"\n",
    "]"
   ]
  },
  {
   "cell_type": "markdown",
   "metadata": {},
   "source": [
    "### Load the database of chess positions"
   ]
  },
  {
   "cell_type": "code",
   "execution_count": 6,
   "metadata": {},
   "outputs": [],
   "source": [
    "import faiss\n",
    "import sys\n",
    "import os\n",
    "sys.path.insert(1, os.path.join(sys.path[0], '..'))\n",
    "from searchpos import *"
   ]
  },
  {
   "cell_type": "markdown",
   "metadata": {},
   "source": [
    "Load the database into memory. *You need more than 1.6GB of RAM.*"
   ]
  },
  {
   "cell_type": "code",
   "execution_count": 7,
   "metadata": {},
   "outputs": [
    {
     "name": "stdout",
     "output_type": "stream",
     "text": [
      "The database you laoded contains 16.489 million positions\n"
     ]
    }
   ],
   "source": [
    "filepath = \"../data/test.faiss\"\n",
    "index = index_load(filepath, is_binary=True)\n",
    "print(f\"The database you laoded contains {round(index.ntotal/1.e6,3)} million positions\")"
   ]
  },
  {
   "cell_type": "markdown",
   "metadata": {},
   "source": [
    "Specify the **expected number of results per query**, then search the database and retrieve most similar positions."
   ]
  },
  {
   "cell_type": "code",
   "execution_count": 8,
   "metadata": {},
   "outputs": [],
   "source": [
    "search_results = 10\n",
    "dist, reconstructed = index_query_positions(query, index, input_format='fen', output_format='fen',\n",
    "                                            num_results=search_results)"
   ]
  },
  {
   "cell_type": "markdown",
   "metadata": {},
   "source": [
    "### Inspect the retrieved results\n",
    "\n",
    "Execute the cell below. This will generate a widget which lets you inspect the retireved queries."
   ]
  },
  {
   "cell_type": "code",
   "execution_count": 10,
   "metadata": {},
   "outputs": [
    {
     "data": {
      "text/html": [
       "<link rel=\"stylesheet\" href=\"https://unpkg.com/@chrisoakman/chessboardjs@1.0.0/dist/chessboard-1.0.0.min.css\" integrity=\"sha384-q94+BZtLrkL1/ohfjR8c6L+A6qzNH9R2hBLwyoAfu3i/WCvQjzL2RQJ3uNHDISdU\" crossorigin=\"anonymous\"><table><tr><td>Your Query Position 0</td><td><span>The (Hamming) distance between query and </span><select id=\"mySelect0\" onchange=\"myFunction0()\"><option value='rnbq1rk1/pp2bppp/2p1pn2/4N3/2pP4/2N3P1/PP2PPBP/R1BQ1RK1 b - - 0 1|4'>Similar Position 0</option><option value='rnbq1rk1/pp3ppp/2pbpn2/6B1/2pP4/2N2NP1/PP2PPBP/R2Q1RK1 b - - 0 1|6'>Similar Position 1</option><option value='rnbq1rk1/pp2bppp/2p1pn2/8/2pP4/2N3P1/PP1NPPBP/R1BQ1RK1 b - - 0 1|6'>Similar Position 2</option><option value='rnbq1rk1/pp2bppp/2p1pn2/4N3/2pP4/6P1/PP2PPBP/RNBQ1RK1 w - - 0 1|7'>Similar Position 3</option><option value='rnbq1rk1/pp2bppp/2p1pn2/8/2pP4/2N2NP1/PP2PPBP/R1BQ1RK1 w - - 0 1|7'>Similar Position 4</option><option value='rnbq1rk1/pp2bppp/2p1pn2/4N3/2pP4/6P1/PP2PPBP/RNBQ1RK1 w - - 0 1|7'>Similar Position 5</option><option value='rnbq1rk1/pp2bppp/2p1pn2/8/2pP4/2N2NP1/PP2PPBP/R1BQ1RK1 w - - 0 1|7'>Similar Position 6</option><option value='rnbq1rk1/pp2bppp/2p1pn2/4N3/2pP4/6P1/PP2PPBP/RNBQ1RK1 w - - 0 1|7'>Similar Position 7</option><option value='rnbq1rk1/pp2bppp/2p1pn2/8/2pP4/2N2NP1/PP2PPBP/R1BQ1RK1 w - - 0 1|7'>Similar Position 8</option><option value='r1bq1rk1/pp2bppp/1np1pn2/4N3/3P4/2N3P1/PP2PPBP/R1BQ1RK1 b - - 0 1|7'>Similar Position 9</option></select><span> is </span><span id=\"dist0\">0</span><span>.</span></td></tr><tr><td><div id=\"query0\" style=\"width: 400px\"></div></td><td><div id=\"myBoard0\" style=\"width: 400px\"></div></td></tr><tr><td>Your Query Position 1</td><td><span>The (Hamming) distance between query and </span><select id=\"mySelect1\" onchange=\"myFunction1()\"><option value='rnbq1rk1/pp2bppp/2p1pn2/4N3/2pP4/2N3P1/PP2PPBP/R1BQ1RK1 b - - 0 1|4'>Similar Position 0</option><option value='rnbq1rk1/pp3ppp/2pbpn2/6B1/2pP4/2N2NP1/PP2PPBP/R2Q1RK1 b - - 0 1|6'>Similar Position 1</option><option value='rnbq1rk1/pp2bppp/2p1pn2/8/2pP4/2N3P1/PP1NPPBP/R1BQ1RK1 b - - 0 1|6'>Similar Position 2</option><option value='rnbq1rk1/pp2bppp/2p1pn2/4N3/2pP4/6P1/PP2PPBP/RNBQ1RK1 w - - 0 1|7'>Similar Position 3</option><option value='rnbq1rk1/pp2bppp/2p1pn2/8/2pP4/2N2NP1/PP2PPBP/R1BQ1RK1 w - - 0 1|7'>Similar Position 4</option><option value='rnbq1rk1/pp2bppp/2p1pn2/4N3/2pP4/6P1/PP2PPBP/RNBQ1RK1 w - - 0 1|7'>Similar Position 5</option><option value='rnbq1rk1/pp2bppp/2p1pn2/8/2pP4/2N2NP1/PP2PPBP/R1BQ1RK1 w - - 0 1|7'>Similar Position 6</option><option value='rnbq1rk1/pp2bppp/2p1pn2/4N3/2pP4/6P1/PP2PPBP/RNBQ1RK1 w - - 0 1|7'>Similar Position 7</option><option value='rnbq1rk1/pp2bppp/2p1pn2/8/2pP4/2N2NP1/PP2PPBP/R1BQ1RK1 w - - 0 1|7'>Similar Position 8</option><option value='r1bq1rk1/pp2bppp/1np1pn2/4N3/3P4/2N3P1/PP2PPBP/R1BQ1RK1 b - - 0 1|7'>Similar Position 9</option></select><span> is </span><span id=\"dist1\">0</span><span>.</span></td></tr><tr><td><div id=\"query1\" style=\"width: 400px\"></div></td><td><div id=\"myBoard1\" style=\"width: 400px\"></div></td></tr></table><script src=\"https://unpkg.com/@chrisoakman/chessboardjs@1.0.0/dist/chessboard-1.0.0.min.js\" integrity=\"sha384-8Vi8VHwn3vjQ9eUHUxex3JSN/NFqUg3QbPyX8kWyb93+8AC/pPWTzj+nHtbC5bxD\" crossorigin=\"anonymous\"></script><script>var pos0 = document.getElementById(\"mySelect0\").value;var board0 = Chessboard('myBoard0',{showNotation: false});var query0 = Chessboard('query0',{position: 'rnbq1rk1/pp2bppp/2p1pn2/4N1B1/2pP4/2N3P1/PP2PPBP/R2Q1RK1 b Qq - 0 1',showNotation: false});function myFunction0() {var infos = document.getElementById(\"mySelect0\").value;var position = infos.split(\"|\")[0];var distance = infos.split(\"|\")[1];board0.position(position);document.getElementById(\"dist0\").innerHTML = distance;}var pos1 = document.getElementById(\"mySelect1\").value;var board1 = Chessboard('myBoard1',{showNotation: false});var query1 = Chessboard('query1',{position: 'rnbq1rk1/pp2bppp/2p1pn2/4N1B1/2pP4/2N3P1/PP2PPBP/R2Q1RK1 b Qq - 0 1',showNotation: false});function myFunction1() {var infos = document.getElementById(\"mySelect1\").value;var position = infos.split(\"|\")[0];var distance = infos.split(\"|\")[1];board1.position(position);document.getElementById(\"dist1\").innerHTML = distance;}</script>"
      ],
      "text/plain": [
       "<IPython.core.display.HTML object>"
      ]
     },
     "execution_count": 10,
     "metadata": {},
     "output_type": "execute_result"
    }
   ],
   "source": [
    "from IPython.display import HTML\n",
    "html = '''<link rel=\"stylesheet\" href=\"https://unpkg.com/@chrisoakman/chessboardjs@1.0.0/dist/chessboard-1.0.0.min.css\" integrity=\"sha384-q94+BZtLrkL1/ohfjR8c6L+A6qzNH9R2hBLwyoAfu3i/WCvQjzL2RQJ3uNHDISdU\" crossorigin=\"anonymous\"><table>'''\n",
    "for i in range(len(reconstructed)):\n",
    "    html += f'''<tr><td>Your Query Position {i}</td><td><span>The (Hamming) distance between query and </span><select id=\"mySelect{i}\" onchange=\"myFunction{i}()\">'''\n",
    "    for j in range(search_results):\n",
    "        html += f'''<option value='{reconstructed[i][j]}|{dist[i][j]}'>Similar Position {j}</option>'''\n",
    "    html += f'''</select><span> is </span><span id=\"dist{i}\">0</span><span>.</span></td></tr><tr><td><div id=\"query{i}\" style=\"width: 400px\"></div></td><td><div id=\"myBoard{i}\" style=\"width: 400px\"></div></td></tr>'''\n",
    "html += '''</table><script src=\"https://unpkg.com/@chrisoakman/chessboardjs@1.0.0/dist/chessboard-1.0.0.min.js\" integrity=\"sha384-8Vi8VHwn3vjQ9eUHUxex3JSN/NFqUg3QbPyX8kWyb93+8AC/pPWTzj+nHtbC5bxD\" crossorigin=\"anonymous\"></script><script>'''\n",
    "for i in range(len(reconstructed)):\n",
    "    html += f'''var pos{i} = document.getElementById(\"mySelect{i}\").value;var board{i} = Chessboard('myBoard{i}',{{showNotation: false}});var query{i} = Chessboard('query{i}',{{position: '{query[i]}',showNotation: false}});function myFunction{i}() {{var infos = document.getElementById(\"mySelect{i}\").value;var position = infos.split(\"|\")[0];var distance = infos.split(\"|\")[1];board{i}.position(position);document.getElementById(\"dist{i}\").innerHTML = distance;}}'''\n",
    "html += '''</script>'''\n",
    "HTML(html)"
   ]
  },
  {
   "cell_type": "markdown",
   "metadata": {},
   "source": [
    "## How are similar positions calculated?\n",
    "\n",
    "Positions are internally represented as bitboards, where each combination of (sqare,piece) is assigned the value 'true' if a piece of this type occupies the square and 'false' otherwise.\n",
    "\n",
    "Therefore the distance between positions is the [Hamming distance](https://en.wikipedia.org/wiki/Hamming_distance) between boolean vectors.\n",
    "\n",
    "This measure of position distances is however not too useful as you can find out by experimenting with the above demo. For other ways of measuring position similarity check out the metric learning part of this repo."
   ]
  },
  {
   "cell_type": "code",
   "execution_count": null,
   "metadata": {},
   "outputs": [],
   "source": []
  }
 ],
 "metadata": {
  "file_extension": ".py",
  "kernelspec": {
   "display_name": "Python 3.7.6 64-bit ('pos-emb': conda)",
   "language": "python",
   "name": "python37664bitposembcondafe902e4f67854e6d98f2a8ceedfcf887"
  },
  "language_info": {
   "codemirror_mode": {
    "name": "ipython",
    "version": 3
   },
   "file_extension": ".py",
   "mimetype": "text/x-python",
   "name": "python",
   "nbconvert_exporter": "python",
   "pygments_lexer": "ipython3",
   "version": "3.7.6"
  },
  "mimetype": "text/x-python",
  "name": "python",
  "npconvert_exporter": "python",
  "pygments_lexer": "ipython3",
  "version": 3
 },
 "nbformat": 4,
 "nbformat_minor": 2
}
