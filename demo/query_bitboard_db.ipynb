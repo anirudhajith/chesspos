{
 "cells": [
  {
   "cell_type": "markdown",
   "metadata": {},
   "source": [
    "**NOTE:** You might need to run this notebook locally for an optimal experience, since it contains javascript code that cannot be run on colab/github/etc."
   ]
  },
  {
   "cell_type": "markdown",
   "metadata": {},
   "source": [
    "# Query a pre-built database of chess positions\n",
    "\n",
    "This demo shows you how to search a pre-bulit database of chess positions for positions that are similar to your own query position."
   ]
  },
  {
   "cell_type": "markdown",
   "metadata": {},
   "source": [
    "### Enter your query\n",
    "\n",
    "First you need to specify the position for which you want to find similar positions for. Use the widget in the following cell to set up a board and then press the *Export Position* button."
   ]
  },
  {
   "cell_type": "code",
   "execution_count": null,
   "metadata": {},
   "outputs": [],
   "source": [
    "'''RUN THIS CELL ONLY ONCE to create the widget and a query queue'''\n",
    "from IPython.display import HTML\n",
    "query = []\n",
    "HTML('input-widget.html')"
   ]
  },
  {
   "cell_type": "markdown",
   "metadata": {},
   "source": [
    "Run the next cell to add your position to the query queue."
   ]
  },
  {
   "cell_type": "code",
   "execution_count": null,
   "metadata": {},
   "outputs": [],
   "source": [
    "'''ALWAYS RUN THIS CELL AFTER YOU ENTER A POSITION IN THE PREVIOUS WIDGET'''\n",
    "print(f\"The fen string of your position is: {fen}.\")\n",
    "query.append(fen)\n",
    "print(f\"The fen string was added to the query, which now has {len(query)} positions stored.\")"
   ]
  },
  {
   "cell_type": "markdown",
   "metadata": {},
   "source": [
    "After executing the last two cells you can **view the current query queue with the command below**. You can also **add more positions to the query queue by using the widget again and then executing the previous cell again**."
   ]
  },
  {
   "cell_type": "code",
   "execution_count": null,
   "metadata": {},
   "outputs": [],
   "source": [
    "print(query)"
   ]
  },
  {
   "cell_type": "markdown",
   "metadata": {},
   "source": [
    "**Alternatively** if the widget above does not work you can visit [lichess.org](https://lichess.org/editor) retrieve the fen string of your position there and then paste it in the array below."
   ]
  },
  {
   "cell_type": "code",
   "execution_count": 1,
   "metadata": {},
   "outputs": [],
   "source": [
    "'''\n",
    "EXECUTE THIS CELL ONLY IF YOU DON'T WANT TO USE THE WIDGET ABOVE.\n",
    "Replace the example fen string with your own.\n",
    "'''\n",
    "query = [\n",
    "    \"rnbq1rk1/pp2bppp/2p1pn2/4N1B1/2pP4/2N3P1/PP2PPBP/R2Q1RK1 b Qq - 0 1\", #list of fen strings seperated by comma\n",
    "    \"rnbq1rk1/pp2bppp/2p1pn2/4N1B1/2pP4/2N3P1/PP2PPBP/R2Q1RK1 b Qq - 0 1\"\n",
    "]"
   ]
  },
  {
   "cell_type": "markdown",
   "metadata": {},
   "source": [
    "### Load the database of chess positions"
   ]
  },
  {
   "cell_type": "code",
   "execution_count": null,
   "metadata": {},
   "outputs": [],
   "source": [
    "from chesspos.binary_index import index_load, index_query_positions"
   ]
  },
  {
   "cell_type": "markdown",
   "metadata": {},
   "source": [
    "Let's download a small precompiled database from google drive and uncompress it."
   ]
  },
  {
   "cell_type": "code",
   "execution_count": null,
   "metadata": {},
   "outputs": [],
   "source": [
    "!curl -L -o '../data/index_2013.faiss.bz2' 'https://docs.google.com/uc?export=download&id=1MQKJ6KSmYRyPbIP1ldsNBo-0dGhi-CpQ'\n",
    "!bzip2 -d ../data/index_2013.faiss.bz2"
   ]
  },
  {
   "cell_type": "markdown",
   "metadata": {},
   "source": [
    "Now load the database into memory. *You need at least 256MB of RAM.*"
   ]
  },
  {
   "cell_type": "code",
   "execution_count": null,
   "metadata": {},
   "outputs": [],
   "source": [
    "filepath = \"../data/index_2013.faiss\"\n",
    "index = index_load(filepath, is_binary=True)\n",
    "print(f\"The database you loaded contains {round(index.ntotal/1.e6,3)} million positions\")"
   ]
  },
  {
   "cell_type": "markdown",
   "metadata": {},
   "source": [
    "Specify the **expected number of results per query**, then search the database and retrieve most similar positions."
   ]
  },
  {
   "cell_type": "code",
   "execution_count": null,
   "metadata": {},
   "outputs": [],
   "source": [
    "search_results = 10\n",
    "dist, reconstructed = index_query_positions(query, index, input_format='fen', output_format='fen',\n",
    "                                            num_results=search_results)"
   ]
  },
  {
   "cell_type": "markdown",
   "metadata": {},
   "source": [
    "### Inspect the retrieved results\n",
    "\n",
    "Execute the cell below. This will generate a widget which lets you inspect the retireved queries."
   ]
  },
  {
   "cell_type": "code",
   "execution_count": null,
   "metadata": {},
   "outputs": [],
   "source": [
    "from IPython.display import HTML\n",
    "html = '''<link rel=\"stylesheet\" href=\"https://unpkg.com/@chrisoakman/chessboardjs@1.0.0/dist/chessboard-1.0.0.min.css\" integrity=\"sha384-q94+BZtLrkL1/ohfjR8c6L+A6qzNH9R2hBLwyoAfu3i/WCvQjzL2RQJ3uNHDISdU\" crossorigin=\"anonymous\"><table>'''\n",
    "for i in range(len(reconstructed)):\n",
    "    html += f'''<tr><td>Your Query Position {i}</td><td><span>The (Hamming) distance between query and </span><select id=\"mySelect{i}\" onchange=\"myFunction{i}()\">'''\n",
    "    for j in range(search_results):\n",
    "        html += f'''<option value='{reconstructed[i][j]}|{dist[i][j]}'>Similar Position {j}</option>'''\n",
    "    html += f'''</select><span> is </span><span id=\"dist{i}\">0</span><span>.</span></td></tr><tr><td><div id=\"query{i}\" style=\"width: 400px\"></div></td><td><div id=\"myBoard{i}\" style=\"width: 400px\"></div></td></tr>'''\n",
    "html += '''</table><script src=\"https://unpkg.com/@chrisoakman/chessboardjs@1.0.0/dist/chessboard-1.0.0.min.js\" integrity=\"sha384-8Vi8VHwn3vjQ9eUHUxex3JSN/NFqUg3QbPyX8kWyb93+8AC/pPWTzj+nHtbC5bxD\" crossorigin=\"anonymous\"></script><script>'''\n",
    "for i in range(len(reconstructed)):\n",
    "    html += f'''var pos{i} = document.getElementById(\"mySelect{i}\").value;var board{i} = Chessboard('myBoard{i}',{{showNotation: false}});var query{i} = Chessboard('query{i}',{{position: '{query[i]}',showNotation: false}});function myFunction{i}() {{var infos = document.getElementById(\"mySelect{i}\").value;var position = infos.split(\"|\")[0];var distance = infos.split(\"|\")[1];board{i}.position(position);document.getElementById(\"dist{i}\").innerHTML = distance;}}'''\n",
    "html += '''</script>'''\n",
    "HTML(html)"
   ]
  },
  {
   "cell_type": "markdown",
   "metadata": {},
   "source": [
    "## How are similar positions calculated?\n",
    "\n",
    "Positions are internally represented as bitboards, where each combination of (sqare,piece) is assigned the value 'true' if a piece of this type occupies the square and 'false' otherwise.\n",
    "\n",
    "Therefore the distance between positions is the [Hamming distance](https://en.wikipedia.org/wiki/Hamming_distance) between boolean vectors.\n",
    "\n",
    "This measure of position distances is however not too useful as you can find out by experimenting with the above demo. For other ways of measuring position similarity check out the metric learning part of this repo."
   ]
  },
  {
   "cell_type": "markdown",
   "metadata": {},
   "source": [
    "## Now use an embedding for search\n",
    "\n",
    "First we need to download an embedding model and the index files. Then we prepare everything for the saerch and retrieval."
   ]
  },
  {
   "cell_type": "code",
   "execution_count": null,
   "metadata": {},
   "outputs": [],
   "source": [
    "# download an embedding model\n",
    "!curl -L -o '../data/deep64.tar.bz2' 'https://docs.google.com/uc?export=download&id=1MHBTMx7yCJTL_l-BD72Nr3EEcwLa1myq'\n",
    "# download an index for search\n",
    "!curl -L -o '../data/PCA32,SQ6.faiss' 'https://docs.google.com/uc?export=download&id=1C70LuT3NGHdwqmPSrz4ZplwskakV769W'\n",
    "!curl -L -o '../data/PCA32,SQ6.json' 'https://docs.google.com/uc?export=download&id=1f94oEH6aMEFASQs1jowdiklCktZt3gy1'\n",
    "# download the bitboards that were used to create the index\n",
    "!curl -L -o '../data/2013_bitboards.tar.bz2' 'https://docs.google.com/uc?export=download&id=1i00hmYvjPn4LmNHj71fm_Kx9ETBv_cwa'\n",
    "# uncompress and clean up\n",
    "!tar -xjf ../data/deep64.tar.bz2 -C ../data/\n",
    "!mv ../data/deep64 ../data/model_deep64\n",
    "!rm ./data/deep64.tar.bz2\n",
    "!tar -xjf ../data/2013_bitboards.tar.bz2 -C ../data/\n",
    "!mv ../data/content/2013_bitboards ../data/2013_bitboards\n",
    "!rm -r ../data/content"
   ]
  },
  {
   "cell_type": "code",
   "execution_count": 2,
   "metadata": {},
   "outputs": [],
   "source": [
    "import json\n",
    "import faiss\n",
    "import numpy as np\n",
    "import tensorflow as tf\n",
    "\n",
    "from chesspos.convert import bitboard_to_board\n",
    "from chesspos.binary_index import board_to_bitboard\n",
    "from chesspos.utils import files_from_directory\n",
    "import chesspos.embedding_index as iemb"
   ]
  },
  {
   "cell_type": "code",
   "execution_count": 3,
   "metadata": {},
   "outputs": [],
   "source": [
    "# prepare everything for search\n",
    "encoder_path = \"../data/model_deep64/model_encoder.h5\"\n",
    "decoder_path =\"../data/model_deep64/model_decoder.h5\"\n",
    "embedding_path = f\"../data/2013_bitboards\"\n",
    "index_file_without_ending = \"../data/PCA32,SQ6\"\n",
    "# load the index\n",
    "table_dict = json.load( open( f\"{index_file_without_ending}.json\" ) )\n",
    "index = faiss.read_index(f\"{index_file_without_ending}.faiss\")\n",
    "# query same as above\n",
    "query = np.asarray(query)\n",
    "search_results = 10"
   ]
  },
  {
   "cell_type": "markdown",
   "metadata": {},
   "source": [
    "### Now search the index and retrieve position of nearest neighbors"
   ]
  },
  {
   "cell_type": "code",
   "execution_count": 4,
   "metadata": {},
   "outputs": [
    {
     "name": "stdout",
     "output_type": "stream",
     "text": [
      "WARNING:tensorflow:Error in loading the saved optimizer state. As a result, your model is starting with a freshly initialized optimizer.\n"
     ]
    }
   ],
   "source": [
    "D, I, E = iemb.index_query_positions(query, index, encoder_path,\n",
    "                                     input_format='fen', num_results=search_results)"
   ]
  },
  {
   "cell_type": "markdown",
   "metadata": {},
   "source": [
    "**And retrieve the belonging bitboards**"
   ]
  },
  {
   "cell_type": "code",
   "execution_count": 6,
   "metadata": {},
   "outputs": [
    {
     "name": "stdout",
     "output_type": "stream",
     "text": [
      "[  49366  209910  237040  637847  699750  877884 1163538 1266212 1449998\n",
      " 1634451 1693104 1765739]\n",
      "(2, 10, 773) bool\n"
     ]
    }
   ],
   "source": [
    "# retrieve the belonging bitboards\n",
    "file, table, offset = iemb.location_from_index(I, table_dict)\n",
    "bb_table = iemb.manipulate_prefix(table, \"position\")\n",
    "bb_file = iemb.manipulate_prefix(file, f\"{embedding_path}/lichess_db_standard_rated\")\n",
    "\n",
    "embedding_bitboards = iemb.retrieve_elements_from_file(bb_file, bb_table, offset)\n",
    "bb_shape = embedding_bitboards.shape\n",
    "print(embedding_bitboards.shape, embedding_bitboards.dtype)"
   ]
  },
  {
   "cell_type": "code",
   "execution_count": 18,
   "metadata": {},
   "outputs": [
    {
     "name": "stdout",
     "output_type": "stream",
     "text": [
      "2 10\n"
     ]
    }
   ],
   "source": [
    "# convert bitboards to fen\n",
    "def fen_converter(bb):\n",
    "    bb = bb.astype(bool)\n",
    "    board = bitboard_to_board(bb) \n",
    "    return board.fen()\n",
    "\n",
    "bitboards_fen = [[None for _ in range(bb_shape[1])] for _ in range(bb_shape[0])]\n",
    "for i in range(bb_shape[0]):\n",
    "    for j in range(bb_shape[1]):\n",
    "        bitboards_fen[i][j] = fen_converter(embedding_bitboards[i][j])\n",
    "print(len(bitboards_fen),len(bitboards_fen[0]))"
   ]
  },
  {
   "cell_type": "markdown",
   "metadata": {},
   "source": [
    "### Inspect the retireved results"
   ]
  },
  {
   "cell_type": "code",
   "execution_count": 20,
   "metadata": {},
   "outputs": [
    {
     "data": {
      "text/html": [
       "<link rel=\"stylesheet\" href=\"https://unpkg.com/@chrisoakman/chessboardjs@1.0.0/dist/chessboard-1.0.0.min.css\" integrity=\"sha384-q94+BZtLrkL1/ohfjR8c6L+A6qzNH9R2hBLwyoAfu3i/WCvQjzL2RQJ3uNHDISdU\" crossorigin=\"anonymous\"><table><tr><td>Your Query Position 0</td><td><span>Distance between query and </span><select id=\"mySelect0\" onchange=\"myFunction0()\"><option value='rnbq1rk1/pp2bppp/2p1pn2/4N3/2pP4/2N3P1/PP2PPBP/R1BQ1RK1 b - - 0 1|86.64042663574219'>Similar Position 0</option><option value='rn1q1rk1/pp3ppp/2p1pn2/4Nb2/1bpP4/2N3P1/PP2PPBP/R1BQ1RK1 w - - 0 1|127.13994598388672'>Similar Position 1</option><option value='rnbq1rk1/pp2bppp/2p1pn2/8/2pP1B2/2N2NP1/PP2PPBP/R2Q1RK1 b - - 0 1|129.4222869873047'>Similar Position 2</option><option value='rnbq1rk1/p3bppp/2p1pn2/1p2N3/2pP1B2/2N3P1/PP2PPBP/R2Q1RK1 b - - 0 1|137.4768524169922'>Similar Position 3</option><option value='rnbq1rk1/pp2bppp/2p1pn2/4N3/P1pP4/6P1/1P2PPBP/RNBQ1RK1 b - - 0 1|137.87359619140625'>Similar Position 4</option><option value='rnbq1rk1/pp3ppp/2p1pn2/4N3/1bpP4/2N3P1/PP2PPBP/R1BQ1RK1 b - - 0 1|140.6779327392578'>Similar Position 5</option><option value='rnbq1rk1/pp3ppp/2p1pn2/4N3/1bpP4/2N3P1/PP2PPBP/R1BQ1RK1 b - - 0 1|140.6779327392578'>Similar Position 6</option><option value='rnbq1rk1/pp2bppp/2p1p3/3nN3/2pP4/2N3P1/PP2PPBP/R1BQ1RK1 w - - 0 1|142.5911102294922'>Similar Position 7</option><option value='rnbq1rk1/pp2bppp/2p1pn2/4N3/2pP4/2N3P1/PP2PPBP/R1BQK2R w KQ - 0 1|148.51254272460938'>Similar Position 8</option><option value='rnbq1rk1/1p2bppp/p1p1pn2/4N3/2pP4/2N3P1/PP2PPBP/R1BQ1RK1 w - - 0 1|149.156494140625'>Similar Position 9</option></select><span> is </span><span id=\"dist0\">0</span><span>.</span></td></tr><tr><td><div id=\"query0\" style=\"width: 400px\"></div></td><td><div id=\"myBoard0\" style=\"width: 400px\"></div></td></tr><tr><td>Your Query Position 1</td><td><span>Distance between query and </span><select id=\"mySelect1\" onchange=\"myFunction1()\"><option value='rnbq1rk1/pp2bppp/2p1pn2/4N3/2pP4/2N3P1/PP2PPBP/R1BQ1RK1 b - - 0 1|86.64035034179688'>Similar Position 0</option><option value='rn1q1rk1/pp3ppp/2p1pn2/4Nb2/1bpP4/2N3P1/PP2PPBP/R1BQ1RK1 w - - 0 1|127.1399154663086'>Similar Position 1</option><option value='rnbq1rk1/pp2bppp/2p1pn2/8/2pP1B2/2N2NP1/PP2PPBP/R2Q1RK1 b - - 0 1|129.42222595214844'>Similar Position 2</option><option value='rnbq1rk1/p3bppp/2p1pn2/1p2N3/2pP1B2/2N3P1/PP2PPBP/R2Q1RK1 b - - 0 1|137.4767303466797'>Similar Position 3</option><option value='rnbq1rk1/pp2bppp/2p1pn2/4N3/P1pP4/6P1/1P2PPBP/RNBQ1RK1 b - - 0 1|137.87347412109375'>Similar Position 4</option><option value='rnbq1rk1/pp3ppp/2p1pn2/4N3/1bpP4/2N3P1/PP2PPBP/R1BQ1RK1 b - - 0 1|140.67787170410156'>Similar Position 5</option><option value='rnbq1rk1/pp3ppp/2p1pn2/4N3/1bpP4/2N3P1/PP2PPBP/R1BQ1RK1 b - - 0 1|140.67787170410156'>Similar Position 6</option><option value='rnbq1rk1/pp2bppp/2p1p3/3nN3/2pP4/2N3P1/PP2PPBP/R1BQ1RK1 w - - 0 1|142.59097290039062'>Similar Position 7</option><option value='rnbq1rk1/pp2bppp/2p1pn2/4N3/2pP4/2N3P1/PP2PPBP/R1BQK2R w KQ - 0 1|148.51248168945312'>Similar Position 8</option><option value='rnbq1rk1/1p2bppp/p1p1pn2/4N3/2pP4/2N3P1/PP2PPBP/R1BQ1RK1 w - - 0 1|149.1564178466797'>Similar Position 9</option></select><span> is </span><span id=\"dist1\">0</span><span>.</span></td></tr><tr><td><div id=\"query1\" style=\"width: 400px\"></div></td><td><div id=\"myBoard1\" style=\"width: 400px\"></div></td></tr></table><script src=\"https://unpkg.com/@chrisoakman/chessboardjs@1.0.0/dist/chessboard-1.0.0.min.js\" integrity=\"sha384-8Vi8VHwn3vjQ9eUHUxex3JSN/NFqUg3QbPyX8kWyb93+8AC/pPWTzj+nHtbC5bxD\" crossorigin=\"anonymous\"></script><script>var pos0 = document.getElementById(\"mySelect0\").value;var board0 = Chessboard('myBoard0',{showNotation: false});var query0 = Chessboard('query0',{position: 'rnbq1rk1/pp2bppp/2p1pn2/4N1B1/2pP4/2N3P1/PP2PPBP/R2Q1RK1 b Qq - 0 1',showNotation: false});function myFunction0() {var infos = document.getElementById(\"mySelect0\").value;var position = infos.split(\"|\")[0];var distance = parseFloat(infos.split(\"|\")[1]).toFixed(2);board0.position(position);document.getElementById(\"dist0\").innerHTML = distance;}var pos1 = document.getElementById(\"mySelect1\").value;var board1 = Chessboard('myBoard1',{showNotation: false});var query1 = Chessboard('query1',{position: 'rnbq1rk1/pp2bppp/2p1pn2/4N1B1/2pP4/2N3P1/PP2PPBP/R2Q1RK1 b Qq - 0 1',showNotation: false});function myFunction1() {var infos = document.getElementById(\"mySelect1\").value;var position = infos.split(\"|\")[0];var distance = parseFloat(infos.split(\"|\")[1]).toFixed(2);board1.position(position);document.getElementById(\"dist1\").innerHTML = distance;}</script>"
      ],
      "text/plain": [
       "<IPython.core.display.HTML object>"
      ]
     },
     "execution_count": 20,
     "metadata": {},
     "output_type": "execute_result"
    }
   ],
   "source": [
    "from IPython.display import HTML\n",
    "html = '''<link rel=\"stylesheet\" href=\"https://unpkg.com/@chrisoakman/chessboardjs@1.0.0/dist/chessboard-1.0.0.min.css\" integrity=\"sha384-q94+BZtLrkL1/ohfjR8c6L+A6qzNH9R2hBLwyoAfu3i/WCvQjzL2RQJ3uNHDISdU\" crossorigin=\"anonymous\"><table>'''\n",
    "for i in range(len(bitboards_fen)):\n",
    "    html += f'''<tr><td>Your Query Position {i}</td><td><span>Distance between query and </span><select id=\"mySelect{i}\" onchange=\"myFunction{i}()\">'''\n",
    "    for j in range(search_results):\n",
    "        html += f'''<option value='{bitboards_fen[i][j]}|{D[i][j]}'>Similar Position {j}</option>'''\n",
    "    html += f'''</select><span> is </span><span id=\"dist{i}\">0</span><span>.</span></td></tr><tr><td><div id=\"query{i}\" style=\"width: 400px\"></div></td><td><div id=\"myBoard{i}\" style=\"width: 400px\"></div></td></tr>'''\n",
    "html += '''</table><script src=\"https://unpkg.com/@chrisoakman/chessboardjs@1.0.0/dist/chessboard-1.0.0.min.js\" integrity=\"sha384-8Vi8VHwn3vjQ9eUHUxex3JSN/NFqUg3QbPyX8kWyb93+8AC/pPWTzj+nHtbC5bxD\" crossorigin=\"anonymous\"></script><script>'''\n",
    "for i in range(len(bitboards_fen)):\n",
    "    html += f'''var pos{i} = document.getElementById(\"mySelect{i}\").value;var board{i} = Chessboard('myBoard{i}',{{showNotation: false}});var query{i} = Chessboard('query{i}',{{position: '{query[i]}',showNotation: false}});function myFunction{i}() {{var infos = document.getElementById(\"mySelect{i}\").value;var position = infos.split(\"|\")[0];var distance = parseFloat(infos.split(\"|\")[1]).toFixed(2);board{i}.position(position);document.getElementById(\"dist{i}\").innerHTML = distance;}}'''\n",
    "html += '''</script>'''\n",
    "HTML(html)"
   ]
  },
  {
   "cell_type": "markdown",
   "metadata": {},
   "source": [
    "## Why is the result worse than I expected?\n",
    "\n",
    "If you execute the code above you might be disappointed by the retrieved results. This is most likely due to the fact that you are only searching in a database of 1.7 million positions. After all a similar positin can only be retrieved if it is in the database. You might want to download one of the bigger databases I provide (see section 4.3 of the readme).\n",
    "\n",
    "Another reason for poor performance could be that you selected a position from the opening or endgame phase. Since the embedding models that I provide are trained on middle game positions the embeddings might not have the highest possible quality in that case."
   ]
  },
  {
   "cell_type": "code",
   "execution_count": null,
   "metadata": {},
   "outputs": [],
   "source": []
  }
 ],
 "metadata": {
  "file_extension": ".py",
  "kernelspec": {
   "display_name": "Python 3.7.6 64-bit ('pos-emb': conda)",
   "language": "python",
   "name": "python37664bitposembcondafe902e4f67854e6d98f2a8ceedfcf887"
  },
  "language_info": {
   "codemirror_mode": {
    "name": "ipython",
    "version": 3
   },
   "file_extension": ".py",
   "mimetype": "text/x-python",
   "name": "python",
   "nbconvert_exporter": "python",
   "pygments_lexer": "ipython3",
   "version": "3.7.6"
  },
  "mimetype": "text/x-python",
  "name": "python",
  "npconvert_exporter": "python",
  "pygments_lexer": "ipython3",
  "version": 3
 },
 "nbformat": 4,
 "nbformat_minor": 2
}
