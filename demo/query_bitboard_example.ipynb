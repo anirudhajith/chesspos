{
 "cells": [
  {
   "cell_type": "markdown",
   "metadata": {},
   "source": [
    "## Enter positions"
   ]
  },
  {
   "cell_type": "code",
   "execution_count": 1,
   "metadata": {},
   "outputs": [],
   "source": [
    "query = [\n",
    "    'rnbqkb1r/ppp1pp1p/3p1np1/8/2PP4/2N2N2/PP2PPPP/R1BQKB1R b KQkq - 1 4', # opening\n",
    "    'rn1qkb1r/1b2pppp/p2p1n2/1p4B1/3NP3/2N2Q2/PPP2PPP/R3KB1R w KQkq - 2 8', # opening\n",
    "    'rnbqk2r/4bppp/p2ppn2/1p4B1/3NP3/2N5/PPPQ1PPP/2KR1B1R w kq - 0 9', # opening\n",
    "    'r2qkb1r/pbpp1ppp/1pn1pn2/8/2PP4/5NP1/PP2PPBP/RNBQ1RK1 b kq - 0 6', # unusual opening\n",
    "    '1r1qkb1r/pBpn1ppp/4b2n/8/8/4Q3/PP1PPP1P/RNB1K1NR w KQk - 3 9', # unusual opening\n",
    "    'r1bq1rk1/pp1nbppp/2p1pn2/3P2B1/3P4/2NBPN2/PP3PPP/R2QK2R b KQ - 0 8', # queens gambit\n",
    "    '5rk1/3nqppp/r1p2n2/p3p1B1/4P3/2P2N2/P1Q2PPP/3R1RK1 w - - 0 15', # middle game\n",
    "    'r3k2r/pbp1qppp/1pn1pn2/3pP3/Q1P5/P1N3P1/1P2PPBP/R1B2RK1 b kq - 0 13', # middle game\n",
    "    'r4rk1/1bq1bppp/p3p3/2npP3/1p1N1PPP/1B2Q3/PPP1N3/1K1R3R w - - 1 20', # middle game\n",
    "    'r1b2rk1/ppq3p1/2p1p1Bp/2n1P3/2p2P2/2N3P1/1PQ1P2P/R4RK1 b - - 1 16', # middle game\n",
    "    '1r1q1b1r/p1p1kppp/2B1b3/2n2n2/8/8/PP1PPPQP/RNB1K1NR b KQ - 10 12', # king in the middle\n",
    "    'r1bqr1kb/p3pp2/np1p2pB/3P2N1/4P1nP/2N5/PP1QB3/R3K2R w KQ - 0 17', # attack\n",
    "    'r2qk2r/4bpp1/p1b1p2p/3p3P/1p3P2/3B2P1/PPPQ1N2/2KR3R w kq - 0 18', # typical attack\n",
    "    'r2qk2r/1p1n1pp1/p1pbp3/8/PPQP3p/2N1PNP1/5PP1/R4RK1 w kq - 0 15', # attack\n",
    "    'rr4k1/4bpPp/4p2Q/3pq2N/1p1N2PP/p1Pb4/PP6/1K1RR3 w - - 2 30', # attack\n",
    "    'r4r2/4p1k1/p4npQ/qppPpp2/P1P1P3/2N2P2/1P6/R3K2R b KQ - 1 21', # attack\n",
    "    '4kr2/5p2/4p2p/7P/3QNP2/1p6/qK6/r2R2R1 w - - 3 31', # attack, check\n",
    "    '2kr4/1p1n1pp1/p1p1p3/8/PPQP4/2N1P1q1/8/R4R1K w - - 2 20', # open line\n",
    "    '5rk1/3nqp2/1rp4p/p3p1p1/2Q1P3/2PR1Nn1/P4PPP/5RK1 w - - 0 20', # capture\n",
    "    '2r2qrk/4p3/pp1pP2b/3N4/8/3Q4/PP6/1K5R b - - 0 32', # material imbalance\n",
    "    '4kr2/5p2/4p2p/q6P/3KNP2/1p6/8/3R2R1 b - - 0 34', # material imbalance\n",
    "    '8/p2R2pk/1p2p2p/4P3/4PB1P/P3K1P1/1P2N3/1q6 w - - 9 39', # material imbalance\n",
    "    '7k/5Bp1/1r2p1KP/2p1P1P1/2P5/4P3/8/8 b - - 0 49', # material imbalance\n",
    "    'r1b2rk1/pp1nqppp/2p5/8/3PP3/3B1N2/P4PPP/R2Q1RK1 b - - 0 13', # hanging pawns\n",
    "    'r2qkb1r/pppn1ppp/4p3/3p4/3P4/3QPNP1/PPP2PP1/RN3RK1 b kq - 0 9', # closed position\n",
    "    '8/8/2p2n1P/p3p2N/6p1/4K1P1/Pk6/8 b - - 2 37', # endgame\n",
    "    '8/8/2p2K1P/8/8/6P1/pk6/8 b - - 0 44', # endgame\n",
    "    '8/7p/8/1K6/3k4/2p5/P6P/8 w - - 0 49', # endgame\n",
    "]\n",
    "search_results = 20"
   ]
  },
  {
   "cell_type": "markdown",
   "metadata": {},
   "source": [
    "## Load and search database of bitboards\n",
    "\n",
    "Instead of loading indices and searching yourself you can also check out the 'Compare retireved results' section and unpickle precompiled searches!"
   ]
  },
  {
   "cell_type": "code",
   "execution_count": 2,
   "metadata": {},
   "outputs": [],
   "source": [
    "from chesspos.binary_index import index_load, index_query_positions"
   ]
  },
  {
   "cell_type": "code",
   "execution_count": 3,
   "metadata": {},
   "outputs": [
    {
     "name": "stdout",
     "output_type": "stream",
     "text": [
      "The database you loaded contains 46.728 million positions\n"
     ]
    }
   ],
   "source": [
    "filepath = \"/media/pafrank/Backup/other/Chess/lichess/indices/index_2015\"\n",
    "bb_index = index_load(filepath, is_binary=True)\n",
    "print(f\"The database you loaded contains {round(bb_index.ntotal/1.e6,3)} million positions\")"
   ]
  },
  {
   "cell_type": "code",
   "execution_count": 4,
   "metadata": {},
   "outputs": [
    {
     "name": "stdout",
     "output_type": "stream",
     "text": [
      "CPU times: user 3min 46s, sys: 827 ms, total: 3min 47s\n",
      "Wall time: 58.6 s\n"
     ]
    }
   ],
   "source": [
    "%%time\n",
    "dist, reconstructed = index_query_positions(query, bb_index, input_format='fen', output_format='fen',\n",
    "                                            num_results=search_results)"
   ]
  },
  {
   "cell_type": "code",
   "execution_count": 6,
   "metadata": {},
   "outputs": [],
   "source": [
    "import pickle\n",
    "pickle.dump(dist, open('examples/example_bitboard_distances.p','wb'))\n",
    "pickle.dump(reconstructed, open('examples/example_bitboards.p','wb'))"
   ]
  },
  {
   "cell_type": "markdown",
   "metadata": {},
   "source": [
    "## Load and search database of embeddings"
   ]
  },
  {
   "cell_type": "code",
   "execution_count": 2,
   "metadata": {},
   "outputs": [],
   "source": [
    "import json\n",
    "import faiss\n",
    "import numpy as np\n",
    "import tensorflow as tf\n",
    "\n",
    "from chesspos.convert import bitboard_to_board\n",
    "from chesspos.binary_index import board_to_bitboard\n",
    "from chesspos.utils import files_from_directory\n",
    "import chesspos.embedding_index as iemb"
   ]
  },
  {
   "cell_type": "code",
   "execution_count": 3,
   "metadata": {},
   "outputs": [
    {
     "name": "stdout",
     "output_type": "stream",
     "text": [
      "The database you loaded contains 907.544 million positions\n"
     ]
    }
   ],
   "source": [
    "# prepare everything for search\n",
    "encoder_path = \"./models/deep64/model_encoder.h5\"\n",
    "decoder_path =\"./models/deep64/model_decoder.h5\"\n",
    "embedding_path = \"./indices/all_bitboards\"\n",
    "index_file_without_ending = \"./indices/all_d64/PCA16,SQ4\"\n",
    "# load the index\n",
    "table_dict = json.load( open( f\"{index_file_without_ending}.json\" ) )\n",
    "index = faiss.read_index(f\"{index_file_without_ending}.faiss\")\n",
    "query = np.asarray(query)\n",
    "print(f\"The database you loaded contains {round(index.ntotal/1.e6,3)} million positions\")"
   ]
  },
  {
   "cell_type": "code",
   "execution_count": 4,
   "metadata": {},
   "outputs": [
    {
     "name": "stdout",
     "output_type": "stream",
     "text": [
      "WARNING:tensorflow:Error in loading the saved optimizer state. As a result, your model is starting with a freshly initialized optimizer.\n",
      "CPU times: user 49min 14s, sys: 1min 27s, total: 50min 41s\n",
      "Wall time: 14min 14s\n"
     ]
    }
   ],
   "source": [
    "%%time\n",
    "D, I, E = iemb.index_query_positions(query, index, encoder_path,\n",
    "                                     input_format='fen', num_results=search_results)"
   ]
  },
  {
   "cell_type": "code",
   "execution_count": 5,
   "metadata": {},
   "outputs": [
    {
     "name": "stdout",
     "output_type": "stream",
     "text": [
      "[   774324   1550504   2328781 ... 906804818 906877453 907544126]\n",
      "(28, 20, 773) bool\n",
      "CPU times: user 11.4 s, sys: 714 ms, total: 12.1 s\n",
      "Wall time: 37 s\n"
     ]
    }
   ],
   "source": [
    "%%time\n",
    "# retrieve the belonging bitboards\n",
    "file, table, offset = iemb.location_from_index(I, table_dict)\n",
    "bb_table = iemb.manipulate_prefix(table, \"position\")\n",
    "bb_file = iemb.manipulate_prefix(file, f\"{embedding_path}/lichess_db_standard_rated\")\n",
    "\n",
    "embedding_bitboards = iemb.retrieve_elements_from_file(bb_file, bb_table, offset)\n",
    "bb_shape = embedding_bitboards.shape\n",
    "print(embedding_bitboards.shape, embedding_bitboards.dtype)"
   ]
  },
  {
   "cell_type": "code",
   "execution_count": 6,
   "metadata": {},
   "outputs": [
    {
     "name": "stdout",
     "output_type": "stream",
     "text": [
      "28 20 [['rnbqkb1r/ppp1pp1p/3p1np1/8/2PP4/2N2N2/PP2PPPP/R1BQKB1R b KQkq - 0 1', 'rnbqkb1r/ppp1pp1p/3p1np1/8/2PP4/2N2N2/PP2PPPP/R1BQKB1R b KQkq - 0 1', 'rnbqkb1r/ppp1pp1p/3p1np1/8/2PP4/2N2N2/PP2PPPP/R1BQKB1R b KQkq - 0 1', 'rnbqkb1r/ppp1pp1p/3p1np1/8/2PP4/2N2N2/PP2PPPP/R1BQKB1R b KQkq - 0 1', 'rnbqkb1r/ppp1pp1p/3p1np1/8/2PP4/2N2N2/PP2PPPP/R1BQKB1R b KQkq - 0 1', 'rnbqkb1r/ppp1pp1p/3p1np1/8/2PP4/2N2N2/PP2PPPP/R1BQKB1R b KQkq - 0 1', 'rnbqkb1r/ppp1pp1p/3p1np1/8/2PP4/2N2N2/PP2PPPP/R1BQKB1R b KQkq - 0 1', 'rnbqkb1r/ppp1pp1p/3p1np1/8/2PP4/2N2N2/PP2PPPP/R1BQKB1R b KQkq - 0 1', 'rnbqkb1r/ppp1pp1p/3p1np1/8/2PP4/2N2N2/PP2PPPP/R1BQKB1R b KQkq - 0 1', 'rnbqkb1r/ppp1pp1p/3p1np1/8/2PP4/2N2N2/PP2PPPP/R1BQKB1R b KQkq - 0 1', 'rnbqkb1r/ppp1pp1p/3p1np1/8/2PP4/2N2N2/PP2PPPP/R1BQKB1R b KQkq - 0 1', 'rnbqkb1r/ppp1pp1p/3p1np1/8/2PP4/2N2N2/PP2PPPP/R1BQKB1R b KQkq - 0 1', 'rnbqkb1r/ppp1pp1p/3p1np1/8/2PP4/2N2N2/PP2PPPP/R1BQKB1R b KQkq - 0 1', 'rnbqkb1r/ppp1pp1p/3p1np1/8/2PP4/2N2N2/PP2PPPP/R1BQKB1R b KQkq - 0 1', 'rnbqkb1r/ppp1pp1p/3p1np1/8/2PP4/2N2N2/PP2PPPP/R1BQKB1R b KQkq - 0 1', 'rnbqkb1r/ppp1pp1p/3p1np1/8/2PP4/2N2N2/PP2PPPP/R1BQKB1R b KQkq - 0 1', 'rnbqkb1r/ppp1pp1p/3p1np1/8/2PP4/2N2N2/PP2PPPP/R1BQKB1R b KQkq - 0 1', 'rnbqkb1r/ppp1pp1p/3p1np1/8/2PP4/2N2N2/PP2PPPP/R1BQKB1R b KQkq - 0 1', 'rnbqkb1r/ppp1pp1p/3p1np1/8/2PP4/2N2N2/PP2PPPP/R1BQKB1R b KQkq - 0 1', 'rnbqkb1r/ppp1pp1p/3p1np1/8/2PP4/2N2N2/PP2PPPP/R1BQKB1R b KQkq - 0 1'], ['rn1qkb1r/1b2pppp/p2p1n2/1p4B1/3NP3/2N2Q2/PPP2PPP/R3KB1R w KQkq - 0 1', 'rn1qkb1r/1b2pppp/p2p1n2/1p4B1/3NP3/2N2Q2/PPP2PPP/R3KB1R w KQkq - 0 1', 'rn1qkb1r/1b2pppp/p2p1n2/1p4B1/3NP3/2N2Q2/PPP2PPP/R3KB1R w KQkq - 0 1', 'rn1qkb1r/1b2pppp/p2p1n2/1p4B1/3NP3/2N2Q2/PPP2PPP/R3KB1R w KQkq - 0 1', 'rn1qkb1r/1b2pppp/p2p1n2/1p4B1/3NP3/2N2Q2/PPP2PPP/R3KB1R w KQkq - 0 1', 'rn1qkb1r/1b2pppp/p2p1n2/1p4B1/3NP3/2N2Q2/PPP2PPP/R3KB1R w KQkq - 0 1', 'rn1qkb1r/1b2pppp/p2p1n2/1p4B1/3NP3/2N2Q2/PPP2PPP/R3KB1R w KQkq - 0 1', 'rn1qkb1r/1b2pppp/p2p1n2/1p4B1/P2NP3/2N2Q2/1PP2PPP/R3KB1R b KQkq - 0 1', 'rn1qkb1r/1b2pppp/p2p1n2/1p6/3NP3/2NB3P/PPP1QPP1/R1B1K2R b KQkq - 0 1', 'rn1qkb1r/1b2pppp/p2p1n2/1p6/3NP3/2NB3P/PPP1QPP1/R1B1K2R b KQkq - 0 1', 'rn1qkb1r/1b2pppp/p2p1n2/1p6/3NP3/2NB3P/PPP1QPP1/R1B1K2R b KQkq - 0 1', 'rn1qkb1r/1b2pppp/p2p1n2/1p6/3NP3/2NB3P/PPP1QPP1/R1B1K2R b KQkq - 0 1', 'rn1qkb1r/1b2pppp/p2p1n2/1p6/3NP3/2NB3P/PPP1QPP1/R1B1K2R b KQkq - 0 1', 'rn1qkb1r/1b2pppp/p2p1n2/1p6/3NP3/2NB3P/PPP1QPP1/R1B1K2R b KQkq - 0 1', 'rn1qkb1r/1b2pppp/p2p1n2/1p6/3NP3/2NB3P/PPP1QPP1/R1B1K2R b KQkq - 0 1', 'rn1qkb1r/1b2pppp/p2p1n2/1p6/3NP3/2NB3P/PPP1QPP1/R1B1K2R b KQkq - 0 1', 'rn1qkb1r/1b2pppp/p2p1n2/1p6/3NP3/2NB3P/PPP1QPP1/R1B1K2R b KQkq - 0 1', 'r1bqkb1r/3n1ppp/p2ppn2/1p6/3NP3/P1N3Q1/1PP1BPPP/R1B1K2R b KQkq - 0 1', 'r2qkb1r/1b2pppp/p2p1n2/1pn5/3NPP2/P1NB1Q2/1PP3PP/R1B1K2R w KQkq - 0 1', 'r2qkb1r/1b2pppp/p2p1n2/1pn5/3NPP2/P1NB1Q2/1PP3PP/R1B1K2R w KQkq - 0 1'], ['rnbqk2r/4bppp/p2ppn2/1p4B1/3NP3/2N5/PPPQ1PPP/2KR1B1R w kq - 0 1', 'rnbqk2r/4bppp/p2ppn2/1p4B1/3NP3/2N5/PPPQ1PPP/2KR1B1R w kq - 0 1', 'rnbqk2r/4bppp/p2ppn2/1p4B1/3NP3/2N5/PPPQ1PPP/2KR1B1R w kq - 0 1', 'rnbqk2r/4bppp/p2ppn2/1p4B1/3NP3/2N5/PPPQ1PPP/2KR1B1R w kq - 0 1', 'rnbqk2r/4bppp/p2ppn2/1p4B1/3NP3/2N5/PPPQ1PPP/2KR1B1R w kq - 0 1', 'rnbqk2r/4bppp/p2ppn2/1p4B1/3NP3/2N5/PPPQ1PPP/2KR1B1R w kq - 0 1', 'rnbqk2r/4bppp/p2ppn2/1p4B1/3NP3/2N5/PPPQ1PPP/2KR1B1R w kq - 0 1', 'rnbqk2r/4bppp/p2ppn2/1p4B1/3NP3/2N5/PPPQ1PPP/2KR1B1R w kq - 0 1', 'rnbqk2r/4bppp/p2ppn2/1p4B1/3NP3/2N5/PPPQ1PPP/2KR1B1R w kq - 0 1', 'rnbqk2r/4bppp/p2ppn2/1p4B1/3NP3/2N5/PPPQ1PPP/2KR1B1R w kq - 0 1', 'rnbqk2r/4bppp/p2ppn2/1p4B1/3NP3/2N5/PPPQ1PPP/2KR1B1R w kq - 0 1', 'rnbqk2r/4bppp/p2ppn2/1p4B1/3NP3/2N5/PPPQ1PPP/2KR1B1R w kq - 0 1', 'rnbqk2r/4bppp/p2ppn2/1p4B1/3NP3/2N5/PPPQ1PPP/2KR1B1R w kq - 0 1', 'rnbqk2r/4bppp/p2ppn2/1p4B1/3NP3/2N5/PPPQ1PPP/2KR1B1R w kq - 0 1', 'rnbqk2r/4bppp/p2ppn2/1p4B1/3NP3/2N5/PPPQ1PPP/2KR1B1R w kq - 0 1', 'rnbqk2r/4bppp/p2ppn2/1p4B1/3NP3/2N5/PPPQ1PPP/2KR1B1R w kq - 0 1', 'rnbqk2r/4bppp/p2ppn2/1p4B1/3NP3/2N5/PPPQ1PPP/2KR1B1R w kq - 0 1', 'rnbqk2r/4bppp/p2ppn2/1p4B1/3NP3/2N5/PPPQ1PPP/2KR1B1R w kq - 0 1', 'rnbqk2r/4bppp/p2ppn2/1p4B1/3NP3/2N5/PPPQ1PPP/2KR1B1R w kq - 0 1', 'rnbqk2r/4bppp/p2ppn2/1p4B1/3NP3/2N5/PPPQ1PPP/2KR1B1R w kq - 0 1'], ['r2qkb1r/pbpp1ppp/1pn1pn2/8/2PP4/5NP1/PP2PPBP/RNBQ1RK1 b kq - 0 1', 'r2qkb1r/pbpp1ppp/1pn1pn2/8/2PP4/5NP1/PP2PPBP/RNBQ1RK1 b kq - 0 1', 'r2qkb1r/pbpp1ppp/1pn1pn2/8/2PP4/5NP1/PP2PPBP/RNBQ1RK1 b kq - 0 1', 'r2qkb1r/pbpp1ppp/1pn1pn2/8/2PP4/5NP1/PP2PPBP/RNBQ1RK1 b kq - 0 1', 'r2qkb1r/pbpp1ppp/1pn1pn2/8/2PP4/5NP1/PP2PPBP/RNBQ1RK1 b kq - 0 1', 'r2qkb1r/pbpp1ppp/1pn1pn2/8/2PP4/5NP1/PP2PPBP/RNBQ1RK1 b kq - 0 1', 'r2qkb1r/pbpp1ppp/1pn1pn2/8/2PP4/5NP1/PP2PPBP/RNBQ1RK1 b kq - 0 1', 'r2qkb1r/pbpp1ppp/1pn1pn2/8/2PP4/5NP1/PP2PPBP/RNBQ1RK1 b kq - 0 1', 'r2qkb1r/pbpp1ppp/1pn1pn2/8/2PP4/5NP1/PP2PPBP/RNBQ1RK1 b kq - 0 1', 'r2qkb1r/pbpp1ppp/1pn1pn2/8/2PP4/5NP1/PP2PPBP/RNBQ1RK1 b kq - 0 1', 'r2qkb1r/pbpp1ppp/1pn1pn2/8/2PP4/5NP1/PP2PPBP/RNBQ1RK1 b kq - 0 1', 'r2qkb1r/pbpp1ppp/1pn1pn2/8/2PP4/5NP1/PP2PPBP/RNBQ1RK1 b kq - 0 1', 'r2qkb1r/pbpp1ppp/1pn1pn2/8/2PP4/5NP1/PP2PPBP/RNBQ1RK1 b kq - 0 1', 'r2qkb1r/pbpp1ppp/1pn1pn2/8/2PP4/5NP1/PP2PPBP/RNBQ1RK1 b kq - 0 1', 'r2qkb1r/pbpp1ppp/1pn1pn2/8/2PP4/5NP1/PP2PPBP/RNBQ1RK1 b kq - 0 1', 'r2qkb1r/pbpp1ppp/1pn1pn2/8/2PP4/5NP1/PP2PPBP/RNBQ1RK1 b kq - 0 1', 'r2qkb1r/pbpp1ppp/1pn1pn2/8/2PP4/5NP1/PP2PPBP/RNBQ1RK1 b kq - 0 1', 'r2qkb1r/pbpp1ppp/1pn1pn2/8/2PP4/5NP1/PP2PPBP/RNBQ1RK1 b kq - 0 1', 'r2qkb1r/pbpp1ppp/1pn1pn2/8/2PP4/5NP1/PP2PPBP/RNBQ1RK1 b kq - 0 1', 'r2qkb1r/pbpp1ppp/1pn1pn2/8/2PP4/5NP1/PP2PPBP/RNBQ1RK1 b kq - 0 1'], ['1r2kbnr/pBpn1ppp/4bq2/8/8/4Q3/PP1PPP1P/RNB1K1NR w KQk - 0 1', '1r1qkb1r/pQpnPppp/5n2/5b2/8/8/PP1PPPBP/RNB1K1NR b KQk - 0 1', 'r3kb1r/pp2pppp/2n2n2/1Bpq4/8/1P3b2/PBPP1PPP/RN1Q1RK1 w kq - 0 1', 'r3kb1r/pp2pppp/2n2n2/1Bpq4/8/1P3b2/PBPP1PPP/RN1Q1RK1 w kq - 0 1', 'r1bqk2r/ppp1pp1p/2n3p1/1B1nb3/3P4/2N5/PPP2PPP/R1BQK2R w KQkq - 0 1', 'r3kb1r/ppp1nppp/2n1b3/1B2N3/1q1P4/2N5/PPP2PPP/R1BQK2R b KQkq - 0 1', 'r2qkb1r/pppbpppp/2n2n2/1B6/8/1PN2N2/PBPP1PPP/R2Q1RK1 b kq - 0 1', 'rn1qkb1r/ppp1pp1p/4b1p1/1B1n4/3P4/2N5/PPP2PPP/R1BQK1NR b KQkq - 0 1', 'rn1qkb1r/ppp1pp1p/4b1p1/1B1n4/3P4/2N5/PPP2PPP/R1BQK1NR b KQkq - 0 1', '1r1qkb1r/pQ1n1ppp/4pn2/8/6b1/5B2/PP1PPP1P/RNB1K1NR w KQk - 0 1', 'r3kb1r/pppbpppp/2nq4/1B6/3P2n1/2N5/PPP2PPP/R1BQK1NR w KQkq - 0 1', 'rn1qkb1r/pp3ppp/4bn2/3p4/2pP1N2/2N3P1/PPP2PBP/R1BQK2R b KQkq - 0 1', 'rn1qkb1r/pp3ppp/4bn2/3p4/2pP1N2/2N3P1/PPP2PBP/R1BQK2R b KQkq - 0 1', 'rn1qkb1r/pp3ppp/4bn2/3p4/2pP1N2/2N3P1/PPP2PBP/R1BQK2R b KQkq - 0 1', 'rn1qkb1r/pp3ppp/4bn2/3p4/2pP1N2/2N3P1/PPP2PBP/R1BQK2R b KQkq - 0 1', 'rn2kb1r/pp1bpppp/8/1Bqn4/8/2N5/PPP2PPP/R1BQK1NR w KQkq - 0 1', 'r1bqkb1r/pp3ppp/2n2n2/3p4/2pP1N2/6P1/PPP2PBP/RNBQK2R w KQkq - 0 1', 'r1b1kb1r/pp2pppp/1qn2n2/8/8/6P1/PP1PPPBP/RNBQK1NR w KQkq - 0 1', 'r3kb1r/ppp1pppp/2nq4/1B2Nb2/3P4/2n5/PPP2PPP/R1BQK2R w KQkq - 0 1', '1r1qkb1r/pQpn1ppp/5n2/3B1b2/8/6P1/PP1PPP1P/RNB1K1NR w KQk - 0 1'], ['r1bq1rk1/pp1nbppp/2p1pn2/3P2B1/3P4/2NBPN2/PP3PPP/R2QK2R b KQ - 0 1', 'r1bq1rk1/pp1nbppp/2p1pn2/3P2B1/3P4/2NBPN2/PP3PPP/R2QK2R b KQ - 0 1', 'r1bq1rk1/pp1nbppp/2p1pn2/3P2B1/3P4/2NBPN2/PP3PPP/R2QK2R b KQ - 0 1', 'r1bq1rk1/pp1nbppp/2p1pn2/3P2B1/3P4/2NBPN2/PP3PPP/R2QK2R b KQ - 0 1', 'r1bq1rk1/pp1nbppp/2p1pn2/3P2B1/3P4/2NBPN2/PP3PPP/R2QK2R b KQ - 0 1', 'r1bq1rk1/pp1nbppp/2p1pn2/3P2B1/3P4/2NBPN2/PP3PPP/R2QK2R b KQ - 0 1', 'r1bq1rk1/pp1nbppp/2p1pn2/3P2B1/3P4/2NBPN2/PP3PPP/R2QK2R b KQ - 0 1', 'r1bq1rk1/pp1nbppp/2p1pn2/3P2B1/3P4/2NBPN2/PP3PPP/R2QK2R b KQ - 0 1', 'r1bq1rk1/pp1nbppp/2p1pn2/3P2B1/3P4/2NBPN2/PP3PPP/R2QK2R b KQ - 0 1', 'r1bq1rk1/pp1nbppp/2p1pn2/3P2B1/3P4/2NBPN2/PP3PPP/R2QK2R b KQ - 0 1', 'r1bq1rk1/pp1nbppp/2p1pn2/3P2B1/3P4/2NBPN2/PP3PPP/R2QK2R b KQ - 0 1', 'r1bq1rk1/pp1nbppp/2p1pn2/3P2B1/3P4/2NBPN2/PP3PPP/R2QK2R b KQ - 0 1', 'r1bq1rk1/pp1nbppp/2p1pn2/3P2B1/3P4/2NBPN2/PP3PPP/R2QK2R b KQ - 0 1', 'r1bq1rk1/pp1nbppp/2p1pn2/3P2B1/3P4/2NBPN2/PP3PPP/R2QK2R b KQ - 0 1', 'r1bq1rk1/pp1nbppp/2p1pn2/3P2B1/3P4/2NBPN2/PP3PPP/R2QK2R b KQ - 0 1', 'r1bq1rk1/pp1nbppp/2p1pn2/3P2B1/3P4/2NBPN2/PP3PPP/R2QK2R b KQ - 0 1', 'r1bq1rk1/pp1nbppp/2p1pn2/3P2B1/3P4/2NBPN2/PP3PPP/R2QK2R b KQ - 0 1', 'r1bq1rk1/pp1nbppp/2p1pn2/3P2B1/3P4/2NBPN2/PP3PPP/R2QK2R b KQ - 0 1', 'r1bq1rk1/pp1nbppp/2p1pn2/3P2B1/3P4/2NBPN2/PP3PPP/R2QK2R b KQ - 0 1', 'r1bq1rk1/pp1nbppp/2p1pn2/3P2B1/3P4/2NBPN2/PP3PPP/R2QK2R b KQ - 0 1'], ['r1b2rk1/1p3ppp/1qn1p3/p3P3/1nBP3P/2B2N2/5PP1/R1Q2RK1 b - - 0 1', 'r4rk1/1p1n1ppp/4pn2/p6b/2BN4/P3B3/1PP2PPP/R3R1K1 w - - 0 1', 'r3r1k1/pp3ppp/2p1bq2/8/2B1Pn2/1P3N2/P1Q2PPP/R4RK1 w - - 0 1', 'r3r1k1/pp1q1pbp/1np3p1/4P1B1/3P4/5N2/PPQ2PPP/3R1RK1 w - - 0 1', 'rr4k1/3bqppp/3p4/p3p1b1/1P2P3/2PB4/2N2PPP/R2Q1RK1 b - - 0 1', 'r1q1r1k1/1p1bBppp/p2P4/4p3/P1B1R3/5Q2/1P3PPP/R5K1 b - - 0 1', 'r3r1k1/pp3ppp/2pb4/8/8/2PBBP1b/PP3P1P/R3R1K1 w - - 0 1', 'r1b2rk1/1p2ppBp/1q4p1/p7/2P3n1/3B1N2/PPQ2PPP/R4RK1 b - - 0 1', '5rk1/3npp1p/r2p1npQ/p1pP4/4P3/2N2N2/Pq3PPP/R4RK1 w - - 0 1', 'r1q2rk1/pppn1pp1/1b4p1/3P2B1/8/2NQ4/PP3PPP/R3R1K1 w - - 0 1', '4rrk1/p4ppp/3p2n1/2P1b2n/4Np1q/2BB1P2/PPQ4P/4RRK1 w - - 0 1', 'rr4k1/p4pp1/Q1pb1q1p/8/3Pb3/5N2/PP3PPP/R3R1K1 w - - 0 1', 'r5k1/p1pb1ppp/1p1p1b2/3Pq3/8/1QPB4/PP1B1PPP/4R1K1 b - - 0 1', 'r3r1k1/ppp3pp/1b1ppq2/8/2B1P1Q1/6B1/P4PPP/2R2R1K b - - 0 1', 'r3r1k1/ppp2pp1/4bq1p/4p3/2P5/3BP3/PPQ2PPP/R4RK1 w - - 0 1', 'r3r1k1/pppq1b1p/3p2p1/3P4/2P1pN2/4B2P/PP3PP1/n2QR1K1 w - - 0 1', 'r4rk1/1p2qppp/5n2/p2P4/1nP5/NQ1bBB2/PP4PP/R3R1K1 b - - 0 1', 'r2qr3/1np2pkp/5n2/pp1PbPBb/1P2N2N/P3Q3/B5PP/4RRK1 b - - 0 1', '4rrk1/pp3ppp/2pqb1n1/8/P2P2Q1/2PBB1P1/5P1P/R3R1K1 w - - 0 1', 'r3r1k1/1pp3pp/1b6/p4p2/3PNp1q/P1P2Q2/1P3PPP/4RRK1 w - - 0 1'], ['1k1r1b1r/pbp1q1p1/1pP1pp1n/1P1p3p/Q1nP3P/P1N2NP1/3BPPB1/R4RK1 b - - 0 1', 'r1br2k1/ppp1qppp/2n1p3/3p4/2PPn3/2N2NP1/PPQ1PPBP/R4RK1 w - - 0 1', '1r3b1r/pbNkpp1p/q1np1np1/2p5/Q1P5/P4NP1/1P2PPBP/R1B2RK1 w - - 0 1', 'rn3k1r/pbp1qppp/1p1bpn2/3p4/Q7/2NP1NP1/PP2PPBP/R1BR2K1 w - - 0 1', 'r3kb1r/pb1q1ppp/1pn1pn2/3p4/Q1Pp4/2N2NP1/PP2PPBP/R1BR2K1 w kq - 0 1', 'r3kb1r/pb1q1ppp/1pn1pn2/3p4/Q1Pp4/2N2NP1/PP2PPBP/R1BR2K1 w kq - 0 1', 'rn2k2r/pbp1qppp/1p2p3/3p4/2PPn3/2N2NP1/PPQ1PPBP/R4RK1 b kq - 0 1', 'rn2k2r/pbp1qppp/1p2p3/3p4/2PPn3/2N2NP1/PPQ1PPBP/R4RK1 b kq - 0 1', 'rn2k2r/pbp1qppp/1p2pn2/3pN3/2PP4/P1N3P1/1PQ1PPBP/R4RK1 b kq - 0 1', 'r3kb1r/pb1q1ppp/1pn2n2/3p4/Q1pP4/2N2NP1/PP2PPBP/R1BR2K1 w kq - 0 1', 'r3k2r/pbp1qppp/1pn1pn2/3p4/2PP4/P4NP1/1P1QPPBP/R1B2RK1 w kq - 0 1', 'r3k2r/pbpq1ppp/1p2p3/3pP3/QbP3n1/2N3P1/PP2PPBP/R1B2RK1 w kq - 0 1', 'r3kb1r/pb3ppp/1qn1pn2/2pp4/P2P4/BPN2NP1/4PPBP/R2Q1RK1 w kq - 0 1', '1nkr1b1r/1bp1q1pp/pp2pn2/5pB1/Q1P5/2N2NP1/PP2PPBP/3R1RK1 b - - 0 1', 'r3k2r/pbp2ppp/1p1bpn2/3p4/2P5/2N3P1/PP1PPPBP/R1B2RK1 w kq - 0 1', 'r3kb1r/pb1q1ppp/2n1pn2/2pp4/Q1P5/2N2NP1/PP2PPBP/R1BR2K1 b kq - 0 1', 'r3kb1r/pb1q1ppp/1pn2n2/2pp4/Q2P4/2N2NP1/PP2PPBP/R1BR2K1 b kq - 0 1', 'r3kb1r/pb1q1ppp/1pn2n2/2pp4/Q2P4/2N2NP1/PP2PPBP/R1BR2K1 b kq - 0 1', 'r3k2r/pb2qppp/npp1pn2/3p4/2PP4/P4NP1/1PQNPPBP/2R2RK1 b kq - 0 1', 'r3kb1r/pb1q1ppp/1pn1pn2/3p4/Q1PN4/2N3P1/PP2PPBP/R1B2RK1 w kq - 0 1'], ['r4rk1/1bq1bppp/p3p3/2npP3/1p1N1PPP/1B2Q3/PPP1N3/1K1R3R w - - 0 1', 'r4rk1/1bq1bp1p/4p1pP/2npP3/pp1B1PP1/3BQ3/PPP1N3/1KR4R b - - 0 1', '2r2rk1/1bq1bppp/p2pp3/1p2n1PP/3NP3/1P3P1B/P1PQNB2/1K1R3R w - - 0 1', 'r1r3k1/1bq1bppp/p3p3/1p2n3/4N1P1/3BQPN1/PPP4P/1K1R3R w - - 0 1', 'r4rk1/1bq2pp1/p3p2p/2nn2P1/1p1N1b1P/3B1P2/PPP2B2/1KNRQ2R b - - 0 1', 'r4rk1/1bq1bppp/4p3/p1npP2P/1p1N1PP1/1B2Q3/PPP1N3/1K1R3R w - - 0 1', 'r1b2rk1/2q2ppp/p2bp3/3n4/NpnN1P2/6P1/PPPQBB1P/1K1R3R w - - 0 1', 'r4rk1/1bq1bp1p/4p1pP/3pP3/pp1BnPP1/3BQ3/PPP1N3/1KR4R w - - 0 1', 'r4rk1/1bq1bppp/p3p3/2npP2P/1p1N1PP1/1B2Q3/PPP1N3/1K1R3R b - - 0 1', 'r4rk1/1bq1bpp1/4p3/p1npP1pN/1p1NnP2/3B1Q2/PPP2B1P/1K1R3R w - - 0 1', 'r1b2rk1/2q1bppp/p3p3/3pP3/1p1NBPP1/4B3/PPPQ3P/1K1R3R b - - 0 1', 'r4rk1/1bq2pp1/p3p2p/2nn4/1p1N1bPP/3B1P2/PPP2B2/1KNRQ2R w - - 0 1', 'rq3rk1/3b1pbp/2npp3/6P1/p2NPP2/1p2BB2/PPPQ3P/1K1R3R w - - 0 1', 'r4rk1/1bq1bpp1/p3p3/2p1P3/1p3P1p/1P1BB1nP/PNP2RP1/3RQ1K1 w - - 0 1', 'r4rk1/1bq1bp1p/p3p3/2npP1Pp/1p1N1P1P/4B3/PPPQN3/1K1R3R b - - 0 1', 'r4rk1/1bq1bpp1/p3p2p/2npP1P1/1p1N1P1P/4QB2/PPP1N3/1K1R3R b - - 0 1', '2r2rk1/1bq1bppp/p3p3/2n1P1PN/1ppN1P1P/4B3/PPP2Q2/1K1R3R b - - 0 1', 'r4rk1/1bq1bppp/p3p3/2np2P1/1p1NP1BP/5P2/PPPQN3/1K1R3R w - - 0 1', 'r1b2rk1/2q2ppp/p2bp3/3nn3/Np1N1P2/6P1/PPPQBB1P/1K1R3R b - - 0 1', '2r2rk1/1bq1bppp/p3p3/2n1P1PN/1ppN3P/4BP2/PPP2Q2/1K1R3R w - - 0 1'], ['r1q2rk1/1pbn1ppp/p7/2pBPbB1/8/5N1P/PP3PP1/2RQ1RK1 w - - 0 1', 'r1bq1rk1/pp1n1ppp/3n4/3p4/3P4/P2BPPN1/6PP/R1BQ1RK1 b - - 0 1', 'r1bq1rk1/pp1n1ppp/4p3/3P4/1P6/P3P3/3NBPPP/R2Q1RK1 b - - 0 1', 'rnb2rk1/pp3p1p/2p1p3/5p2/PqBP4/4PN2/5PPP/2RQ1RK1 b - - 0 1', 'rnbq1rk1/1p3ppp/p4b2/3p4/8/2N1PN2/PP2BPPP/R2Q1RK1 b - - 0 1', 'r1b2rk1/1p3ppp/p4bq1/2p5/P2p4/4PN2/1P2BPPP/R2Q1RK1 w - - 0 1', 'r1bq1rk1/pp3pbp/2n3p1/3Pp3/8/2NBPN1P/PP4P1/R2Q1RK1 b - - 0 1', 'r1bq1rk1/np2b1pp/4p3/pP1pPn2/N2N4/P7/1B2BPPP/2RQ1RK1 b - - 0 1', 'r4rk1/p1q2pp1/2pbpBbp/2n5/3N4/5N1P/PP2BPP1/R2Q1RK1 b - - 0 1', 'r2q1rk1/2pnnppp/pp2p3/8/3PN3/4PN2/PP3PPP/2RQ1RK1 b - - 0 1', 'r2q1rk1/4nppp/pp2pn2/1N6/8/4PN2/PP3PPP/2RQ1RK1 w - - 0 1', '2bq1rk1/1p1n1ppp/4p3/1p1n4/1b6/4PN2/3PBPPP/BN1Q1RK1 w - - 0 1', 'r1b2rk1/1pqnbppp/p7/2PNp3/1PP2B2/6P1/P4PBP/R2Q1RK1 b - - 0 1', 'r2q1rk1/ppnn1ppp/4p3/2P2b2/2P5/1P3N2/PN2BPPP/R2Q1RK1 b - - 0 1', 'r2q1rk1/5ppp/4p1b1/pp1pB3/2pP4/P1P4P/1P2BPP1/R2Q1RK1 b - - 0 1', 'rnb2rk1/2q1Bppp/p7/1pPpP3/8/5N2/PP2BPPP/R2Q1RK1 b - - 0 1', 'r1bq1rk1/4bppp/1pp1p3/3pP3/2P5/5N2/PP2BPPP/R2Q1RK1 b - - 0 1', 'r1bq1rk1/1p3ppp/4p3/p2p4/Pn1P1P2/5N1P/1P3PP1/1BRQ1RK1 b - - 0 1', 'r1bq1rk1/pp1n1ppp/4pB2/8/3P4/1B3N2/PP3PPP/R2Q1RK1 b - - 0 1', 'r1bq1rk1/p4ppp/1pnPp3/8/3N4/2nB2B1/P1QN1PPP/R3K2R b KQ - 0 1'], ['r3kb1r/ppp1pppp/2n5/1B3b2/q2P4/2N5/PP3PPP/R1B1K1NR w KQkq - 0 1', 'r3kb1r/ppp1pppp/2n2n2/4P3/8/5b2/PPP2PPP/RNBBK2R w KQkq - 0 1', 'r3kb1r/ppp1pppp/2n2n2/1B6/q7/P7/1PPP1PPP/R1B1K1NR w KQkq - 0 1', 'r1b1kb1r/ppp2pp1/2n5/3npq2/3P4/2N2BPp/PPPB1P1P/R2QK2R w KQkq - 0 1', 'Q4b1r/p1pk1ppp/2n4n/3q4/6b1/8/PP1PPP1P/RNB1K1NR w KQ - 0 1', 'rn3b1r/p1p1kppp/4b3/1Q2p3/4p1n1/1B1P4/PP3PPP/RNB1K1NR w KQ - 0 1', 'r3kb1r/pp2pppp/2n2n2/1B6/1p4b1/P7/1NPP1PPP/RN1QK2R b KQkq - 0 1', 'r3kb1r/pp1q1pp1/2n1p1bp/1Q1pP3/3N3P/2N5/PPP2PP1/R1B1K2R w KQkq - 0 1', 'r4b1r/pppkpppp/2n2n2/1B6/8/2N5/PPPP1PPP/R1B1K2R w KQ - 0 1', 'r2qkb1r/pp3ppp/2n5/2pp4/3P2n1/2N1B1P1/PPP1NPRP/R2QK3 w Qkq - 0 1', '2kr4/ppp1nppp/2nr2q1/5b2/8/3BPN1P/PPPB1PP1/R2QK1R1 w Q - 0 1', 'r4b1r/pppkpppp/2n2n2/1B6/3P4/2N5/PPP2PPP/R1B1K2R b KQ - 0 1', 'r1b1kb1r/ppp1pppp/2n5/1B6/q7/2N5/PP1P1PPP/R1B1K1NR w KQkq - 0 1', '1r1qkb1r/p4ppp/2b5/3n4/2p5/2N3P1/PP1PPP1P/R1B1K1NR w KQk - 0 1', 'r3kb1r/pp2pppp/1nnp4/5q2/2PP4/1PN1B3/P4PPP/R2QK1NR b KQkq - 0 1', 'r3kb1r/ppp1qppp/2nn4/8/6b1/2NBQN2/PPP2PPP/R1B1K2R w KQkq - 0 1', 'r3kb1r/ppp1qppp/2nn4/8/6b1/2NBQN2/PPP2PPP/R1B1K2R w KQkq - 0 1', 'r3kb1r/ppp1qppp/2nn4/8/6b1/2NBQN2/PPP2PPP/R1B1K2R w KQkq - 0 1', 'r3kb1r/ppp1qppp/2nn4/8/6b1/2NBQN2/PPP2PPP/R1B1K2R w KQkq - 0 1', 'r3kb1r/pp1qpppp/n1p2n2/8/2NP1B2/2N3P1/PPP2P1P/R2QK2R w KQkq - 0 1'], ['r2qr1k1/p1p2pbp/1p1p4/3Pp1Pp/2P1P1b1/4B3/PP1QB3/R3K1NR b KQ - 0 1', 'r1bqr1kb/1p2pp2/3n2p1/p2p3p/P3PB1P/1PN2P2/5NP1/R1Q1K2R w KQ - 0 1', 'r6r/1ppbk1q1/1p1p1p2/3Pp2p/2P1Pnp1/5P1P/PP1Q1KPN/R2B1R2 w - - 0 1', 'r1q2k1r/p3ppb1/2pp1np1/8/Q1P5/2N1BPPp/PP2PK1P/3R3R b - - 0 1', '3qr1kb/4pp1p/pr1p1npB/1bpP2N1/4P3/1P5P/2PQBPP1/R4RK1 w - - 0 1', 'r2qr1kb/p1p1np2/1p4pB/3Pp2p/2P1P2P/2N2P2/PP1Q4/R3K2R w KQ - 0 1', 'r1bqr1kb/1pp1pp2/6pB/p2P3p/P1n1P2P/1PN2P1N/6P1/R1Q1K2R b KQ - 0 1', 'r1b1r1k1/2p2pp1/pp1p3p/3Pp1q1/2P3P1/3BPP2/PP3Q1P/3R1RK1 b - - 0 1', 'r1b1r1k1/p1pn1qp1/1p1p1n1p/4p2P/2P1P1P1/1P3PN1/PB1Q2B1/4RRK1 w - - 0 1', 'r2q1rk1/pp2ppb1/1nnp2p1/7p/2PP3P/2N1BP2/PP1QBP2/2R1K2R b K - 0 1', 'r2r1bk1/pp2pp2/n1p1q2p/3NP1p1/8/Q3BPP1/PP2P1BP/2RR2K1 b - - 0 1', 'r2qr1k1/p1p3bp/1p1p1P2/3Pp2p/2P1P1b1/4B3/PP1QB3/R3K1NR b KQ - 0 1', 'r1q4r/1b2pkN1/5npB/ppp4p/2np3P/P4PN1/1PPQ2P1/R3K2R w KQ - 0 1', 'r4rk1/pp2pp2/3p2pb/q1pP2N1/2P1P1b1/2N1B1Pp/PP1Q3P/R3K2R w KQ - 0 1', 'r2qk2r/2pnppb1/6p1/p2P2Np/P2P2nP/2P1B1N1/3Q1PP1/R3K2R b KQkq - 0 1', '5rk1/2N1ppbp/1r1p2p1/p3n1Pn/P2NP3/4BP1q/1P1QB2P/2R1K2R b K - 0 1', 'r2q1rk1/p3ppb1/3pb1p1/2p1n1Pp/4P2P/2N1BP2/PPPQB3/R3K2R b KQ - 0 1', 'r1qk1br1/1p2p1p1/1np1pnQ1/p2p2pP/P1PP1B2/1P3P2/3NNK2/2RR4 w - - 0 1', '2q2rk1/4ppbp/Nr1p2p1/p3n1Pn/P2NP3/4BP2/1P1QB2P/R3K2R w KQ - 0 1', 'r1qk1br1/1p2p1p1/1np1pnQp/p2p2PP/P1PP1B2/1P3P2/3NNK2/2RR4 b - - 0 1'], ['3qk2r/3nbppp/p2pb3/1p4P1/2r1PB1P/1NN5/PPPQ4/2KR3R b k - 0 1', 'r1b4r/2k2pp1/p1p1pb1p/1p6/4PP2/2NB4/PPP3PP/2KR3R w - - 0 1', 'r3k2r/1b2b3/p2ppp1p/1pq5/4P3/2N5/PPPQB1PP/2KR3R w kq - 0 1', 'r1b1k2r/4bpp1/pqp1p2p/3p2N1/5P2/3B2P1/PPPQ3P/2KR3R w kq - 0 1', 'r2qk2r/1b2bpp1/p3p2p/1p1nB3/3N3P/5B2/PPPQ2P1/2KR3R b kq - 0 1', 'r1b1k2r/4bpp1/pqp1p2p/3p4/5P2/3B1NP1/PPPQ3P/2KR3R b kq - 0 1', 'r3k2r/1b3qp1/p2ppb1p/1pn1P3/3NNP1P/3B1Q2/PPP5/2KR3R b kq - 0 1', 'r3k2r/1bpn1Np1/p3p2p/1p6/4P3/1B2P3/PPP3PP/2KR3R b kq - 0 1', 'r2qk2r/2p2p2/pB1p1b2/3P1n1p/1pb2N1P/8/PPP2Q2/1NKR1B1R b kq - 0 1', 'r1b1qk1r/3n1pp1/p1n4p/2pNPB2/1p1P2QP/5N2/PPP3P1/2KR3R b - - 0 1', 'r3k2r/2q1bpp1/p2p3p/3nnP2/1p2PB2/7P/PPPQB3/2KR3R w kq - 0 1', '2rqk2r/4bpp1/p2pb1n1/1p1N3p/4PB1P/8/PPPQ2B1/2KR3R w k - 0 1', 'r3k2r/3nbpp1/p1q1p2p/1p2P3/7B/2N3P1/PPP1Q2P/2KR3R w kq - 0 1', 'r2qk2r/2p2p2/pB1p1b2/3P1n1p/1p3N1P/8/PPP2Q2/1NKR1b1R w kq - 0 1', 'r1bqk2r/pp3nb1/n1pp2p1/6Pp/4PP2/3BNN2/PPPQ4/2KR3R w kq - 0 1', 'r3k2r/1b1n1pp1/p2pp2p/1p6/4PPP1/1NqB4/P1PQ3P/2KR3R b kq - 0 1', 'r1b1k2r/2q1bpp1/p1npp1P1/8/2pNPP2/2N1B3/PPPQ4/2KR3R b kq - 0 1', 'r2qkn1r/4bp2/p1n1B3/3pP1Np/1ppP4/4B1N1/PPPQ3P/2KR3R b kq - 0 1', 'r2qn1k1/4b1pp/p1np2P1/2p2r2/1p3B2/5P2/PPPQN3/2KR1B1R w - - 0 1', 'r3k2r/5pp1/pqp1p2p/3nN3/1p1P4/P2Q2PP/1PP3P1/2KR3R w kq - 0 1'], ['r2qk2r/3nbppp/p3p3/1p1pP3/8/P1N1P3/1P1BQPPP/R4RK1 w kq - 0 1', 'rn1qk2r/5ppp/p1b1pb2/2P5/1Q6/2NBPN2/PP3PPP/R4RK1 b kq - 0 1', 'r2qk2r/3n1ppp/p1pb1n2/1p2p3/2PP4/2NBPP1P/PBQ2P2/R4RK1 w kq - 0 1', 'r2qk2r/1p1nbpp1/2p5/p2p2p1/3P4/P1N1PNP1/1P3PP1/1R1Q1RK1 w kq - 0 1', 'r2qk2r/5p1p/b1p1pn2/p1B3p1/3Pp3/P3P3/1PQ1BPPP/R4RK1 w kq - 0 1', 'r2qk2r/1p1n1pp1/p1p1p1pb/1PPpP3/P2P4/2N2Q2/1B3PPP/R4RK1 b kq - 0 1', '3qk2r/3nbp1p/prp3p1/3p1p2/3P4/2N1P1P1/PPQ1BPP1/R3K2R w KQk - 0 1', '2rqk2r/3nbpp1/2p3p1/p2p2B1/Pp1P2n1/1Q2PNN1/1P3PPP/2R2RK1 w k - 0 1', 'r2qrbk1/1pp2ppp/p1n5/7b/3P4/2N1PN1P/PP1QB1P1/4RRK1 w - - 0 1', 'r2qk2r/1p1n1ppp/p1p2b2/3p4/3P4/P1NQPN2/1P3PPP/R4RK1 b kq - 0 1', 'r2qk2r/1p1nbppp/p1p5/3p4/3P1B2/P2QPN2/1P3PPP/2R2RK1 b kq - 0 1', 'r2qk2r/3nbppn/1pp1p2p/p7/3P3B/2N1PN1P/PP3PP1/2RQR1K1 w k - 0 1', 'r2qk2r/3b1ppp/p1pbp3/3p4/3P4/2N1PNP1/PPQ2PP1/R3K2R b KQkq - 0 1', 'r2qk2r/1p1nbp1p/p1b1p1pB/4P3/3P2R1/2N2N2/PP3PPP/R2Q2K1 b kq - 0 1', 'r3kn1r/5pp1/p1pbn1p1/qp1p1PB1/3P4/P1N1P2P/1PQ1B1P1/R4RK1 b kq - 0 1', 'r2qk3/pp1n1ppr/2pbp3/3p4/2PP4/2N1P1P1/PPQ2PP1/R3KB2 w Qq - 0 1', 'r1b1k2r/pp1nb3/2p1p1np/8/6p1/2N1PNB1/PP2BPPP/2RR2K1 w kq - 0 1', 'r3k2r/3n1p1p/p1pp1npb/q2Pp3/2P1P3/2N2B1P/PBQ2PP1/R4RK1 b kq - 0 1', 'r3k2r/1pq2p2/p1pbb3/3n2pp/8/1PNBP2P/PBQ2PP1/R4RK1 w kq - 0 1', '1brqk2r/1p1n1pp1/2p1p1p1/p3P2n/2PP4/2N4P/PBQ1BPP1/R4RK1 w k - 0 1'], ['r3r1k1/1b3ppp/pq6/1pb1nP2/5B2/8/PPB1Q1PP/R2R3K w - - 0 1', '5rk1/5p1p/rqn2bp1/3QP3/pp6/5PN1/PP4PP/1K1NR2R b - - 0 1', 'r3r1k1/1p3ppp/p2Bnb2/2p5/8/2P2P2/PPB3PP/1K1RR3 w - - 0 1', 'r5k1/1pr2p1p/3p1bp1/Q2b4/4P3/pP3P2/P3B1PP/1K1R3R b - - 0 1', 'r1r2qk1/5ppp/4b3/pp6/2pQ3P/P1P1NP2/1P4P1/1K1R3R w - - 0 1', 'rq5k/5Pp1/2bNp2p/pN3r2/Pn3Q2/1P6/1P4PP/1K1RR3 w - - 0 1', 'r2r2k1/1p3ppp/1q2p3/p7/8/b1P2P1P/1PQ2NP1/1K1R3R w - - 0 1', 'r4rk1/5ppp/p3pb2/2q5/8/2P2Q2/PP2NPPP/1K1R3R b - - 0 1', '2r1r1k1/pp1b2p1/3pp2q/3n2N1/3P3P/1QPB2P1/P4P2/1K1R3R w - - 0 1', 'r3r1kb/1p2Pp1p/p2p2p1/4p1P1/7P/1nPQ4/PP3P2/1K1R3R w - - 0 1', 'r5k1/4b1pp/bqp1p3/p3n3/P3NBP1/1P4Q1/7P/R3R1K1 w - - 0 1', 'r4rk1/1pp2pbp/2n1b3/p7/8/3B1P2/PP1BN1PP/1K1R3R b - - 0 1', 'r3r1k1/1p2qp1p/2p1b1p1/8/p1PQP2P/5P2/PP2B1P1/1K1R3R w - - 0 1', 'rn2k1r1/5p2/1qbp4/p2pP1BQ/3P1N1P/1B6/1PP3P1/R6K w q - 0 1', 'r2r2k1/1p3pp1/p1p1pb1p/4Nn1P/2PP4/5P1R/PP3BP1/1K1R4 w - - 0 1', 'r3n1k1/1p1r1pqp/2n1p1p1/pNPp4/3P1Q2/P2B4/1P6/1K1R1R2 w - - 0 1', 'r4rk1/1p2bpp1/2p1p2p/p5PP/3PnB2/5N2/PPP2P2/1K1R2R1 b - - 0 1', 'r3r1k1/3qbp2/7Q/p3P3/1pp1p1b1/2P5/PPB2PPP/R4NK1 w - - 0 1', '4r3/ppq1bp1k/2n1pp1p/2P4P/4N3/1P2QP2/P1N3P1/1K1R4 w - - 0 1', 'r2q3r/1p1k1pBp/3bb1p1/3p4/2P1p3/pPQB4/P3N1PP/1K1R3R w - - 0 1'], ['1rbq1r1k/4p3/3pp1Q1/1ppP3p/7P/PP6/3BBPP1/b3K2R w K - 0 1', '8/1ppb1r2/p2p2kp/3Pp1p1/2P1P3/1P2bN1P/P5PK/3B1R2 b - - 0 1', '3q1r2/1p1b2k1/p4n1p/2PPppp1/P7/1P4PP/3QN1B1/5R1K b - - 0 1', 'r4rk1/1p2pp1p/p5pP/2pPq3/8/3BB2P/Pb3P2/1R1QK2R w K - 0 1', 'r1b2r2/p1n3bk/7p/R3p3/1P2Pp2/P4P2/4BB1P/4K1NR b K - 0 1', 'r4rk1/ppp3bR/3p2q1/3Pp1N1/2PnN3/3Q1P2/PP6/2K3R1 w - - 0 1', '3q1rkn/4n1p1/4p1bp/3pP3/2pP1PP1/1pP1N3/1P2RN1K/1B3Q2 w - - 0 1', 'r4rk1/1p4p1/pP1p2qp/3Pp3/2P1Rp2/5P1P/P5P1/2RQ3K b - - 0 1', '2b1rr2/1p4pk/p6p/2p1p3/2PpP3/1P3NPP/P2R2PK/5R2 b - - 0 1', 'r2q1rk1/ppp3bp/3p4/3Pp3/1PP1P1QP/8/P2KN3/2R4R b - - 0 1', 'r1b2rk1/pp4p1/2p4p/P2P1p2/5n1N/Q5P1/5qBP/1R3R1K b - - 0 1', '2b2rk1/q5p1/r2p3p/2pP1p2/2P1pP2/P1Q5/4B1PP/RR4K1 b - - 0 1', '2b1rr2/1p4pk/p6p/2p1p3/2PpP3/1P3NPP/P5PK/3R1R2 w - - 0 1', '3q1rk1/1r1p2bp/1p1P2p1/p3p3/1P2P3/P2Q1P2/4N1P1/2R1K2R b K - 0 1', '4rrk1/1p4p1/p6p/2pPp3/2PnN1qb/1P2B3/P2Q2BK/4RR2 b - - 0 1', 'r4r2/5p2/p3bNkp/1pppb3/8/1PPP1RNP/1P4P1/5R1K w - - 0 1', 'r1bq1rk1/1pp3pp/8/3PB1b1/2P5/1P3p2/2KN1P1P/3R1Q1R b - - 0 1', '3r1r2/2q3k1/p2p3p/1p1Rp1n1/5pPN/P1P4P/1P2QP1K/5R2 b - - 0 1', '2b2rk1/4p3/p2p2pp/2pP3n/2P2P2/1rb2N1P/RP4PB/5RK1 w - - 0 1', '5rk1/1p4p1/p2p1Nqp/P1pPp3/2P2r2/4QP1P/1P4PK/RR6 b - - 0 1'], ['r3k3/1p1b1p1p/4p3/8/1nBP2P1/5N2/pK6/R7 b q - 0 1', '4r3/6k1/3p2pp/3P4/pNp2p2/P1P2R2/1P2K1pq/4Q3 w - - 0 1', '5n2/6kp/p2N1b2/2pP3R/1r3BK1/1p6/2r5/7R b - - 0 1', '8/5rk1/3p2pp/P2Bbq2/3p4/1Q4P1/2r3KP/8 w - - 0 1', '8/4ppk1/3p1qp1/2pP4/1rN1PP2/1Q6/4K1R1/7R w - - 0 1', '8/pr1N1pk1/2r3p1/4P3/5P2/2p5/1p3RKP/1R6 b - - 0 1', '8/4n1k1/3pPqpp/PBpP4/2P3PP/1Q6/KP6/4q3 b - - 0 1', '8/5pk1/1p1q2pp/p7/2PpR3/PP5P/4K1P1/r7 w - - 0 1', '5rk1/7p/3pq1p1/2pPn3/2P1N3/8/6KP/R7 w - - 0 1', '5r2/5pk1/6p1/pp1P2r1/2nqBR2/Q5B1/4R1K1/8 w - - 0 1', '8/2p2rkp/pp1p3p/3B3P/PrP2NK1/8/8/8 b - - 0 1', '8/3b1pk1/p6p/2rB4/2P2Pp1/8/6PP/R6K w - - 0 1', '8/4n3/3pk1p1/ppp3P1/3PP3/5N2/PP4K1/8 w - - 0 1', '8/3b1pk1/4p1p1/1p2n3/4P1p1/PP5P/2B1N1P1/7K w - - 0 1', '8/3b4/3p1np1/2pPb1kP/2P5/1Pp2P2/4N1K1/1B1N4 b - - 0 1', '6k1/1rpN1p1p/3n2p1/2p5/p5P1/2P4P/1P3RK1/8 b - - 0 1', '8/pp6/3p2pp/3P4/5kP1/5B2/PPr3K1/4R3 w - - 0 1', '8/5p1k/4r1pp/pN2P3/Pb3P2/3QB3/1P5q/3K4 b - - 0 1', '8/5pk1/p2q2pp/2p5/2P5/5N2/Pr4PP/4Q2K b - - 0 1', '8/p2n1pk1/1bQnq1p1/2p5/N1P1P3/1P3P2/K7/8 b - - 0 1'], ['6k1/5pp1/2p2n1p/R1Pp4/3Pp1P1/4P2P/5P2/1r4K1 w - - 0 1', '6k1/5pp1/2p3rp/2Pn4/3Bq3/4PQ1P/1P3PPK/R7 b - - 0 1', '4rk2/2R3p1/2p4p/p1Pp1p1n/P4P2/4P3/1BK2P2/8 b - - 0 1', '6k1/5pp1/p1p2n1p/2q5/2Pp4/1P1P1N1P/P2Q1PP1/4r1K1 w - - 0 1', '5k2/5pp1/3b1n1p/p2p4/PpQPp3/4P2P/1P2NPP1/2B1K3 b - - 0 1', '6k1/4bppp/1rp2n2/3p4/3Pp3/2N1P3/1B1N1PPP/1R4K1 b - - 0 1', '1r4k1/5ppp/4p3/8/1pp5/4PN2/1P3PPP/1R2K3 b - - 0 1', '3bn3/3k1p2/2p1p1p1/1pPpB1P1/1P1P1PK1/2N1P3/8/8 b - - 0 1', '2r3k1/5ppp/R3p3/1p2P3/2p2P2/2b2N1P/3B2P1/3n2K1 w - - 0 1', '3rr1k1/5ppp/p1p5/8/2n5/P3P2P/R3KBP1/7R b - - 0 1', '5k2/5p2/2p1bn2/3p2p1/1p1P4/1P1r1B1P/2R1NPPK/8 b - - 0 1', '3rrk2/8/2p3R1/p2p1N2/1p1Pn3/4P3/PPQK1P2/7q w - - 0 1', '4rk2/1R3ppp/p2p4/3n4/3N4/P3PP1P/1P2K1P1/8 b - - 0 1', '2k5/pp3p2/2p1pn2/3p4/1b1P1P2/2NR4/PPK4r/4B3 w - - 0 1', '2kr4/1pp2p2/4p2p/P2rPqpQ/8/7P/5PPK/8 b - - 0 1', '1r2b1k1/4bpp1/4pn1p/B3N3/q1Q5/4PN1P/2R2PP1/6K1 w - - 0 1', '1b4k1/1P3Rp1/3p1n2/1Q1P2p1/1B4P1/4P2P/5P2/qr3BK1 w - - 0 1', '1r4k1/6pp/2p1p3/P2p4/4pP2/P1NnP1P1/2RK2P1/8 w - - 0 1', '2r5/1p1kbppp/8/p2p4/3P4/P2p1PP1/1P5P/R3K2R w KQ - 0 1', '2n3k1/pp3pp1/2bp3p/8/2P2P2/2N4P/PP1R2P1/4rBK1 w - - 0 1'], ['5rk1/1brn1pp1/p6p/5N2/Pqp1P3/8/2B1QPPP/2R2RK1 w - - 0 1', 'r2r2k1/1p1n2b1/2p1b3/4p1PR/pqP1P3/2N1Q1P1/PP3PK1/7R b - - 0 1', '6k1/1pq2bb1/2p3pp/r7/p3P3/P1NQ2nP/1PP2BP1/3R2K1 b - - 0 1', '4r3/1b3kb1/p4q1p/1p1p1P2/2pPr3/P3PR2/1P2NQPP/5RK1 w - - 0 1', 'r5k1/1p1n1q2/3p1brp/2nPp3/2P1Pp1B/1PN4R/2B3PR/3Q1K2 w - - 0 1', 'r3r1k1/1pp1P1b1/2b2Q1p/p5p1/P1P2p2/BP2nN1P/6PN/4RRK1 b - - 0 1', 'r3r1k1/1pq2pp1/p6p/4p3/2P1R1bQ/3B4/P1P2PPP/R5K1 b - - 0 1', '4rrk1/1p1n1qp1/p2Bp2p/8/P7/8/1PP1QPPP/3RR1K1 b - - 0 1', 'rr4k1/3nppbp/3p2p1/3P4/2P1P3/2N5/PB3PPP/1R3RK1 b - - 0 1', 'r2qr1k1/pp3pb1/2p3pp/8/3PN3/5N1P/bP1RQPP1/5RK1 w - - 0 1', '2r1r1k1/3n1pp1/p2p3p/1p1PpN2/4P3/1P1R4/P4PPP/5RK1 b - - 0 1', '4r1k1/6pb/2p1qb1p/p2p4/3P2P1/1BP2Q1P/PP3P2/R5K1 b - - 0 1', '3qr1k1/5pp1/p4b1p/2pPn3/2P1P3/4N2P/PrB1Q1P1/4RRK1 w - - 0 1', '1r1q2k1/1B1n1p2/p2P1b1p/2p3p1/P7/1P3QB1/2P2PPP/4R1K1 b - - 0 1', 'r3r1k1/pp4b1/1npQb1pp/4p3/P3P3/2N2N2/2P3PP/R5K1 w - - 0 1', '1r2n1k1/4ppbp/p1p3p1/1pP1P3/5P2/1PNRB3/P5PP/6K1 b - - 0 1', '8/3n1pbk/2p1b1pp/ppP1p3/4P1P1/1P2BB1P/P3NP1K/8 w - - 0 1', 'r3r1k1/3n2p1/pq5p/3Pp3/1Bp1Pp2/P1p2P2/6PP/R1R1Q1K1 w - - 0 1', 'r3r1k1/pp4b1/1q1p4/2pP2p1/2P3b1/1PN1p3/P2QNBPP/4R1K1 w - - 0 1', '1r3r2/3np1bk/1qppQ1pp/8/p2P2PN/P5NP/1P1R1P2/1K4R1 b - - 0 1'], ['6k1/1p5p/p7/P1pP1pp1/2P1b1q1/8/2P1KR2/4Q3 w - - 0 1', '6k1/p2N2p1/2Q2p1p/7b/2PP1P2/6KP/Pr2r1P1/8 b - - 0 1', '8/4Q1bk/2p3pp/5p2/N1P1p1n1/1P6/P3K2P/8 w - - 0 1', '6r1/8/4k3/pp1p2p1/2pB2P1/2P5/PPB1K2P/8 b - - 0 1', '8/3kb3/1pp2p1p/1P4pP/2K1P1P1/p4PB1/P7/8 w - - 0 1', '1r2R1q1/3P3k/5b1p/1Pp2PpP/2B2r2/6K1/2R5/8 w - - 0 1', 'q7/p1p3k1/1pN1Q2p/3n2pP/5bP1/8/PP6/1KR5 b - - 0 1', '6k1/p5bp/3R4/1b3NpP/4P1P1/1P2p3/P4r2/3K4 b - - 0 1', '8/p2R2bk/1pp4p/6pP/2P1Nr2/5P2/PP2K3/8 b - - 0 1', '5nk1/4R3/2p2p2/p2p2B1/2nP2P1/2P3K1/prP5/4R3 w - - 0 1', '6k1/1p6/2p2r2/3p2p1/4p2R/rpP1B2Q/1P6/1K6 b - - 0 1', '8/4r3/3kP2p/2p3p1/2B1pP2/1PB5/2N1KP1P/8 b - - 0 1', '2r3r1/8/p1Rbk3/1p2p1B1/4pPP1/1P6/P1P3K1/4R3 w - - 0 1', '6k1/1RQ3p1/5p1p/p2p4/P2B1P2/1P5P/4r1P1/1K2q3 w - - 0 1', '6k1/6p1/pp4Bp/2pP2pP/2Pb2P1/8/PP6/1K6 b - - 0 1', '8/6bk/4B3/pP1pPp2/2nP4/7P/2P1K1P1/2B5 w - - 0 1', '5rk1/2q1p3/3p1rP1/3P3B/2P4P/p2Q4/Pp6/1K5R b - - 0 1', '2r2rk1/6p1/7p/R7/2p1NPP1/1p6/P1P2RK1/8 w - - 0 1', '1r3k2/1Pq1p3/3pQbR1/2pP1p2/5P2/8/1PP4P/1K6 b - - 0 1', '8/8/3kpp2/R2p2b1/Pr3rP1/1B6/1PP5/1K4R1 b - - 0 1'], ['6k1/3R2p1/6p1/n5b1/1pP2P2/1P5R/2K2B2/8 b - - 0 1', '8/2p5/1nB5/8/2p2k1p/r1P4P/2R2PK1/8 w - - 0 1', '4k3/5p2/2R2P2/1pp3K1/2b5/2P3B1/1P2r2P/8 w - - 0 1', '2R1k3/5p2/4p1p1/4P3/5rPp/7P/2R3K1/8 b - - 0 1', '8/5p2/4P1p1/1pp5/1b1p1kPp/1P1K3P/2B5/8 b - - 0 1', '8/r4p2/3pk3/1Bp5/Pn1bP3/1P6/4K3/7R w - - 0 1', '8/4npk1/4p1pp/4P3/2K1BPP1/7P/8/8 b - - 0 1', '6k1/5p1p/6p1/1p6/2b5/2P5/p1B5/B1K3r1 w - - 0 1', '8/1q3pk1/4p3/4b3/5PPp/5K2/2RQ3P/8 w - - 0 1', '8/5p1k/3q2pp/8/2Bn4/1P1Q4/5P2/2K5 w - - 0 1', '8/5pk1/2R1p1pp/2p5/5nr1/8/2R5/5K2 b - - 0 1', '5rk1/5pp1/4p3/q3P1n1/3B3R/1pP5/4Q3/K7 w - - 0 1', '4k3/r2b1pp1/2N5/P2P4/1b6/1P1K1P2/8/R7 b - - 0 1', '8/2p4p/1BPp2k1/3P1p2/1b2pP2/8/6K1/8 w - - 0 1', '8/5rk1/5qpp/1p6/p4P2/3R2P1/6K1/4Q3 b - - 0 1', '8/5p2/4p1p1/1pp3P1/3p1PK1/rP1k4/4R3/8 w - - 0 1', '8/3b1pk1/3Np2p/3pP2P/3P1KP1/8/8/8 b - - 0 1', '6k1/5p1p/6p1/1p6/2b5/2P5/p1B3r1/B1K5 b - - 0 1', '5r2/5P2/R2nk1p1/2p5/1p3P2/8/P5KP/8 b - - 0 1', '4R3/8/6pp/3r1p1k/5P2/5P2/2rpK2P/3R4 b - - 0 1'], ['3b4/p1k2pp1/1p2p2p/2p1P3/2P2P2/3KB1P1/PP5P/8 b - - 0 1', '6k1/ppp5/2n1p3/4rr2/P4R2/2P3P1/1P4KP/3R4 w - - 0 1', '8/5rpk/1p5p/2bQ4/5B1N/P5P1/2R2PKP/4q3 b - - 0 1', '4r3/2p5/2k5/5p1p/p1P3p1/2PKB1P1/r2p1P1P/3R4 b - - 0 1', '2k5/pbp3p1/1pn5/5NB1/3P4/2P1N1P1/qP2QK2/8 b - - 0 1', '8/pb1q1k2/1p2p1p1/4Q3/2p1P3/2P2BP1/PP3PK1/8 w - - 0 1', '5r2/p2R1ppk/1pR2b1p/8/5B2/6P1/r4PKP/8 b - - 0 1', '8/p1p3rk/7p/R6P/4pPB1/P1P3Pq/5P2/3R2K1 b - - 0 1', '1R3bk1/4pp1p/6p1/8/3Pq3/2P1BnP1/r4P1P/5K2 b - - 0 1', '8/2p3pk/1p5p/p2P1Q2/P2N1bq1/2P3P1/1P4KP/8 b - - 0 1', '3b4/p2P2pk/1p5p/r7/5B2/qP1R2P1/6QP/3R2K1 w - - 0 1', '1r2bk2/5pp1/1p2p2p/4b3/P3P3/1P2K2P/2R3P1/1N1R4 w - - 0 1', '5k2/5pp1/1nN4p/3pP2P/p1pP2B1/2P2KP1/q2b4/3R4 b - - 0 1', '3r1k2/pp3pp1/5p1p/1b6/6P1/2PBK1PP/PP6/3R4 b - - 0 1', '8/1p2kpp1/1p3p1p/3P1P2/2p5/P1P1K3/1P4PP/8 b - - 0 1', '3r4/1bp2k2/1p2p1p1/7n/2PP4/1Q3P2/r5PP/3R2K1 w - - 0 1', '3r4/p4Bpk/4R2p/1bbP4/2p2P2/2B3P1/PP4KP/8 b - - 0 1', '3r1k2/1p4pp/pr6/4P3/2Bp4/1P2b1P1/R5KP/3R4 b - - 0 1', '2n5/pp3ppk/4p3/3pP2P/3P1B2/1P6/1nN2PK1/8 b - - 0 1', '1r6/5ppk/1pR4p/4PN2/4nP2/1P4P1/r6P/3R2K1 w - - 0 1'], ['8/N2k3p/6pP/5p2/5P1K/2b3P1/6r1/q7 b - - 0 1', '5k2/pp5R/3p1K2/3P1BP1/8/1P6/5r2/8 b - - 0 1', '8/ppk5/2pb1P1p/5P2/P3K3/1P3B2/8/8 b - - 0 1', '5k2/5p2/6pp/1p2P3/6P1/1P2P3/6PK/8 b - - 0 1', '8/5p2/P1p3p1/4N1k1/2Q1P3/4qn2/8/5K2 w - - 0 1', '5k2/1pK4R/2b2Np1/p4pP1/P4P2/1r6/8/8 w - - 0 1', '8/1kp5/2p2N2/P7/1P1K4/6P1/2b3r1/2R5 w - - 0 1', '5k2/1pK4R/2b2Np1/p4pP1/P4P2/1r6/8/8 w - - 0 1', '5k2/7R/6rP/8/2Pb1p2/5K2/P4r2/1R6 w - - 0 1', '8/p7/p2k4/6PK/P2pr2P/1Pb5/8/2R5 b - - 0 1', '8/5pk1/8/4PP2/8/b2pP1p1/1p1B4/1Rr1K3 w - - 0 1', '8/2k2p1p/p3bP1P/4N3/PPPK4/8/8/8 b - - 0 1', '5k2/1p3p2/1r1N1Kp1/4P3/3b1P2/p6P/4R3/8 w - - 0 1', '8/R6R/3p2p1/6k1/8/2r4P/Pr6/5K2 w - - 0 1', '8/6pb/8/2k2B2/8/2P1NnPP/3K4/8 w - - 0 1', 'r7/pp2r2k/2P4p/8/5N2/5KP1/8/2R5 b - - 0 1', '5k2/7R/6p1/4Pp2/P4P1K/6P1/7P/3r4 b - - 0 1', '5k2/7R/2Bp1Kp1/3P1p2/5P2/8/6rP/8 b - - 0 1', '8/7R/2pk2pP/5pP1/4rP2/4b3/3K4/8 w - - 0 1', '8/ppk1r3/2b5/2p1PPR1/4K3/1P6/P7/8 w - - 0 1'], ['r1b2rk1/pp1nqppp/2p5/8/3PP3/3B1N2/P4PPP/R2Q1RK1 b - - 0 1', 'r1b2rk1/pp1nqppp/2p5/8/3PP3/3B1N2/P4PPP/R2Q1RK1 b - - 0 1', 'r1b2rk1/pp1nqppp/2p5/8/3PP3/3B1N2/P4PPP/R2Q1RK1 b - - 0 1', 'r1b2rk1/pp1nqppp/2p5/8/3PP3/3B1N2/P4PPP/R2Q1RK1 b - - 0 1', 'r1b2rk1/pp1nqppp/2p5/8/3PP3/3B1N2/P4PPP/R2Q1RK1 b - - 0 1', 'r1b2rk1/pp1nqppp/2p5/8/3PP3/3B1N2/P4PPP/R2Q1RK1 b - - 0 1', 'r1b2rk1/pp1nqppp/2p5/8/3PP3/3B1N2/P4PPP/R2Q1RK1 b - - 0 1', 'r1b2rk1/pp1nqppp/2p5/8/3PP3/3B1N2/P4PPP/R2Q1RK1 b - - 0 1', 'r1b2rk1/pp1nqppp/2p5/8/3PP3/3B1N2/P4PPP/R2Q1RK1 b - - 0 1', 'r2q1rk1/p1pn1ppp/3n4/2PP4/2Q5/8/PP3PPP/RNB2RK1 b - - 0 1', 'r1b2rk1/pp1nqppp/8/4P3/4n3/3B1N2/PP3PPP/R2Q1RK1 w - - 0 1', 'rn3rk1/p4pp1/5b1p/2pq4/8/2N1P3/PP2NPPP/R4RK1 w - - 0 1', 'r2qr1k1/p4pp1/1p1p3p/1Q1Pnb2/8/1B5P/PP3PP1/R1B2RK1 w - - 0 1', 'r1b2rk1/pp1nqppp/2p5/4P3/P1BP4/5N2/5PPP/R2Q1RK1 b - - 0 1', 'r3rnk1/pp4p1/1npq1pP1/3p3Q/3P4/3B4/PP3PPP/R4RK1 w - - 0 1', 'r1bqr1k1/pp3ppp/4p1n1/8/2PP4/3B1N2/P4PPP/R2Q1RK1 w - - 0 1', 'r2q1rk1/1b3pp1/1p3n1p/pP6/3p4/1Q2PN2/P3BPPP/R4RK1 w - - 0 1', 'r1b2rk1/5pp1/2p1pq2/1p1p3Q/3P4/2N1P3/PP3PPP/R4RK1 w - - 0 1', 'r1b2rk1/pp1nqppp/2p5/8/2BP4/P1R2N2/1P3PPP/3Q1RK1 b - - 0 1', 'r1b2rk1/pp1nqppp/2p5/8/2BP4/P1R2N2/1P3PPP/3Q1RK1 b - - 0 1'], ['r2qk2r/pppn1ppp/3np3/3p4/3P4/3QPN2/PPP2PPP/RN3RK1 w kq - 0 1', 'r2qk2r/pppn1ppp/3np3/3p4/3P4/3QPN2/PPP2PPP/RN3RK1 b kq - 0 1', 'r1b1k2r/pp3ppp/2n1pB2/3q4/2pP4/2PB1N2/P1P2PPP/R2Q1RK1 b kq - 0 1', 'r3k2r/pp3ppp/2p1p3/q2p4/2PPn1b1/1P1BPN2/P1R2PPP/3Q1RK1 w kq - 0 1', 'r3kb1r/pb2pppp/2p2n2/2p5/Q7/2P5/PP1P1PPP/RNB1K2R w KQkq - 0 1', 'r2qkb1r/pppn1ppp/4p3/3pP3/8/3QP3/PPP2PPP/RNB2RK1 w kq - 0 1', 'r2qkb1r/pp1n1ppp/4p3/2pp4/3P1B2/3QPN2/PPP2PPP/R4RK1 b kq - 0 1', 'r2qkb1r/pp1n1ppp/4p3/3p4/3p1B2/3QPN2/PPP2PPP/R4RK1 w kq - 0 1', 'rn2kb1r/pp3p2/2p1p1p1/3pP2p/3P3q/2N2BnP/PPP3PR/R1B1K1Q1 w kq - 0 1', 'r2qkb1r/pp1n1ppp/2p1p3/3p4/3P4/3QPNP1/PPP2PP1/RN3RK1 w kq - 0 1', 'r2qkb1r/pp1n1ppp/2p1p3/3p4/3P4/3QPNP1/PPP2PP1/RN3RK1 w kq - 0 1', 'r3kb1r/1p2nppp/pQb1p3/3pP3/8/5N2/PPP2PPP/RNB2RK1 b kq - 0 1', 'r2qkb1r/pp3ppp/2n1pn2/3p4/2P2B2/3QPB2/PP3PPP/RN3RK1 b kq - 0 1', 'rn1qk2r/pppn1ppp/4p3/3pP3/8/3QPN2/PPP2PPP/RN3RK1 b kq - 0 1', 'r2qk2r/pp1n1ppp/4pn2/2bp4/N4B2/3QPN2/PPP2PPP/R4RK1 b kq - 0 1', 'r3kb1r/pp1b1ppp/n2pp3/1N6/2BPnB2/4PN2/2P2PPP/1q1Q1RK1 w kq - 0 1', 'r2qkb1r/pppn1ppp/4p3/3p4/3P1B2/3QPN2/PPP2PPP/R4RK1 b kq - 0 1', 'r3kb1r/p3nppp/1qp1p3/3pP3/6b1/BP3N2/P1P2PPP/RN1Q1RK1 w kq - 0 1', 'r3kb1r/ppp2ppp/2n1p3/3q3b/8/B1P2N1P/P1PPBPP1/R2Q1RK1 w kq - 0 1', 'r3kb1r/ppp2ppp/2n1p3/3q3b/8/B1P2N1P/P1PPBPP1/R2Q1RK1 w kq - 0 1'], ['8/1pp5/4k3/1P6/8/2n2PP1/p5P1/N3K3 b - - 0 1', '8/6k1/5nP1/p3pr2/1p6/4K3/PP6/3B4 w - - 0 1', '4k3/1p3p2/2p5/p7/Pq4B1/4Q1KP/8/8 b - - 0 1', '7r/1p6/5R1P/p7/3p2K1/8/PPk5/8 b - - 0 1', '1k1n4/1p3p2/7p/8/4K1P1/5B2/PP6/8 b - - 0 1', '8/1R6/6k1/P7/5ppp/1Pr5/5KP1/8 w - - 0 1', '1k6/1p6/1P5p/p1PKN3/P5p1/6P1/7b/8 w - - 0 1', '8/2n5/K3p3/4B3/3P2p1/2r1P3/2k4P/8 w - - 0 1', '8/1p6/3p4/1P6/4Kpk1/p1b5/P7/5N2 b - - 0 1', '8/1pN2R2/7p/p7/4p3/2b5/1n2k3/6K1 w - - 0 1', '4k3/4bb2/8/pp4B1/4K3/6P1/P6P/8 b - - 0 1', '8/1p5P/1k6/p1p5/8/6P1/PPQ5/4K3 w - - 0 1', '1r6/8/P2p2k1/1pp5/4N3/6P1/1P6/6K1 b - - 0 1', '8/1p3p2/2p1k1p1/1pP3P1/8/2K5/8/8 b - - 0 1', '8/8/6b1/pBk1p2p/6pP/4K3/P4P2/8 w - - 0 1', '8/7R/3p4/ppkP1r2/8/8/2K4P/8 w - - 0 1', '4k3/1p6/1b2p3/5r2/4b1p1/2Kp2P1/8/8 b - - 0 1', '7Q/1p3p2/4k3/1p6/6p1/4K1P1/P4P2/8 w - - 0 1', '1k6/1p6/2p5/P5N1/6BK/4R3/1Pr5/8 w - - 0 1', '8/PR3p2/1P4k1/8/7p/6p1/5rP1/4K3 b - - 0 1'], ['8/2K5/3P4/5B2/7p/8/1k6/q7 b - - 0 1', '4k3/8/3P1KP1/4P3/8/8/6r1/8 b - - 0 1', '8/5Q2/5Kp1/8/8/3k2P1/7P/8 w - - 0 1', '8/4P3/5K2/8/4r3/6P1/1k6/8 w - - 0 1', '8/5p2/7P/7K/5P2/8/1k4r1/8 w - - 0 1', '8/2K5/3N4/8/8/1P6/Pk6/8 w - - 0 1', '8/7R/5Kp1/8/5P2/6kp/8/8 b - - 0 1', '8/7R/5Kp1/8/5P2/6kp/8/8 b - - 0 1', '8/8/7P/6K1/6P1/4P3/1k4r1/R7 b - - 0 1', '8/8/8/4b3/4p3/3kPp2/6r1/4K3 b - - 0 1', '8/7R/3n1K2/p2k4/r7/8/8/8 b - - 0 1', '8/8/8/p7/K7/1P6/1k1b4/8 w - - 0 1', '8/8/3p4/8/4p1p1/3k2P1/8/4K3 b - - 0 1', '8/8/k2r4/8/Kp6/1P6/8/8 w - - 0 1', '8/8/1k2pK2/8/1p6/1P6/8/q7 w - - 0 1', '8/8/3P4/8/3K4/6P1/1k6/2R5 w - - 0 1', '8/1Q6/1Q6/8/3K4/1P4k1/8/8 b - - 0 1', '8/7R/1k3K2/5N2/8/8/8/3r4 w - - 0 1', '4k3/7R/3p1K2/8/8/8/8/3r4 b - - 0 1', '8/P7/8/5k2/3K4/1P6/3Q4/8 b - - 0 1'], ['8/7p/8/1K6/8/6k1/PP4P1/8 b - - 0 1', '8/7p/2R4P/1K3k2/8/8/P7/8 w - - 0 1', '8/7p/8/8/8/k5K1/P7/8 b - - 0 1', '8/7p/8/8/8/k7/P1K5/8 w - - 0 1', '8/7p/8/4K2P/8/k7/P7/8 b - - 0 1', '8/8/8/3K2k1/8/4P3/P7/8 b - - 0 1', '3k4/7p/8/8/2BK4/8/r7/8 b - - 0 1', '7Q/6Q1/8/3K1PP1/8/5k2/8/8 w - - 0 1', '8/7p/8/K7/8/5k2/P6P/8 b - - 0 1', '4k3/4R2p/2P5/2K5/8/8/6P1/8 b - - 0 1', '8/7p/6p1/3k4/7P/B5K1/8/8 w - - 0 1', '8/7p/8/1K6/2p5/6k1/PP6/8 w - - 0 1', '8/5K1p/8/8/p6P/k7/P7/8 w - - 0 1', '8/7p/6p1/3k1r2/8/p5K1/8/8 b - - 0 1', '8/6pp/2K5/6k1/8/8/P2n4/8 b - - 0 1', '8/8/8/1P4k1/6p1/6K1/P7/8 w - - 0 1', '8/8/6p1/3K2P1/8/4qk2/8/8 w - - 0 1', '8/8/8/1P4k1/6p1/6K1/P7/8 b - - 0 1', '8/k6p/P6r/8/2B5/6K1/8/8 b - - 0 1', '8/7p/6p1/3p1k2/5P2/6K1/8/8 w - - 0 1']]\n"
     ]
    }
   ],
   "source": [
    "# convert bitboards to fen\n",
    "def fen_converter(bb):\n",
    "    bb = bb.astype(bool)\n",
    "    board = bitboard_to_board(bb) \n",
    "    return board.fen()\n",
    "\n",
    "bitboards_fen = [[None for _ in range(bb_shape[1])] for _ in range(bb_shape[0])]\n",
    "for i in range(bb_shape[0]):\n",
    "    for j in range(bb_shape[1]):\n",
    "        bitboards_fen[i][j] = fen_converter(embedding_bitboards[i][j])\n",
    "print(len(bitboards_fen),len(bitboards_fen[0]), bitboards_fen)"
   ]
  },
  {
   "cell_type": "code",
   "execution_count": 7,
   "metadata": {},
   "outputs": [],
   "source": [
    "import pickle\n",
    "pickle.dump(D, open('examples/example_embedding_distances.p','wb'))\n",
    "pickle.dump(bitboards_fen, open('examples/example_embeddings.p','wb'))"
   ]
  },
  {
   "cell_type": "markdown",
   "metadata": {},
   "source": [
    "## Compare the retrieved results\n",
    "\n",
    "If you haven't run the searches yourself, then execute the pickle.load cells below for some precompiled searches"
   ]
  },
  {
   "cell_type": "markdown",
   "metadata": {},
   "source": [
    "| Index          | Positions | RAM    | Disk    |\n",
    "|----------------|-----------|--------|---------|\n",
    "| 2015 bitboards | 46.7 M    | 5.2 Gb | 5.9Gb   |\n",
    "| all embeddings | 907.5 M   | 10.4 Gb | 11.9 Gb |"
   ]
  },
  {
   "cell_type": "markdown",
   "metadata": {},
   "source": [
    "### Bitboards"
   ]
  },
  {
   "cell_type": "code",
   "execution_count": null,
   "metadata": {},
   "outputs": [],
   "source": [
    "# optionally load example results\n",
    "import pickle\n",
    "dist = pickle.load(open('examples/example_bitboard_distances.p','rb'))\n",
    "reconstructed = pickle.load(open('examples/example_bitboards.p','rb'))"
   ]
  },
  {
   "cell_type": "code",
   "execution_count": null,
   "metadata": {
    "scrolled": true
   },
   "outputs": [],
   "source": [
    "from IPython.display import HTML\n",
    "html = '''<link rel=\"stylesheet\" href=\"https://unpkg.com/@chrisoakman/chessboardjs@1.0.0/dist/chessboard-1.0.0.min.css\" integrity=\"sha384-q94+BZtLrkL1/ohfjR8c6L+A6qzNH9R2hBLwyoAfu3i/WCvQjzL2RQJ3uNHDISdU\" crossorigin=\"anonymous\"><table>'''\n",
    "for i in range(len(reconstructed)):\n",
    "    html += f'''<tr><td>Your Query Position {i}</td><td><span>The (Hamming) distance between query and </span><select id=\"mySelect{i}\" onchange=\"myFunction{i}()\">'''\n",
    "    for j in range(search_results):\n",
    "        html += f'''<option value='{reconstructed[i][j]}|{dist[i][j]}'>Similar Position {j}</option>'''\n",
    "    html += f'''</select><span> is </span><span id=\"dist{i}\">0</span><span>.</span></td></tr><tr><td><div id=\"query{i}\" style=\"width: 400px\"></div></td><td><div id=\"myBoard{i}\" style=\"width: 400px\"></div></td></tr>'''\n",
    "html += '''</table><script src=\"https://unpkg.com/@chrisoakman/chessboardjs@1.0.0/dist/chessboard-1.0.0.min.js\" integrity=\"sha384-8Vi8VHwn3vjQ9eUHUxex3JSN/NFqUg3QbPyX8kWyb93+8AC/pPWTzj+nHtbC5bxD\" crossorigin=\"anonymous\"></script><script>'''\n",
    "for i in range(len(reconstructed)):\n",
    "    html += f'''var pos{i} = document.getElementById(\"mySelect{i}\").value;var board{i} = Chessboard('myBoard{i}',{{showNotation: false}});var query{i} = Chessboard('query{i}',{{position: '{query[i]}',showNotation: false}});function myFunction{i}() {{var infos = document.getElementById(\"mySelect{i}\").value;var position = infos.split(\"|\")[0];var distance = infos.split(\"|\")[1];board{i}.position(position);document.getElementById(\"dist{i}\").innerHTML = distance;}}'''\n",
    "html += '''</script>'''\n",
    "HTML(html)"
   ]
  },
  {
   "cell_type": "markdown",
   "metadata": {},
   "source": [
    "### Embeddings"
   ]
  },
  {
   "cell_type": "code",
   "execution_count": null,
   "metadata": {},
   "outputs": [],
   "source": [
    "import pickle\n",
    "D = pickle.load(D, open('examples/example_embedding_distances.p','rb'))\n",
    "bitboards_fen = pickle.load(open('examples/example_embeddings.p','rb'))"
   ]
  },
  {
   "cell_type": "code",
   "execution_count": null,
   "metadata": {
    "scrolled": false
   },
   "outputs": [],
   "source": [
    "from IPython.display import HTML\n",
    "html = '''<link rel=\"stylesheet\" href=\"https://unpkg.com/@chrisoakman/chessboardjs@1.0.0/dist/chessboard-1.0.0.min.css\" integrity=\"sha384-q94+BZtLrkL1/ohfjR8c6L+A6qzNH9R2hBLwyoAfu3i/WCvQjzL2RQJ3uNHDISdU\" crossorigin=\"anonymous\"><table>'''\n",
    "for i in range(len(bitboards_fen)):\n",
    "    html += f'''<tr><td>Your Query Position {i}</td><td><span>Distance between query and </span><select id=\"mySelectEmb{i}\" onchange=\"myFunctionEmb{i}()\">'''\n",
    "    for j in range(search_results):\n",
    "        html += f'''<option value='{bitboards_fen[i][j]}|{D[i][j]}'>Similar Position {j}</option>'''\n",
    "    html += f'''</select><span> is </span><span id=\"distEmb{i}\">0</span><span>.</span></td></tr><tr><td><div id=\"queryEmb{i}\" style=\"width: 400px\"></div></td><td><div id=\"myBoardEmb{i}\" style=\"width: 400px\"></div></td></tr>'''\n",
    "html += '''</table><script src=\"https://unpkg.com/@chrisoakman/chessboardjs@1.0.0/dist/chessboard-1.0.0.min.js\" integrity=\"sha384-8Vi8VHwn3vjQ9eUHUxex3JSN/NFqUg3QbPyX8kWyb93+8AC/pPWTzj+nHtbC5bxD\" crossorigin=\"anonymous\"></script><script>'''\n",
    "for i in range(len(bitboards_fen)):\n",
    "    html += f'''var pos{i} = document.getElementById(\"mySelectEmb{i}\").value;var board{i} = Chessboard('myBoardEmb{i}',{{showNotation: false}});var query{i} = Chessboard('queryEmb{i}',{{position: '{query[i]}',showNotation: false}});function myFunctionEmb{i}() {{var infos = document.getElementById(\"mySelectEmb{i}\").value;var position = infos.split(\"|\")[0];var distance = parseFloat(infos.split(\"|\")[1]).toFixed(2);board{i}.position(position);document.getElementById(\"distEmb{i}\").innerHTML = distance;}}'''\n",
    "html += '''</script>'''\n",
    "HTML(html)"
   ]
  },
  {
   "cell_type": "markdown",
   "metadata": {},
   "source": [
    "## Concluding remaks"
   ]
  },
  {
   "cell_type": "markdown",
   "metadata": {},
   "source": [
    "Here we looked at searches on a larger bitboard database in comparison to searches on a larger embedding database.\n",
    "\n",
    "The constraining factor is the available RAM and here we are constrained to roughly 10 GB. The performance of embedding search is ambivalent. Although surprisingly good in many cases it fails in endgame positions and in positions with imbalanced material. Both may partially be attributed to the lack of similar games in the training/serach set. Where available embedding search confidently matches the exact position, however sometimes positions are different and difficult to judge.\n",
    "\n",
    "The results suggests that a combined bitboard/embedding search might yield superior results. But remark that the embedding search results are already good and that it's memory footprint is tiny."
   ]
  },
  {
   "cell_type": "code",
   "execution_count": null,
   "metadata": {},
   "outputs": [],
   "source": []
  }
 ],
 "metadata": {
  "file_extension": ".py",
  "kernelspec": {
   "display_name": "Python 3.7.6 64-bit ('pos-emb': conda)",
   "language": "python",
   "name": "python37664bitposembcondafe902e4f67854e6d98f2a8ceedfcf887"
  },
  "language_info": {
   "codemirror_mode": {
    "name": "ipython",
    "version": 3
   },
   "file_extension": ".py",
   "mimetype": "text/x-python",
   "name": "python",
   "nbconvert_exporter": "python",
   "pygments_lexer": "ipython3",
   "version": "3.7.6"
  },
  "mimetype": "text/x-python",
  "name": "python",
  "npconvert_exporter": "python",
  "pygments_lexer": "ipython3",
  "version": 3
 },
 "nbformat": 4,
 "nbformat_minor": 2
}