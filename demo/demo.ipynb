{
 "cells": [
  {
   "cell_type": "markdown",
   "metadata": {},
   "source": [
    "# Query a pre-built database of chess positions\n",
    "\n",
    "This demo shows you how to search a pre-bulit database of chess positions for positions that are similar to your own query position."
   ]
  },
  {
   "cell_type": "markdown",
   "metadata": {},
   "source": [
    "### Enter your query\n",
    "\n",
    "First you need to specify the position for which you want to find similar positions for. Use the widget in the following cell to set up a board and then press the *Export Position as White* button if it is White's turn and *Export Position as Black* button if it is Blacks's turn."
   ]
  },
  {
   "cell_type": "code",
   "execution_count": null,
   "metadata": {},
   "outputs": [],
   "source": [
    "%%html\n",
    "<style>\n",
    ".spare-pieces-7492f img {\n",
    "    display: inline-block\n",
    "}\n",
    "</style>\n",
    "\n",
    "<link rel=\"stylesheet\" href=\"https://unpkg.com/@chrisoakman/chessboardjs@1.0.0/dist/chessboard-1.0.0.min.css\" integrity=\"sha384-q94+BZtLrkL1/ohfjR8c6L+A6qzNH9R2hBLwyoAfu3i/WCvQjzL2RQJ3uNHDISdU\" crossorigin=\"anonymous\">\n",
    "\n",
    "<div id=\"myBoard\" style=\"width: 400px\"></div>\n",
    "<button id=\"startBtn\">Start Position</button>\n",
    "<button id=\"clearBtn\">Clear Board</button>\n",
    "<button id=\"exportWhite\">Export Position as White</button>\n",
    "<button id=\"exportBlack\">Export Position as Black</button>\n",
    "\n",
    "<script src=\"https://unpkg.com/@chrisoakman/chessboardjs@1.0.0/dist/chessboard-1.0.0.min.js\" integrity=\"sha384-8Vi8VHwn3vjQ9eUHUxex3JSN/NFqUg3QbPyX8kWyb93+8AC/pPWTzj+nHtbC5bxD\" crossorigin=\"anonymous\"></script>\n",
    "\n",
    "<script>\n",
    "var board = Chessboard('myBoard', {\n",
    "  draggable: true,\n",
    "  dropOffBoard: 'trash',\n",
    "  sparePieces: true\n",
    "});\n",
    "var fen = undefined;\n",
    "document.getElementById('startBtn').onclick = board.start;\n",
    "document.getElementById('clearBtn').onclick = board.clear;\n",
    "document.getElementById('exportWhite').onclick = function(){\n",
    "    var fen = board.fen();\n",
    "    IPython.notebook.kernel.execute(\"fen='\"+fen+\" w'\");\n",
    "};\n",
    "document.getElementById('exportBlack').onclick = function(){\n",
    "    var fen = board.fen();\n",
    "    IPython.notebook.kernel.execute(\"fen='\"+fen+\" b'\");\n",
    "};\n",
    "</script>"
   ]
  },
  {
   "cell_type": "code",
   "execution_count": null,
   "metadata": {},
   "outputs": [],
   "source": [
    "print(f\"The fen string of your position is: {fen}\")"
   ]
  },
  {
   "cell_type": "markdown",
   "metadata": {},
   "source": [
    "**Alternatively** if the widget above does not work you can visit [lichess.org](https://lichess.org/editor) retrieve the fen string of your position there and then paste it in the cell below."
   ]
  },
  {
   "cell_type": "code",
   "execution_count": 1,
   "metadata": {},
   "outputs": [],
   "source": [
    "'''\n",
    "Execute this cell if you don't want to use the widget above.\n",
    "Replace the example fen string with your own.\n",
    "'''\n",
    "fen = \"rnbqkbnr/pppppppp/8/8/8/8/PPPPPPPP/RNBQKBNR w KQkq - 0 1\""
   ]
  },
  {
   "cell_type": "markdown",
   "metadata": {},
   "source": [
    "### Load the database of chess positions"
   ]
  },
  {
   "cell_type": "code",
   "execution_count": 2,
   "metadata": {},
   "outputs": [],
   "source": [
    "import faiss\n",
    "import sys\n",
    "import os\n",
    "sys.path.insert(1, os.path.join(sys.path[0], '..'))\n",
    "from searchpos import *"
   ]
  },
  {
   "cell_type": "markdown",
   "metadata": {},
   "source": [
    "Load the database into memory. *You need more than 1.6GB of RAM.*"
   ]
  },
  {
   "cell_type": "code",
   "execution_count": 3,
   "metadata": {},
   "outputs": [],
   "source": [
    "filepath = \"../data/test.faiss\"\n",
    "index = index_load(filepath, is_binary=True)"
   ]
  },
  {
   "cell_type": "markdown",
   "metadata": {},
   "source": [
    "Prepare the search query"
   ]
  },
  {
   "cell_type": "code",
   "execution_count": 9,
   "metadata": {},
   "outputs": [],
   "source": [
    "search_results = 10\n",
    "query = [fen]"
   ]
  },
  {
   "cell_type": "code",
   "execution_count": 10,
   "metadata": {},
   "outputs": [
    {
     "name": "stdout",
     "output_type": "stream",
     "text": [
      "\n",
      " (97,)\n"
     ]
    }
   ],
   "source": [
    "dist, reconstructed = index_query_positions(query, index, input_format='fen', output_format='board',\n",
    "                                            num_results=search_results)"
   ]
  },
  {
   "cell_type": "code",
   "execution_count": 6,
   "metadata": {},
   "outputs": [
    {
     "name": "stdout",
     "output_type": "stream",
     "text": [
      "[[2 2 2 2 2 2 2 2 2 2]]\n"
     ]
    }
   ],
   "source": [
    "print(dist)"
   ]
  },
  {
   "cell_type": "code",
   "execution_count": 57,
   "metadata": {},
   "outputs": [
    {
     "name": "stdout",
     "output_type": "stream",
     "text": [
      "Result 0 (best to worst)\n",
      "rnbqkbnr/ppp1pppp/8/8/3p4/8/PPPPPPPP/RNBQKBNR w KQkq - 0 1\n",
      "Result 1 (best to worst)\n",
      "rnbqkbnr/pppppppp/8/4P3/8/8/PPPP1PPP/RNBQKBNR w KQkq - 0 1\n",
      "Result 2 (best to worst)\n",
      "rnbqkbnr/pppppppp/8/4P3/8/8/PPPP1PPP/RNBQKBNR w KQkq - 0 1\n",
      "Result 3 (best to worst)\n",
      "rnbqkbnr/pppppppp/8/4P3/8/8/PPPP1PPP/RNBQKBNR w KQkq - 0 1\n",
      "Result 4 (best to worst)\n",
      "rnbqkbnr/pppppppp/8/4P3/8/8/PPPP1PPP/RNBQKBNR w KQkq - 0 1\n",
      "Result 5 (best to worst)\n",
      "rnbqkbnr/pppppppp/8/4P3/8/8/PPPP1PPP/RNBQKBNR w KQkq - 0 1\n",
      "Result 6 (best to worst)\n",
      "rnbqkbnr/pppppppp/8/4P3/8/8/PPPP1PPP/RNBQKBNR w KQkq - 0 1\n",
      "Result 7 (best to worst)\n",
      "rnbqkbnr/pppppppp/8/3P4/8/8/PPP1PPPP/RNBQKBNR w KQkq - 0 1\n",
      "Result 8 (best to worst)\n",
      "rnbqkb1r/pppppppp/8/8/4n3/8/PPPPPPPP/RNBQKBNR w KQkq - 0 1\n",
      "Result 9 (best to worst)\n",
      "rnbqkbnr/pppppppp/8/4P3/8/8/PPPP1PPP/RNBQKBNR w KQkq - 0 1\n"
     ]
    }
   ],
   "source": [
    "for i in range(len(reconstructed)):\n",
    "    for j in range(search_results):\n",
    "        print(f\"Result {j} (best to worst)\")\n",
    "        print(reconstructed[i][j].fen())"
   ]
  },
  {
   "cell_type": "code",
   "execution_count": 59,
   "metadata": {},
   "outputs": [
    {
     "data": {
      "text/html": [
       "\n",
       "<link rel=\"stylesheet\" href=\"https://unpkg.com/@chrisoakman/chessboardjs@1.0.0/dist/chessboard-1.0.0.min.css\" integrity=\"sha384-q94+BZtLrkL1/ohfjR8c6L+A6qzNH9R2hBLwyoAfu3i/WCvQjzL2RQJ3uNHDISdU\" crossorigin=\"anonymous\">\n",
       "<table>\n",
       "  <tr>\n",
       "    <td>Your Query Position</td>\n",
       "    <td>\n",
       "      <select id=\"mySelect\" onchange=\"myFunction()\">\n",
       "<option value='rnbqkbnr/ppp1pppp/8/8/3p4/8/PPPPPPPP/RNBQKBNR w KQkq - 0 1'>Position 0</option><option value='rnbqkbnr/pppppppp/8/4P3/8/8/PPPP1PPP/RNBQKBNR w KQkq - 0 1'>Position 1</option><option value='rnbqkbnr/pppppppp/8/4P3/8/8/PPPP1PPP/RNBQKBNR w KQkq - 0 1'>Position 2</option><option value='rnbqkbnr/pppppppp/8/4P3/8/8/PPPP1PPP/RNBQKBNR w KQkq - 0 1'>Position 3</option><option value='rnbqkbnr/pppppppp/8/4P3/8/8/PPPP1PPP/RNBQKBNR w KQkq - 0 1'>Position 4</option><option value='rnbqkbnr/pppppppp/8/4P3/8/8/PPPP1PPP/RNBQKBNR w KQkq - 0 1'>Position 5</option><option value='rnbqkbnr/pppppppp/8/4P3/8/8/PPPP1PPP/RNBQKBNR w KQkq - 0 1'>Position 6</option><option value='rnbqkbnr/pppppppp/8/3P4/8/8/PPP1PPPP/RNBQKBNR w KQkq - 0 1'>Position 7</option><option value='rnbqkb1r/pppppppp/8/8/4n3/8/PPPPPPPP/RNBQKBNR w KQkq - 0 1'>Position 8</option><option value='rnbqkbnr/pppppppp/8/4P3/8/8/PPPP1PPP/RNBQKBNR w KQkq - 0 1'>Position 9</option>\n",
       "      </select>\n",
       "    </td>\n",
       "  </tr>\n",
       "  <tr>\n",
       "    <td><div id=\"query\" style=\"width: 400px\"></div></td>\n",
       "    <td><div id=\"myBoard\" style=\"width: 400px\"></div></td>\n",
       "  </tr>\n",
       "</table>\n",
       "\n",
       "<script src=\"https://unpkg.com/@chrisoakman/chessboardjs@1.0.0/dist/chessboard-1.0.0.min.js\" integrity=\"sha384-8Vi8VHwn3vjQ9eUHUxex3JSN/NFqUg3QbPyX8kWyb93+8AC/pPWTzj+nHtbC5bxD\" crossorigin=\"anonymous\"></script>\n",
       "\n",
       "<script>\n",
       "var pos = document.getElementById(\"mySelect\").value;\n",
       "var board = Chessboard('myBoard',{showNotation: false});\n",
       "var query = Chessboard('query',{\n",
       "  position: 'r1bqkbnr/pppp1ppp/2n5/1B2p3/4P3/5N2/PPPP1PPP/RNBQK2R',\n",
       "  showNotation: false\n",
       "});\n",
       "\n",
       "function myFunction() {\n",
       "  var pos = document.getElementById(\"mySelect\").value;\n",
       "  console.log(pos);\n",
       "  board.position(pos);\n",
       "}\n",
       "</script>\n"
      ],
      "text/plain": [
       "<IPython.core.display.HTML object>"
      ]
     },
     "execution_count": 59,
     "metadata": {},
     "output_type": "execute_result"
    }
   ],
   "source": [
    "from IPython.display import HTML\n",
    "html = '''\n",
    "<link rel=\"stylesheet\" href=\"https://unpkg.com/@chrisoakman/chessboardjs@1.0.0/dist/chessboard-1.0.0.min.css\" integrity=\"sha384-q94+BZtLrkL1/ohfjR8c6L+A6qzNH9R2hBLwyoAfu3i/WCvQjzL2RQJ3uNHDISdU\" crossorigin=\"anonymous\">\n",
    "<table>\n",
    "  <tr>\n",
    "    <td>Your Query Position</td>\n",
    "    <td>\n",
    "      <select id=\"mySelect\" onchange=\"myFunction()\">\n",
    "'''\n",
    "for i in range(len(reconstructed)):\n",
    "    for j in range(search_results):\n",
    "        html += \"<option value='\"+reconstructed[i][j].fen()+\"'>Position \"+str(j)+\"</option>\"\n",
    "\n",
    "html += '''\n",
    "      </select>\n",
    "    </td>\n",
    "  </tr>\n",
    "  <tr>\n",
    "    <td><div id=\"query\" style=\"width: 400px\"></div></td>\n",
    "    <td><div id=\"myBoard\" style=\"width: 400px\"></div></td>\n",
    "  </tr>\n",
    "</table>\n",
    "\n",
    "<script src=\"https://unpkg.com/@chrisoakman/chessboardjs@1.0.0/dist/chessboard-1.0.0.min.js\" integrity=\"sha384-8Vi8VHwn3vjQ9eUHUxex3JSN/NFqUg3QbPyX8kWyb93+8AC/pPWTzj+nHtbC5bxD\" crossorigin=\"anonymous\"></script>\n",
    "\n",
    "<script>\n",
    "var pos = document.getElementById(\"mySelect\").value;\n",
    "var board = Chessboard('myBoard',{showNotation: false});\n",
    "var query = Chessboard('query',{\n",
    "  position: 'r1bqkbnr/pppp1ppp/2n5/1B2p3/4P3/5N2/PPPP1PPP/RNBQK2R',\n",
    "  showNotation: false\n",
    "});\n",
    "\n",
    "function myFunction() {\n",
    "  var pos = document.getElementById(\"mySelect\").value;\n",
    "  console.log(pos);\n",
    "  board.position(pos);\n",
    "}\n",
    "</script>\n",
    "'''\n",
    "HTML(html)"
   ]
  },
  {
   "cell_type": "code",
   "execution_count": 41,
   "metadata": {},
   "outputs": [
    {
     "data": {
      "text/plain": [
       "['r',\n",
       " 'n',\n",
       " 'b',\n",
       " 'q',\n",
       " 'k',\n",
       " 'b',\n",
       " 'n',\n",
       " 'r\\np',\n",
       " 'p',\n",
       " 'p',\n",
       " 'p',\n",
       " 'p',\n",
       " 'p',\n",
       " 'p',\n",
       " 'p\\n.',\n",
       " '.',\n",
       " '.',\n",
       " '.',\n",
       " '.',\n",
       " '.',\n",
       " '.',\n",
       " '.\\n.',\n",
       " '.',\n",
       " '.',\n",
       " '.',\n",
       " '.',\n",
       " '.',\n",
       " '.',\n",
       " '.\\n.',\n",
       " '.',\n",
       " '.',\n",
       " '.',\n",
       " '.',\n",
       " '.',\n",
       " '.',\n",
       " '.\\n.',\n",
       " '.',\n",
       " '.',\n",
       " '.',\n",
       " '.',\n",
       " '.',\n",
       " '.',\n",
       " '.\\nP',\n",
       " 'P',\n",
       " 'P',\n",
       " 'P',\n",
       " 'P',\n",
       " 'P',\n",
       " 'P',\n",
       " 'P\\nR',\n",
       " 'N',\n",
       " 'B',\n",
       " 'Q',\n",
       " 'K',\n",
       " 'B',\n",
       " 'N',\n",
       " 'R']"
      ]
     },
     "execution_count": 41,
     "metadata": {},
     "output_type": "execute_result"
    }
   ],
   "source": [
    "import chess\n",
    "str(chess.Board()).split(' ')"
   ]
  },
  {
   "cell_type": "code",
   "execution_count": null,
   "metadata": {},
   "outputs": [],
   "source": []
  }
 ],
 "metadata": {
  "file_extension": ".py",
  "kernelspec": {
   "display_name": "Python 3.7.6 64-bit ('pos-emb': conda)",
   "language": "python",
   "name": "python37664bitposembcondafe902e4f67854e6d98f2a8ceedfcf887"
  },
  "language_info": {
   "codemirror_mode": {
    "name": "ipython",
    "version": 3
   },
   "file_extension": ".py",
   "mimetype": "text/x-python",
   "name": "python",
   "nbconvert_exporter": "python",
   "pygments_lexer": "ipython3",
   "version": "3.7.6"
  },
  "mimetype": "text/x-python",
  "name": "python",
  "npconvert_exporter": "python",
  "pygments_lexer": "ipython3",
  "version": 3
 },
 "nbformat": 4,
 "nbformat_minor": 2
}
