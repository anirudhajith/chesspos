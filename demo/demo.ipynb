{
 "cells": [
  {
   "cell_type": "markdown",
   "metadata": {},
   "source": [
    "# Query a pre-built database of chess positions\n",
    "\n",
    "This demo shows you how to search a pre-bulit database of chess positions for positions that are similar to your own query position."
   ]
  },
  {
   "cell_type": "markdown",
   "metadata": {},
   "source": [
    "### Enter your query\n",
    "\n",
    "First you need to specify the position for which you want to find similar positions for. Use the widget in the following cell to set up a board and then press the *Export Position as White* button if it is White's turn and *Export Position as Black* button if it is Blacks's turn."
   ]
  },
  {
   "cell_type": "code",
   "execution_count": null,
   "metadata": {},
   "outputs": [],
   "source": [
    "%%html\n",
    "<style>\n",
    ".spare-pieces-7492f img {\n",
    "    display: inline-block\n",
    "}\n",
    "</style>\n",
    "\n",
    "<link rel=\"stylesheet\" href=\"https://unpkg.com/@chrisoakman/chessboardjs@1.0.0/dist/chessboard-1.0.0.min.css\" integrity=\"sha384-q94+BZtLrkL1/ohfjR8c6L+A6qzNH9R2hBLwyoAfu3i/WCvQjzL2RQJ3uNHDISdU\" crossorigin=\"anonymous\">\n",
    "\n",
    "<div id=\"myBoard\" style=\"width: 400px\"></div>\n",
    "<button id=\"startBtn\">Start Position</button>\n",
    "<button id=\"clearBtn\">Clear Board</button>\n",
    "<button id=\"exportWhite\">Export Position as White</button>\n",
    "<button id=\"exportBlack\">Export Position as Black</button>\n",
    "\n",
    "<script src=\"https://unpkg.com/@chrisoakman/chessboardjs@1.0.0/dist/chessboard-1.0.0.min.js\" integrity=\"sha384-8Vi8VHwn3vjQ9eUHUxex3JSN/NFqUg3QbPyX8kWyb93+8AC/pPWTzj+nHtbC5bxD\" crossorigin=\"anonymous\"></script>\n",
    "\n",
    "<script>\n",
    "var board = Chessboard('myBoard', {\n",
    "  draggable: true,\n",
    "  dropOffBoard: 'trash',\n",
    "  sparePieces: true\n",
    "});\n",
    "var fen = undefined;\n",
    "document.getElementById('startBtn').onclick = board.start;\n",
    "document.getElementById('clearBtn').onclick = board.clear;\n",
    "document.getElementById('exportWhite').onclick = function(){\n",
    "    var fen = board.fen();\n",
    "    IPython.notebook.kernel.execute(\"fen='\"+fen+\" w'\");\n",
    "};\n",
    "document.getElementById('exportBlack').onclick = function(){\n",
    "    var fen = board.fen();\n",
    "    IPython.notebook.kernel.execute(\"fen='\"+fen+\" b'\");\n",
    "};\n",
    "</script>"
   ]
  },
  {
   "cell_type": "code",
   "execution_count": null,
   "metadata": {},
   "outputs": [],
   "source": [
    "print(f\"The fen string of your position is: {fen}\")"
   ]
  },
  {
   "cell_type": "markdown",
   "metadata": {},
   "source": [
    "**Alternatively** if the widget above does not work you can visit [lichess.org](https://lichess.org/editor) retrieve the fen string of your position there and then paste it in the cell below."
   ]
  },
  {
   "cell_type": "code",
   "execution_count": 11,
   "metadata": {},
   "outputs": [],
   "source": [
    "'''\n",
    "Execute this cell if you don't want to use the widget above.\n",
    "Replace the example fen string with your own.\n",
    "'''\n",
    "fen = \"rnbq1rk1/pp2bppp/2p1pn2/4N1B1/2pP4/2N3P1/PP2PPBP/R2Q1RK1 b Qq - 0 1\""
   ]
  },
  {
   "cell_type": "markdown",
   "metadata": {},
   "source": [
    "### Load the database of chess positions"
   ]
  },
  {
   "cell_type": "code",
   "execution_count": 5,
   "metadata": {},
   "outputs": [],
   "source": [
    "import faiss\n",
    "import sys\n",
    "import os\n",
    "sys.path.insert(1, os.path.join(sys.path[0], '..'))\n",
    "from searchpos import *"
   ]
  },
  {
   "cell_type": "markdown",
   "metadata": {},
   "source": [
    "Load the database into memory. *You need more than 1.6GB of RAM.*"
   ]
  },
  {
   "cell_type": "code",
   "execution_count": 6,
   "metadata": {},
   "outputs": [],
   "source": [
    "filepath = \"../data/test.faiss\"\n",
    "index = index_load(filepath, is_binary=True)"
   ]
  },
  {
   "cell_type": "markdown",
   "metadata": {},
   "source": [
    "Prepare the search query"
   ]
  },
  {
   "cell_type": "code",
   "execution_count": 32,
   "metadata": {},
   "outputs": [],
   "source": [
    "search_results = 10\n",
    "query = [fen,\"r1k4r/p2nb1p1/2b4p/1p1n1p2/2PP4/3Q1NB1/1P3PPP/R5K1 w - - 0 1\"]"
   ]
  },
  {
   "cell_type": "markdown",
   "metadata": {},
   "source": [
    "Search database and retrieve most similar positions"
   ]
  },
  {
   "cell_type": "code",
   "execution_count": 33,
   "metadata": {},
   "outputs": [
    {
     "name": "stdout",
     "output_type": "stream",
     "text": [
      "\n",
      " (2, 97)\n"
     ]
    }
   ],
   "source": [
    "dist, reconstructed = index_query_positions(query, index, input_format='fen', output_format='board',\n",
    "                                            num_results=search_results)"
   ]
  },
  {
   "cell_type": "code",
   "execution_count": 34,
   "metadata": {},
   "outputs": [
    {
     "name": "stdout",
     "output_type": "stream",
     "text": [
      "[[ 4  6  6  7  7  7  7  7  7  7]\n",
      " [14 14 15 15 15 15 15 15 16 16]]\n"
     ]
    }
   ],
   "source": [
    "print(dist)"
   ]
  },
  {
   "cell_type": "code",
   "execution_count": 36,
   "metadata": {},
   "outputs": [
    {
     "data": {
      "text/html": [
       "\n",
       "<link rel=\"stylesheet\" href=\"https://unpkg.com/@chrisoakman/chessboardjs@1.0.0/dist/chessboard-1.0.0.min.css\" integrity=\"sha384-q94+BZtLrkL1/ohfjR8c6L+A6qzNH9R2hBLwyoAfu3i/WCvQjzL2RQJ3uNHDISdU\" crossorigin=\"anonymous\">\n",
       "<table>\n",
       "\n",
       "  <tr>\n",
       "    <td>Your Query Position 0</td>\n",
       "    <td>\n",
       "      <select id=\"mySelect0\" onchange=\"myFunction0()\">\n",
       "<option value='rnbq1rk1/pp2bppp/2p1pn2/4N3/2pP4/2N3P1/PP2PPBP/R1BQ1RK1 b - - 0 1'>Similar Position 0</option><option value='rnbq1rk1/pp3ppp/2pbpn2/6B1/2pP4/2N2NP1/PP2PPBP/R2Q1RK1 b - - 0 1'>Similar Position 1</option><option value='rnbq1rk1/pp2bppp/2p1pn2/8/2pP4/2N3P1/PP1NPPBP/R1BQ1RK1 b - - 0 1'>Similar Position 2</option><option value='rnbq1rk1/pp2bppp/2p1pn2/4N3/2pP4/6P1/PP2PPBP/RNBQ1RK1 w - - 0 1'>Similar Position 3</option><option value='rnbq1rk1/pp2bppp/2p1pn2/8/2pP4/2N2NP1/PP2PPBP/R1BQ1RK1 w - - 0 1'>Similar Position 4</option><option value='rnbq1rk1/pp2bppp/2p1pn2/4N3/2pP4/6P1/PP2PPBP/RNBQ1RK1 w - - 0 1'>Similar Position 5</option><option value='rnbq1rk1/pp2bppp/2p1pn2/8/2pP4/2N2NP1/PP2PPBP/R1BQ1RK1 w - - 0 1'>Similar Position 6</option><option value='rnbq1rk1/pp2bppp/2p1pn2/4N3/2pP4/6P1/PP2PPBP/RNBQ1RK1 w - - 0 1'>Similar Position 7</option><option value='rnbq1rk1/pp2bppp/2p1pn2/8/2pP4/2N2NP1/PP2PPBP/R1BQ1RK1 w - - 0 1'>Similar Position 8</option><option value='r1bq1rk1/pp2bppp/1np1pn2/4N3/3P4/2N3P1/PP2PPBP/R1BQ1RK1 b - - 0 1'>Similar Position 9</option>\n",
       "      </select>\n",
       "    </td>\n",
       "  </tr>\n",
       "  <tr>\n",
       "    <td><div id=\"query0\" style=\"width: 400px\"></div></td>\n",
       "    <td><div id=\"myBoard0\" style=\"width: 400px\"></div></td>\n",
       "  </tr>\n",
       "\n",
       "  <tr>\n",
       "    <td>Your Query Position 1</td>\n",
       "    <td>\n",
       "      <select id=\"mySelect1\" onchange=\"myFunction1()\">\n",
       "<option value='rnbq1rk1/pp2bppp/2p1pn2/4N3/2pP4/2N3P1/PP2PPBP/R1BQ1RK1 b - - 0 1'>Similar Position 0</option><option value='rnbq1rk1/pp3ppp/2pbpn2/6B1/2pP4/2N2NP1/PP2PPBP/R2Q1RK1 b - - 0 1'>Similar Position 1</option><option value='rnbq1rk1/pp2bppp/2p1pn2/8/2pP4/2N3P1/PP1NPPBP/R1BQ1RK1 b - - 0 1'>Similar Position 2</option><option value='rnbq1rk1/pp2bppp/2p1pn2/4N3/2pP4/6P1/PP2PPBP/RNBQ1RK1 w - - 0 1'>Similar Position 3</option><option value='rnbq1rk1/pp2bppp/2p1pn2/8/2pP4/2N2NP1/PP2PPBP/R1BQ1RK1 w - - 0 1'>Similar Position 4</option><option value='rnbq1rk1/pp2bppp/2p1pn2/4N3/2pP4/6P1/PP2PPBP/RNBQ1RK1 w - - 0 1'>Similar Position 5</option><option value='rnbq1rk1/pp2bppp/2p1pn2/8/2pP4/2N2NP1/PP2PPBP/R1BQ1RK1 w - - 0 1'>Similar Position 6</option><option value='rnbq1rk1/pp2bppp/2p1pn2/4N3/2pP4/6P1/PP2PPBP/RNBQ1RK1 w - - 0 1'>Similar Position 7</option><option value='rnbq1rk1/pp2bppp/2p1pn2/8/2pP4/2N2NP1/PP2PPBP/R1BQ1RK1 w - - 0 1'>Similar Position 8</option><option value='r1bq1rk1/pp2bppp/1np1pn2/4N3/3P4/2N3P1/PP2PPBP/R1BQ1RK1 b - - 0 1'>Similar Position 9</option>\n",
       "      </select>\n",
       "    </td>\n",
       "  </tr>\n",
       "  <tr>\n",
       "    <td><div id=\"query1\" style=\"width: 400px\"></div></td>\n",
       "    <td><div id=\"myBoard1\" style=\"width: 400px\"></div></td>\n",
       "  </tr>\n",
       "\n",
       "</table>\n",
       "\n",
       "<script src=\"https://unpkg.com/@chrisoakman/chessboardjs@1.0.0/dist/chessboard-1.0.0.min.js\" integrity=\"sha384-8Vi8VHwn3vjQ9eUHUxex3JSN/NFqUg3QbPyX8kWyb93+8AC/pPWTzj+nHtbC5bxD\" crossorigin=\"anonymous\"></script>\n",
       "\n",
       "<script>\n",
       "\n",
       "var pos0 = document.getElementById(\"mySelect0\").value;\n",
       "var board0 = Chessboard('myBoard0',{showNotation: false});\n",
       "var query0 = Chessboard('query0',{\n",
       "  position: 'rnbq1rk1/pp2bppp/2p1pn2/4N1B1/2pP4/2N3P1/PP2PPBP/R2Q1RK1 b Qq - 0 1',\n",
       "  showNotation: false\n",
       "});\n",
       "\n",
       "function myFunction0() {\n",
       "  var position = document.getElementById(\"mySelect0\").value;\n",
       "  board0.position(position);\n",
       "}\n",
       "\n",
       "var pos1 = document.getElementById(\"mySelect1\").value;\n",
       "var board1 = Chessboard('myBoard1',{showNotation: false});\n",
       "var query1 = Chessboard('query1',{\n",
       "  position: 'r1k4r/p2nb1p1/2b4p/1p1n1p2/2PP4/3Q1NB1/1P3PPP/R5K1 w - - 0 1',\n",
       "  showNotation: false\n",
       "});\n",
       "\n",
       "function myFunction1() {\n",
       "  var position = document.getElementById(\"mySelect1\").value;\n",
       "  board1.position(position);\n",
       "}\n",
       "\n",
       "</script>\n"
      ],
      "text/plain": [
       "<IPython.core.display.HTML object>"
      ]
     },
     "execution_count": 36,
     "metadata": {},
     "output_type": "execute_result"
    }
   ],
   "source": [
    "from IPython.display import HTML\n",
    "html = '''\n",
    "<link rel=\"stylesheet\" href=\"https://unpkg.com/@chrisoakman/chessboardjs@1.0.0/dist/chessboard-1.0.0.min.css\" integrity=\"sha384-q94+BZtLrkL1/ohfjR8c6L+A6qzNH9R2hBLwyoAfu3i/WCvQjzL2RQJ3uNHDISdU\" crossorigin=\"anonymous\">\n",
    "<table>\n",
    "'''\n",
    "for i in range(len(reconstructed)):\n",
    "    html += f'''\n",
    "  <tr>\n",
    "    <td>Your Query Position {i}</td>\n",
    "    <td>\n",
    "      <select id=\"mySelect{i}\" onchange=\"myFunction{i}()\">\n",
    "'''\n",
    "    for j in range(search_results):\n",
    "        html += f'''<option value='{reconstructed[0][j].fen()}'>Similar Position {j}</option>'''\n",
    "    html += f'''\n",
    "      </select>\n",
    "    </td>\n",
    "  </tr>\n",
    "  <tr>\n",
    "    <td><div id=\"query{i}\" style=\"width: 400px\"></div></td>\n",
    "    <td><div id=\"myBoard{i}\" style=\"width: 400px\"></div></td>\n",
    "  </tr>\n",
    "'''\n",
    "html += '''\n",
    "</table>\n",
    "\n",
    "<script src=\"https://unpkg.com/@chrisoakman/chessboardjs@1.0.0/dist/chessboard-1.0.0.min.js\" integrity=\"sha384-8Vi8VHwn3vjQ9eUHUxex3JSN/NFqUg3QbPyX8kWyb93+8AC/pPWTzj+nHtbC5bxD\" crossorigin=\"anonymous\"></script>\n",
    "\n",
    "<script>\n",
    "'''\n",
    "for i in range(len(reconstructed)):\n",
    "    html += f'''\n",
    "var pos{i} = document.getElementById(\"mySelect{i}\").value;\n",
    "var board{i} = Chessboard('myBoard{i}',{{showNotation: false}});\n",
    "var query{i} = Chessboard('query{i}',{{\n",
    "  position: '{query[i]}',\n",
    "  showNotation: false\n",
    "}});\n",
    "\n",
    "function myFunction{i}() {{\n",
    "  var position = document.getElementById(\"mySelect{i}\").value;\n",
    "  board{i}.position(position);\n",
    "}}\n",
    "'''\n",
    "html += '''\n",
    "</script>\n",
    "'''\n",
    "HTML(html)"
   ]
  },
  {
   "cell_type": "code",
   "execution_count": null,
   "metadata": {},
   "outputs": [],
   "source": []
  }
 ],
 "metadata": {
  "file_extension": ".py",
  "kernelspec": {
   "display_name": "Python 3.7.6 64-bit ('pos-emb': conda)",
   "language": "python",
   "name": "python37664bitposembcondafe902e4f67854e6d98f2a8ceedfcf887"
  },
  "language_info": {
   "codemirror_mode": {
    "name": "ipython",
    "version": 3
   },
   "file_extension": ".py",
   "mimetype": "text/x-python",
   "name": "python",
   "nbconvert_exporter": "python",
   "pygments_lexer": "ipython3",
   "version": "3.7.6"
  },
  "mimetype": "text/x-python",
  "name": "python",
  "npconvert_exporter": "python",
  "pygments_lexer": "ipython3",
  "version": 3
 },
 "nbformat": 4,
 "nbformat_minor": 2
}
